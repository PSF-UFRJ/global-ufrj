{
 "cells": [
  {
   "cell_type": "markdown",
   "id": "5102a082",
   "metadata": {},
   "source": [
    "## Região de Estabilidade do Método RK4\n",
    "\n",
    "Vamos considerar o problema escalar padrão para a análise de estabilidade:\n",
    "\n",
    "$ \\frac{du}{dt} = \\lambda u \\Rightarrow \\int \\frac{du}{u} = \\int \\lambda dt \\Rightarrow \\ln u = \\lambda t + c \\Rightarrow u(t) = ce^{\\lambda t}, f(t, u) = \\lambda u$\n",
    "\n",
    "Para o método de Runge-Kutta, temos:\n",
    "\n",
    "$$ u_{n+1} = u_n + \\frac{h}{6}(k_1 + 2k_2 + 2k_3 + k_4) $$\n",
    "\n",
    "Tal que:\n",
    "\n",
    "$$ k_1 = f(t_n, u_n) = f_n \\\\\n",
    "k_2 = f\\left(t_n + \\frac{h}{2}, u_n + \\frac{h k_1}{2}\\right) \\\\\n",
    "k_3 = f\\left(t_n + \\frac{h}{2}, u_n + \\frac{h k_2}{2}\\right) \\\\\n",
    "k_4 = f(t_n + h, u_n + h k_3) $$\n",
    "\n",
    "Substituindo os $f$ pela expressão exponencial aberta:\n",
    "\n",
    "$$ k_1 = \\lambda u_n = f_n \\\\\n",
    "k_2 = \\lambda \\left( u_n + \\frac{h k_1}{2} \\right) = \\lambda u_n + \\frac{\\lambda h k_1}{2} = \\lambda u_n + \\frac{\\lambda h \\lambda u_n}{2} = \\lambda u_n + \\frac{ \\lambda^2 h u_n }{2} \\\\\n",
    "k_3 = \\lambda \\left( u_n + \\frac{h k_2}{2} \\right) = \\lambda u_n + \\frac{\\lambda h k_2}{2} = \\lambda u_n + \\frac{\\lambda h \\left( \\lambda u_n + h \\frac{\\lambda^2 u_n}{2} \\right)}{2} = \\lambda u_n + \\frac{ \\lambda^2 h u_n + \\frac{\\lambda^3 h^2 u_n}{2} }{2} = \\lambda u_n + \\frac{\\lambda^2 h u_n}{2} + \\frac{\\lambda^3 h^2 u_n}{4} \\\\\n",
    "k_4 = \\lambda \\left( u_n + h k_3\\right) = \\lambda u_n + \\lambda h k_3 = \\lambda u_n + \\lambda h \\left( \\lambda u_n + \\frac{\\lambda^2 h u_n}{2} + \\frac{\\lambda^3 h^2 u_n}{4} \\right) = \\lambda u_n + \\lambda^2 h u_n + \\frac{\\lambda^3 h^2 u_n}{2} + \\frac{\\lambda^4 h^3 u_n}{4} \\\\\n",
    "u_{n+1} = u_n + \\frac{h}{6} \\left( \\lambda u_n + 2 \\lambda u_n + \\lambda^2 h u_n + 2 \\lambda u_n + \\lambda^2 h u_n + \\frac{\\lambda^3 h^2 u_n }{2} + \\lambda u_n + \\lambda^2 h u_n + \\frac{\\lambda^3 h^2 u_n}{2} + \\frac{\\lambda^4 h^3 u_n}{4} \\right) = \\\\\n",
    "u_n + \\lambda h u_n + \\frac{\\lambda^2 h^2 u_n}{2} + \\frac{ \\lambda^3 h^3 u_n }{6} + \\frac{\\lambda^4 h^4 u_n}{24} = u_n \\left( 1 + \\lambda h + \\frac{(\\lambda h)^2}{2} + \\frac{(\\lambda h)^3}{5} + \\frac{(\\lambda h)^4}{24} \\right) \\\\\n",
    "\\Rightarrow u_n = u_0 \\left( 1 + \\lambda h + \\frac{(\\lambda h)^2}{2} + \\frac{(\\lambda h)^3}{6} + \\frac{(\\lambda h)^4}{24} \\right)^n$$\n",
    "\n",
    "Mas se temos:\n",
    "\n",
    "$$ \\lambda h = x + y i, \\text{sendo $i$ a unidade imaginária}$$\n",
    "\n",
    "Então:\n",
    "\n",
    "$$ \\left| 1 + \\lambda h + \\frac{(\\lambda h)^2}{2} + \\frac{(\\lambda h)^3}{6} + \\frac{(\\lambda h)^4}{24} \\right| < 1 $$"
   ]
  },
  {
   "cell_type": "raw",
   "id": "8c196571",
   "metadata": {},
   "source": []
  }
 ],
 "metadata": {
  "kernelspec": {
   "display_name": "Python 3 (ipykernel)",
   "language": "python",
   "name": "python3"
  },
  "language_info": {
   "codemirror_mode": {
    "name": "ipython",
    "version": 3
   },
   "file_extension": ".py",
   "mimetype": "text/x-python",
   "name": "python",
   "nbconvert_exporter": "python",
   "pygments_lexer": "ipython3",
   "version": "3.10.12"
  }
 },
 "nbformat": 4,
 "nbformat_minor": 5
}

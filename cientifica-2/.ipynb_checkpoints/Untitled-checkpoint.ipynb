{
 "cells": [
  {
   "cell_type": "code",
   "execution_count": null,
   "id": "295d0f84",
   "metadata": {},
   "outputs": [],
   "source": [
    "#include <iostream>\n",
    "\n",
    "template<class T> class MyPrinter {\n",
    "    public:\n",
    "    static void print(T val) {\n",
    "        std::cout << val << std::endl;\n",
    "    }\n",
    "};\n",
    "\n"
   ]
  },
  {
   "cell_type": "code",
   "execution_count": null,
   "id": "245aa154",
   "metadata": {},
   "outputs": [],
   "source": [
    "MyPrinter<int>::print(2)"
   ]
  },
  {
   "cell_type": "code",
   "execution_count": null,
   "id": "7f44c1de",
   "metadata": {},
   "outputs": [],
   "source": []
  }
 ],
 "metadata": {
  "kernelspec": {
   "display_name": "C++17",
   "language": "C++17",
   "name": "xcpp17"
  },
  "language_info": {
   "codemirror_mode": "text/x-c++src",
   "file_extension": ".cpp",
   "mimetype": "text/x-c++src",
   "name": "c++",
   "version": "17"
  }
 },
 "nbformat": 4,
 "nbformat_minor": 5
}

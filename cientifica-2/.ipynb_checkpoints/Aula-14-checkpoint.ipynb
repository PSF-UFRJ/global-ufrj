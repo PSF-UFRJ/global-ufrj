{
 "cells": [
  {
   "cell_type": "code",
   "execution_count": 1,
   "id": "af07f0ce",
   "metadata": {},
   "outputs": [],
   "source": [
    "import numpy as np\n",
    "import matplotlib.pyplot as plt"
   ]
  },
  {
   "cell_type": "code",
   "execution_count": 2,
   "id": "cd65981e",
   "metadata": {},
   "outputs": [],
   "source": [
    "N = 3\n",
    "hx, hy = 1.0 / (N+1), 1.0 / (N-1)\n",
    "T_left, T_right = 500.15,293.15"
   ]
  },
  {
   "cell_type": "code",
   "execution_count": 3,
   "id": "cb475e9d",
   "metadata": {},
   "outputs": [],
   "source": [
    "A = np.zeros((N*(N+2),N*(N+2)))\n",
    "f = np.zeros(N*(N+2))"
   ]
  },
  {
   "cell_type": "code",
   "execution_count": 4,
   "id": "2e5a1a60",
   "metadata": {},
   "outputs": [],
   "source": [
    "def kappa(x,y):\n",
    "    return 410.0"
   ]
  },
  {
   "cell_type": "code",
   "execution_count": 5,
   "id": "38d85d14",
   "metadata": {},
   "outputs": [],
   "source": [
    "for j in range(1,N+1):\n",
    "    for i in range(1,N+1):\n",
    "        n = i + j * N - 1\n",
    "        xi = i * hx\n",
    "        yj = (j-1) * hy\n",
    "        \n",
    "        kxp = kappa(xi+hx/2,yj)\n",
    "        kxm = kappa(xi-hx/2,yj)\n",
    "        kyp = kappa(xi,yj+hy/2)\n",
    "        kym = kappa(xi,yj-hy/2)\n",
    "        \n",
    "        A[n,n] = -(kxp+kxm)/hx/hx - (kyp+kym)/hy/hy\n",
    "        \n",
    "        if i > 1:\n",
    "            A[n,n-1] = kxm/hx/hx\n",
    "        else:\n",
    "            f[n] = f[n] - T_left*kxm/hx/hx\n",
    "        \n",
    "        if i < N:\n",
    "            A[n,n+1] = kxp/hx/hx \n",
    "        else:\n",
    "            f[n] = f[n] - T_right*kxp/hx/hx\n",
    "        \n",
    "        A[n,n+N] = kyp/hy/hy\n",
    "        A[n,n-N] = kym/hy/hy"
   ]
  },
  {
   "cell_type": "code",
   "execution_count": 6,
   "id": "4e8f81e8",
   "metadata": {},
   "outputs": [],
   "source": [
    "for i in range(1,N+1):\n",
    "    n = i + 0 * N - 1\n",
    "    A[n,n] = 1.0\n",
    "    A[n,n+2*N] = -1.0\n",
    "\n",
    "for i in range(1,N+1):\n",
    "    n = i + (N+1) * N - 1\n",
    "    A[n,n] = 1.0\n",
    "    A[n, n-2*N] = -1.0"
   ]
  },
  {
   "cell_type": "code",
   "execution_count": 14,
   "id": "4b5c5050",
   "metadata": {},
   "outputs": [],
   "source": [
    "T = np.linalg.solve(A,f)\n",
    "T = T.reshape(N+2,N)"
   ]
  },
  {
   "cell_type": "code",
   "execution_count": 15,
   "id": "a856248e",
   "metadata": {},
   "outputs": [
    {
     "data": {
      "text/plain": [
       "<matplotlib.image.AxesImage at 0x7f49e7729ae0>"
      ]
     },
     "execution_count": 15,
     "metadata": {},
     "output_type": "execute_result"
    },
    {
     "data": {
      "image/png": "[encoded data removed]",
      "text/plain": [
       "<Figure size 640x480 with 1 Axes>"
      ]
     },
     "metadata": {},
     "output_type": "display_data"
    }
   ],
   "source": [
    "plt.imshow(T, interpolation= 'bilinear')"
   ]
  },
  {
   "cell_type": "code",
   "execution_count": null,
   "id": "c8257725",
   "metadata": {},
   "outputs": [],
   "source": []
  }
 ],
 "metadata": {
  "kernelspec": {
   "display_name": "Python 3 (ipykernel)",
   "language": "python",
   "name": "python3"
  },
  "language_info": {
   "codemirror_mode": {
    "name": "ipython",
    "version": 3
   },
   "file_extension": ".py",
   "mimetype": "text/x-python",
   "name": "python",
   "nbconvert_exporter": "python",
   "pygments_lexer": "ipython3",
   "version": "3.10.12"
  }
 },
 "nbformat": 4,
 "nbformat_minor": 5
}

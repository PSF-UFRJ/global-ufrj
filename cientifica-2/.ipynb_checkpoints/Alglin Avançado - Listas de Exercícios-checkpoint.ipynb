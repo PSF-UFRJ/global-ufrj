{
 "cells": [
  {
   "cell_type": "code",
   "execution_count": 1,
   "id": "3cbbc5d7",
   "metadata": {},
   "outputs": [],
   "source": [
    "import numpy as np"
   ]
  },
  {
   "cell_type": "code",
   "execution_count": 7,
   "id": "209ba327",
   "metadata": {},
   "outputs": [],
   "source": [
    "A = np.array([[4,-1,0,0],[10, -2, 0, -1],[-1, 0, 2, 1],[2, -1, 0, 2]])\n",
    "u = np.array([1,1,1,1])\n",
    "k_5 = np.array([u, A@u, A@(A@u), A@(A@(A@u)),A@(A@(A@(A@u)))])"
   ]
  },
  {
   "cell_type": "code",
   "execution_count": 8,
   "id": "40d84cb5",
   "metadata": {},
   "outputs": [
    {
     "data": {
      "text/plain": [
       "array([[ 4, -1,  0,  0],\n",
       "       [10, -2,  0, -1],\n",
       "       [-1,  0,  2,  1],\n",
       "       [ 2, -1,  0,  2]])"
      ]
     },
     "execution_count": 8,
     "metadata": {},
     "output_type": "execute_result"
    }
   ],
   "source": [
    "A"
   ]
  },
  {
   "cell_type": "code",
   "execution_count": 9,
   "id": "95d0e507",
   "metadata": {},
   "outputs": [
    {
     "data": {
      "text/plain": [
       "array([[ 1,  1,  1,  1],\n",
       "       [ 3,  7,  2,  3],\n",
       "       [ 5, 13,  4,  5],\n",
       "       [ 7, 19,  8,  7],\n",
       "       [ 9, 25, 16,  9]])"
      ]
     },
     "execution_count": 9,
     "metadata": {},
     "output_type": "execute_result"
    }
   ],
   "source": [
    "k_5"
   ]
  },
  {
   "cell_type": "code",
   "execution_count": null,
   "id": "0d67b2a2",
   "metadata": {},
   "outputs": [],
   "source": []
  }
 ],
 "metadata": {
  "kernelspec": {
   "display_name": "Python 3 (ipykernel)",
   "language": "python",
   "name": "python3"
  },
  "language_info": {
   "codemirror_mode": {
    "name": "ipython",
    "version": 3
   },
   "file_extension": ".py",
   "mimetype": "text/x-python",
   "name": "python",
   "nbconvert_exporter": "python",
   "pygments_lexer": "ipython3",
   "version": "3.10.12"
  }
 },
 "nbformat": 4,
 "nbformat_minor": 5
}

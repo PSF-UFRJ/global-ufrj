{
 "cells": [
  {
   "cell_type": "code",
   "execution_count": 9,
   "id": "0f6cd269",
   "metadata": {},
   "outputs": [],
   "source": [
    "import numpy as np\n",
    "import numpy.linalg as l\n",
    "import matplotlib.pyplot as plt\n",
    "import math"
   ]
  },
  {
   "cell_type": "code",
   "execution_count": 18,
   "id": "74b6481b",
   "metadata": {},
   "outputs": [],
   "source": [
    "class EvaluationException(Exception):\n",
    "    pass\n",
    "\n",
    "def is_defective(arr):\n",
    "    try:\n",
    "        return l.det(arr) == 0\n",
    "    except:\n",
    "        true\n",
    "\n",
    "def array_multi(arr, level):\n",
    "    if level < 0:\n",
    "        raise EvaluationException(\"Negative level values are meaningless\")\n",
    "    \n",
    "    if len(arr) != len(np.transpose(arr)):\n",
    "        raise EvaluationException(\"Only squared arrays are accepted to repeated multiplication.\")\n",
    "        \n",
    "    if level == 0:\n",
    "        return np.diag([1] * len(arr))\n",
    "    \n",
    "    curr_val = arr\n",
    "    curr_level = level\n",
    "    while curr_level > 1:\n",
    "        curr_val = curr_val @ arr\n",
    "        curr_level -= 1\n",
    "        \n",
    "    return curr_val\n",
    "\n",
    "def array_exp(arr, error_tol = 1e-3):\n",
    "    pass\n",
    "    \n",
    "def analytic_ode_system(A, u0):\n",
    "    \"\"\"Solve Linear system analitically, where A is the array for du/dt = Au, \n",
    "    and u0 are the initial values of u\"\"\"\n",
    "    len_A = len(A)\n",
    "    if len_A != len(np.transpose(A)):\n",
    "        raise EvaluationException(\"It's not possible to solve an EDO system if A is not a square matrix.\")\n",
    "        \n",
    "    if len_A != ln(u0):\n",
    "        raise EvaluationException(\"Wrong number of u0 initial conditions.\")\n",
    "    \n",
    "    if is_defective(A):\n",
    "        raise (\"It's not possible to solve analytically such system: A is singular (defective).\")\n",
    "    \n",
    "    \n",
    "\n",
    "def numeric_ode_system(A, u0):\n",
    "    pass\n",
    "\n",
    "    "
   ]
  },
  {
   "cell_type": "code",
   "execution_count": 16,
   "id": "52108752",
   "metadata": {},
   "outputs": [
    {
     "data": {
      "text/plain": [
       "array([[  1, 100],\n",
       "       [  0,   1]])"
      ]
     },
     "execution_count": 16,
     "metadata": {},
     "output_type": "execute_result"
    }
   ],
   "source": [
    "array_multi(np.array([[1,1],[0,1]]), 100)"
   ]
  },
  {
   "cell_type": "code",
   "execution_count": null,
   "id": "789b2ed5",
   "metadata": {},
   "outputs": [],
   "source": []
  }
 ],
 "metadata": {
  "kernelspec": {
   "display_name": "Python 3 (ipykernel)",
   "language": "python",
   "name": "python3"
  },
  "language_info": {
   "codemirror_mode": {
    "name": "ipython",
    "version": 3
   },
   "file_extension": ".py",
   "mimetype": "text/x-python",
   "name": "python",
   "nbconvert_exporter": "python",
   "pygments_lexer": "ipython3",
   "version": "3.10.12"
  }
 },
 "nbformat": 4,
 "nbformat_minor": 5
}

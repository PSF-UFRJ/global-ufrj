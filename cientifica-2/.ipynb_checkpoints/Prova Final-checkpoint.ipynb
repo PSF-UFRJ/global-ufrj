{
 "cells": [
  {
   "cell_type": "markdown",
   "id": "60fb244e",
   "metadata": {},
   "source": [
    "# Prova Final 2\n"
   ]
  },
  {
   "cell_type": "markdown",
   "id": "5f23f126",
   "metadata": {},
   "source": [
    "## Questão 1\n",
    "\n",
    "Queremos resolver a equação do calor $(0<x<1,0<y<1)$:\n",
    "\n",
    "$$ - \\nabla (\\kappa \\nabla T) \\enspace = \\enspace 0$$\n",
    "$$ T(x,0) \\enspace = \\enspace T(x,1) = a $$\n",
    "$$ T(0,y) \\enspace = \\enspace b, \\quad -  \\kappa\\frac{\\partial T}{\\partial x}(1,y) \\enspace = \\enspace h(T - T_{out}) $$\n",
    "\n",
    "Primeiro, qual é o tipo dessa equação?\n",
    "\n",
    "**Resposta:** Trata-se de uma Equação Diferencial Parcial de Segunda Ordem, Elíptica e Autônoma.\n",
    "\n"
   ]
  },
  {
   "cell_type": "markdown",
   "id": "ecd89888",
   "metadata": {},
   "source": [
    "Descreva qualquer coisa relacionada para resolver o seguinte problema, a grade, a discretização, matrizes...\n",
    "\n",
    "**Resposta:** Primeiro vamos assumir algumas hipótees sobre o problema e chegar a uma Equação Diferencial Parcial tratável para o problema da Equação de Calor:\n",
    "\n",
    "$$- \\nabla (\\kappa \\nabla T) \\enspace = \\enspace - \\nabla \\cdot (\\kappa \\nabla T) \\enspace = $$\n",
    "$$ - \\left( \\frac{\\partial}{\\partial x}, \\frac{\\partial}{\\partial y} \\right) \\cdot \\left( \\kappa \\left( \\frac{\\partial}{\\partial x}, \\frac{\\partial}{\\partial y}\\right) T \\right) \\enspace = $$\n",
    "$$ - \\left( \\frac{\\partial}{\\partial x}, \\frac{\\partial}{\\partial y}\\right) \\cdot \\left( \\kappa \\left( \\frac{\\partial T}{\\partial x}, \\frac{\\partial T}{\\partial y} \\right) \\right) \\enspace = $$\n",
    "$$ - \\frac{\\partial}{\\partial x}\\left( \\kappa \\frac{\\partial T}{\\partial x} \\right) - \\frac{\\partial}{\\partial y}\\left(\\kappa \\frac{\\partial T}{\\partial y}\\right) \\enspace = $$\n",
    "$$ - \\frac{\\partial \\kappa}{\\partial x} \\frac{\\partial T}{\\partial x} - \\kappa \\frac{\\partial^2 T}{\\partial x^2} - \\frac{\\partial \\kappa}{\\partial y} \\frac{\\partial T}{\\partial y} - \\kappa \\frac{\\partial^2 T}{\\partial y^2} \\enspace = \\enspace 0 \\quad (1)$$\n",
    "\n",
    "Mas as equações apresentadas representam o fluxo de calor em algum tipo de material, e $\\kappa$ seria a capacidade térmica de tal material, que costuma ser modelado por uma constante. Assim, todas as expressões com $\\frac{\\partial \\kappa}{\\partial x}$ ou $\\frac{\\partial \\kappa}{\\partial y}$ são nulas e (1) se reduz a:\n",
    "\n",
    "$$ - \\kappa \\frac{\\partial^2 T}{\\partial x^2} - \\kappa \\frac{\\partial^2 T}{\\partial y^2} \\enspace = \\enspace 0 $$\n",
    "$$\\Rightarrow \\frac{\\partial^2 T}{\\partial x^2} + \\frac{\\partial^2 T}{\\partial y^2} \\enspace = \\enspace 0 \\quad (2)$$\n",
    "\n",
    "Que reduz o problema a uma equação de calor clássica, mostrando, novamente, que a EDP é elíptica.\n",
    "\n",
    "Nós já temos as condições de contorno $T(x,0)$, $T(x, 1)$ e $T(0, y)$. Não temos uma quarta condição de contorno, mas temos uma condição inicial, que precisa ser ajustada:\n",
    "\n",
    "$$ - \\kappa\\frac{\\partial T}{\\partial x}(1,y) \\enspace = \\enspace h(T - T_{out}) \\Rightarrow \\enspace \\frac{\\partial T}{\\partial x}(1,y) \\enspace = \\enspace - \\frac{h}{\\kappa}(T - T_{out}) \\quad (3)$$\n",
    "\n",
    "Mas, assim como fizemos com $\\kappa$, precisamos entender o valor do parâmetro $h$. Tal parâmetro, em um problema físico, representa a condutividade térmica, o que, para a maioria dos materiais, é constante (ou seja, não varia no tempo, aqui, representado pela variável $x$). Assim, a Equação $(3)$ mostra que a variação de $T$, no tempo, é linear - informação importante, para o próximo passo, que é a discretização do problema. \n",
    "\n",
    "Podemos discretizar o problema assumindo as seguintes aproximações para as derivadas de segunda ordem:\n",
    "\n",
    "$$ \\frac{\\partial^2 T}{\\partial x^2} \\approx \\frac{T_{i+1,j} - 2 T_{i,j} + T_{i-1, j}}{h_x^2} + O(h_x^2) \\quad (4) $$\n",
    "\n",
    "$$ \\frac{\\partial^2 T}{\\partial y^2} \\approx \\frac{T_{i,j+1} - 2 T_{i,j} + T_{i, j-1}}{h_y^2} + O(h_y^2) \\quad (5) $$"
   ]
  },
  {
   "cell_type": "code",
   "execution_count": null,
   "id": "0776a84b",
   "metadata": {},
   "outputs": [],
   "source": []
  }
 ],
 "metadata": {
  "kernelspec": {
   "display_name": "Python 3 (ipykernel)",
   "language": "python",
   "name": "python3"
  },
  "language_info": {
   "codemirror_mode": {
    "name": "ipython",
    "version": 3
   },
   "file_extension": ".py",
   "mimetype": "text/x-python",
   "name": "python",
   "nbconvert_exporter": "python",
   "pygments_lexer": "ipython3",
   "version": "3.10.12"
  }
 },
 "nbformat": 4,
 "nbformat_minor": 5
}

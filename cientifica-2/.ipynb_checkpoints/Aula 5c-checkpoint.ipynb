{
 "cells": [
  {
   "cell_type": "markdown",
   "id": "3bc1d534",
   "metadata": {},
   "source": [
    "## Estabilidade do Método Leap-frog\n"
   ]
  },
  {
   "cell_type": "markdown",
   "id": "7b1934c6",
   "metadata": {},
   "source": [
    "Vamos considerar o problema escalar padrão para a análise de estabilidade:\n",
    "\n",
    "$ \\frac{du}{dt} = \\lambda u \\Rightarrow \\int \\frac{du}{u} = \\int \\lambda dt \\Rightarrow \\ln u = \\lambda t + c \\Rightarrow u(t) = ce^{\\lambda t}, f(t, u) = \\lambda u$\n",
    "\n",
    "Para o método Leap-frog, temos:\n",
    "\n",
    "$ u_{n+1} = u_{n-1} + 2 h \\lambda u_n $, &emsp; (1)\n",
    "\n",
    "Que se trata de uma recorrência linear de segunda ordem, cuja equação característica é dada por:\n",
    "\n",
    "$ \\mu^2 - 2 \\lambda h \\mu - 1 = 0 $, &emsp; (2)\n",
    "\n",
    "A equação dada em (2) possui como discriminante:\n",
    "\n",
    "$ \\Delta = 4 \\lambda^2 h^2 + 4 $, &emsp; (3)\n",
    "\n",
    "E as soluções seriam:\n",
    "\n",
    "$$ \\mu = \\frac{2 \\lambda h \\pm \\sqrt{\\Delta}}{2} = \\frac{2 \\lambda h \\pm \\sqrt{4 \\lambda^2 h^2 + 4}}{2} = \\lambda h \\pm \\sqrt{1 \\lambda^2 h^2 + 1} $$\n",
    "\n",
    "Mas, como $\\lambda$ é um valor complexo, não podemos deduzir nada de relevante a partir da tentativa de solução da equação por métodos convencionais.\n",
    "\n",
    "Analisando as relações de Girardi de (1), e chamando as soluções de $\\mu_1$ e $\\mu_2$, temos $ \\mu_1 \\mu_2 = -1$ e $\\mu_1 + \\mu_2 = 2 \\lambda h$.\n",
    "\n",
    "Se passarmos para coordenadas polares, temos:\n",
    "\n",
    "$$ \\mu_1 = r e^{i \\theta} \\Rightarrow e^{i \\theta} \\cdot \\mu_2 = -1 \\Rightarrow \\mu_2 = - \\frac{1}{r} e^{- i \\theta}$$\n",
    "\n",
    "Mas devemos cumprir também a relação da soma:\n",
    "\n",
    "$$ \\mu_1 + \\mu_2 = r e^{i \\theta} - \\frac{1}{r} e^{- i \\theta} = 2 \\lambda h $$\n",
    "\n",
    "Mas assumimos que para $\\mu_1$, o raio máximo de convergência é $r = 1$ (o que torna o módulo de $\\mu_2$ também igual a 1) e:\n",
    "\n",
    "$$ e^{i \\theta} - e^{- i \\theta} = 2 \\lambda h => \\lambda h = i \\frac{e^{i \\theta} - e^{- i \\theta}}{2 i} \\Rightarrow \\lambda h = i sen \\theta$$\n",
    "\n",
    "Mas $\\theta$ é um número **Real**, de forma que a **\"área\" de convergência é o segmento de reta entre $\\textbf{-i}$ e $\\textbf{i}$**, levando a concluir que o método Leap-Frog não tem nenhuma área de convergência."
   ]
  },
  {
   "cell_type": "code",
   "execution_count": null,
   "id": "8d852c0e",
   "metadata": {},
   "outputs": [],
   "source": []
  }
 ],
 "metadata": {
  "kernelspec": {
   "display_name": "Python 3 (ipykernel)",
   "language": "python",
   "name": "python3"
  },
  "language_info": {
   "codemirror_mode": {
    "name": "ipython",
    "version": 3
   },
   "file_extension": ".py",
   "mimetype": "text/x-python",
   "name": "python",
   "nbconvert_exporter": "python",
   "pygments_lexer": "ipython3",
   "version": "3.10.12"
  }
 },
 "nbformat": 4,
 "nbformat_minor": 5
}

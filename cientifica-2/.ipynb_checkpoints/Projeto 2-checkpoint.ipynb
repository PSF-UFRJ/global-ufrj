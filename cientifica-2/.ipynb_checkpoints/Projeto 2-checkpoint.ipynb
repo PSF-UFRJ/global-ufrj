{
 "cells": [
  {
   "cell_type": "code",
   "execution_count": null,
   "id": "7658872e",
   "metadata": {},
   "outputs": [],
   "source": [
    "import numpy as np\n",
    "import matplotlib.pyplot as plt\n",
    "import math\n",
    "from tqdm import tqdm"
   ]
  },
  {
   "cell_type": "markdown",
   "id": "334decbf",
   "metadata": {},
   "source": [
    "# Problema de Dois corpos\n",
    "\n",
    "Equações de Newton para o problema de Múltiplos corpos:\n",
    "\n",
    "$$ \n",
    "\\begin{align}\n",
    "m_i \\boldsymbol{\\ddot{r}_i} = - \\sum_{j=1, i \\ne j}^{n} \\frac{\\gamma m_i m_j (\\boldsymbol{r}_i - \\boldsymbol{r}_j)}{\\| \\boldsymbol{r}_i - \\boldsymbol{r}_j \\|^3}, i = 1,2,...,n \n",
    "\\end{align}\n",
    "$$\n",
    "\n",
    "Para o problema de dois corpos fica reduzido a:\n",
    "\n",
    "$$\n",
    "\\begin{cases}\n",
    "m_1\\boldsymbol{\\ddot{r}_1} = - \\frac{\\gamma m_1 m_2(\\boldsymbol{r}_1 - \\boldsymbol{r}_2)}{\\| \\boldsymbol{r_1} - \\boldsymbol{r_2} \\|^3} \\\\\n",
    "m_2\\boldsymbol{\\ddot{r}_2} = - \\frac{\\gamma m_2 m_1(\\boldsymbol{r}_2 - \\boldsymbol{r}_1)}{\\| \\boldsymbol{r_2} - \\boldsymbol{r_1} \\|^3} \n",
    "\\end{cases}\n",
    "$$\n",
    "\n",
    "Que, abrindo componente a componente fica:\n",
    "\n",
    "$$\n",
    "\\begin{cases}\n",
    "m_1\\ddot{r}_{1x} = - \\frac{\\gamma m_1 m_2(r_{1x} - r_{2x})}{\\sqrt{\\left((r_{1x}-r_{2x})^2 + (r_{1y} - r_{2y})^2\\right)}^3} \\\\\n",
    "m_1\\ddot{r}_{1y} = - \\frac{\\gamma m_1 m_2(r_{1y} - r_{2y})}{\\sqrt{\\left((r_{1x}-r_{2x})^2 + (r_{1y} - r_{2y})^2\\right)}^3} \\\\\n",
    "m_2\\ddot{r}_{2x} = - \\frac{\\gamma m_2 m_1(r_{2x} - r_{1x})}{\\sqrt{\\left((r_{2x}-r_{1x})^2 + (r_{2y} - r_{1y})^2\\right)}^3} \\\\\n",
    "m_2\\ddot{r}_{2y} = - \\frac{\\gamma m_2 m_1(r_{2y} - r_{1y})}{\\sqrt{\\left((r_{2x}-r_{1x})^2 + (r_{2y} - r_{1y})^2\\right)}^3} \n",
    "\\end{cases}\n",
    "$$\n",
    "\n",
    "Que, eliminando os $m_1$, $m_2$ redundantes e assumindo $(\\dot{r}_i) = v_i$, temos:\n",
    "\n",
    "$$\n",
    "\\begin{cases}\n",
    "\\dot{r}_{1x} = v_{1x} \\\\\n",
    "\\dot{r}_{1y} = v_{1y} \\\\\n",
    "\\dot{r}_{2x} = v_{2x} \\\\\n",
    "\\dot{r}_{2y} = v_{2y} \\\\\n",
    "\\dot{v}_{1x} = - \\frac{\\gamma m_2 (r_{1x} - r_{2x})}{\\sqrt{\\left((r_{1x}-r_{2x})^2 + (r_{1y} - r_{2y})^2\\right)}^3} \\\\\n",
    "\\dot{v}_{1y} = - \\frac{\\gamma m_2 (r_{1y} - r_{2y})}{\\sqrt{\\left((r_{1x}-r_{2x})^2 + (r_{1y} - r_{2y})^2\\right)}^3} \\\\\n",
    "\\dot{v}_{2x} = - \\frac{\\gamma m_1 (r_{2x} - r_{1x})}{\\sqrt{\\left((r_{2x}-r_{1x})^2 + (r_{2y} - r_{1y})^2\\right)}^3} \\\\\n",
    "\\dot{v}_{2y} = - \\frac{\\gamma m_1 (r_{2y} - r_{1y})}{\\sqrt{\\left((r_{2x}-r_{1x})^2 + (r_{2y} - r_{1y})^2\\right)}^3} \n",
    "\\end{cases}\n",
    "$$\n",
    "\n",
    "E podemos resolver o problema dos dois corpos com métodos numéricos tradicionais.\n",
    "\n",
    "O exemplo escolhido é uma configuração estável, com dois corpos de mesmo peso e velocidade inicial direção contrária e de mesmo módulo, gerando uma configuração de duas elipses, com um objeto sempre estando em posição focal para a órbita do outro objeto. O centro de massa não se movimenta."
   ]
  },
  {
   "cell_type": "code",
   "execution_count": null,
   "id": "125a365c",
   "metadata": {},
   "outputs": [],
   "source": [
    "# Helper plot functions\n",
    "def pplot(tn, un, label):\n",
    "    fig, ax = plt.subplots()\n",
    "    plt.plot(tn, un, label=label)\n",
    "    ax.set_axisbelow(True)\n",
    "    ax.minorticks_on()\n",
    "    ax.grid(which='major', linestyle='-', linewidth='0.5', color='red')\n",
    "    ax.grid(which='minor', linestyle=':', linewidth='0.5', color='black')\n",
    "    plt.title(\"Numeric solution of Differential Equation\")\n",
    "    plt.legend()\n",
    "    ax = plt.gca()\n",
    "\n",
    "def pplot2(tn1, un1, label1, tn2, un2, label2):\n",
    "    fig, ax = plt.subplots()\n",
    "    plt.plot(tn1, un1, label=label1)\n",
    "    plt.plot(tn2, un2, label=label2)\n",
    "    ax.set_axisbelow(True)\n",
    "    ax.minorticks_on()\n",
    "    ax.grid(which='major', linestyle='-', linewidth='0.5', color='red')\n",
    "    ax.grid(which='minor', linestyle=':', linewidth='0.5', color='black')\n",
    "    plt.title(\"Numeric solution of Differential Equation\")\n",
    "    plt.legend()\n",
    "    ax = plt.gca()"
   ]
  },
  {
   "cell_type": "code",
   "execution_count": null,
   "id": "530c10b9",
   "metadata": {},
   "outputs": [],
   "source": [
    "# Runge-Kutta4 implementation:\n",
    "def evaluate_runge_kutta(f, u0, h = 0.0001, start = 0, finish = 60):\n",
    "    # With h = 0.0001, the solutions of the two body problems \n",
    "    # become stable (which they are), so this is the base value of h:\n",
    "    t = [start]\n",
    "    u = [u0]\n",
    "    i = 1\n",
    "    pbar = tqdm(total=int((finish-start)/h))\n",
    "    while t[-1] < finish:\n",
    "        tn = t[-1]\n",
    "        un = u[-1]\n",
    "        k1 = f(tn, un)\n",
    "        k2 = f(tn + h/2, un + (h/2)*k1)\n",
    "        k3 = f(tn + h/2, un + (h/2)*k2)\n",
    "        k4 = f(tn + h, un + h*k3)\n",
    "        t.append(t[-1] + h)\n",
    "        u.append(un + (h/6)*(k1 + 2*k2 + 2*k3 + k4))\n",
    "        i = i + 1\n",
    "        pbar.update(1)\n",
    "    pbar.close()\n",
    "    return np.vstack((np.transpose(t), np.transpose(u)))"
   ]
  },
  {
   "cell_type": "code",
   "execution_count": null,
   "id": "7953a6d3",
   "metadata": {},
   "outputs": [],
   "source": [
    "# Verlet implementation:\n",
    "def evaluate_verlet(f, u0, h = 0.1, start = 0, finish = 60):\n",
    "    # Using steps a thousand bigger than Runge-Kutta, since Verlet Method is much more stable.\n",
    "    # The first half members of f, u0 are position, last half members of f,u0 are velocity.\n",
    "    t = [start]\n",
    "    u = [u0]\n",
    "    i = 1\n",
    "    \n",
    "    # To make sure function format is correct:\n",
    "    f0 = f(start, u0)\n",
    "    \n",
    "    if(len(f0) != len(u0)):\n",
    "        raise Exception(\"Function and initial values must have the same length.\")\n",
    "    \n",
    "    if(len(f0) % 2 != 0):\n",
    "        raise Exception(\"Length of f and u0 must be even.\")\n",
    "        \n",
    "    pbar = tqdm(total=int((finish-start)/h))\n",
    "    while t[-1] < finish:\n",
    "        tn = np.array(t[-1])\n",
    "        un = np.array(u[-1])\n",
    "        un1 = np.array(f(tn, un))\n",
    "        rn = np.array(un[:int(len(un)/2)])\n",
    "        vn = np.array(un[-int(len(un)/2):])\n",
    "        an = np.array(un1[-int(len(un)/2):])\n",
    "        if(i == 1):\n",
    "            r = rn + h * vn + (h*h/2) * an\n",
    "        else:\n",
    "            un_1 = u[-2]\n",
    "            rn_1 = un_1[:int(len(un_1)/2)]\n",
    "            r = 2 * rn - rn_1 + (h*h) * an\n",
    "            v_1 = (r - rn_1)/(2*h)\n",
    "            # Assign v retroactively:\n",
    "            u[-1][-int(len(u[-1])/2):] = v_1\n",
    "        v = np.zeros(len(vn))\n",
    "        u.append(np.concatenate((r,v)))\n",
    "        t.append(t[-1] + h)\n",
    "        i = i + 1\n",
    "        pbar.update(1)\n",
    "    pbar.close()\n",
    "    # Assign last velocity to previous one, to avoid plot breaks:\n",
    "    u[-1][-int(len(u[-1])/2):] = u[-2][-int(len(u[-1])/2):]\n",
    "    return np.vstack((np.transpose(t), np.transpose(u)))"
   ]
  },
  {
   "cell_type": "code",
   "execution_count": null,
   "id": "7af57d9c",
   "metadata": {},
   "outputs": [],
   "source": [
    "# Two Body system function:\n",
    "def two_body(t, u): # t (time) parameter is ignored, since the equations are autonomous\n",
    "    # Constants:\n",
    "    gamma = 1\n",
    "    m1 = 1\n",
    "    m2 = 1\n",
    "    \n",
    "    # Input parameters:\n",
    "    r_1x = u[0]\n",
    "    r_1y = u[1]\n",
    "    r_2x = u[2]\n",
    "    r_2y = u[3]\n",
    "    v_1x = u[4]\n",
    "    v_1y = u[5]\n",
    "    v_2x = u[6]\n",
    "    v_2y = u[7]\n",
    "    \n",
    "    # Evaluation:\n",
    "    dr_1x = v_1x\n",
    "    dr_1y = v_1y\n",
    "    dr_2x = v_2x\n",
    "    dr_2y = v_2y\n",
    "    dv_1x = - (gamma * m2 *(r_1x - r_2x))/(((r_1x - r_2x)**2 + (r_1y - r_2y)**2)**(3/2))\n",
    "    dv_1y = - (gamma * m2 *(r_1y - r_2y))/(((r_1x - r_2x)**2 + (r_1y - r_2y)**2)**(3/2))\n",
    "    dv_2x = - (gamma * m1 *(r_2x - r_1x))/(((r_2x - r_1x)**2 + (r_2y - r_1y)**2)**(3/2))\n",
    "    dv_2y = - (gamma * m1 *(r_2y - r_1y))/(((r_2x - r_1x)**2 + (r_2y - r_1y)**2)**(3/2))\n",
    "    return np.array([dr_1x,dr_1y,dr_2x,dr_2y,dv_1x,dv_1y,dv_2x,dv_2y])"
   ]
  },
  {
   "cell_type": "markdown",
   "id": "fe9b544c",
   "metadata": {},
   "source": [
    "## Solução de 2-corpos com o Método de Runge-Kutta:"
   ]
  },
  {
   "cell_type": "code",
   "execution_count": null,
   "id": "18a89f56",
   "metadata": {
    "scrolled": false
   },
   "outputs": [],
   "source": [
    "simulation_rk = evaluate_runge_kutta(two_body, [1, 0, -1, 0, 0, 0.6, 0, -0.6])\n",
    "pplot(simulation_rk[0], simulation_rk[1], \"r_1x\")\n",
    "pplot(simulation_rk[0], simulation_rk[2], \"r_1y\")\n",
    "pplot(simulation_rk[1], simulation_rk[2], \"r_1x x r_1y\")\n",
    "pplot2(simulation_rk[1], simulation_rk[2], \"r_1x x r_1y\", simulation_rk[3], simulation_rk[4], \"r_2x x r_2y\")"
   ]
  },
  {
   "cell_type": "markdown",
   "id": "3d8a38e7",
   "metadata": {},
   "source": [
    "## Solução de 2-corpos com Método de Verlet:"
   ]
  },
  {
   "cell_type": "code",
   "execution_count": null,
   "id": "4fcdbaab",
   "metadata": {
    "scrolled": false
   },
   "outputs": [],
   "source": [
    "simulation_v = evaluate_verlet(two_body, [1, 0, -1, 0, 0, 0.6, 0, -0.6])\n",
    "pplot(simulation_v[0], simulation_v[1], \"r_1x\")\n",
    "pplot(simulation_v[0], simulation_v[2], \"r_1y\")\n",
    "pplot(simulation_v[1], simulation_v[2], \"r_1x x r_1y\")\n",
    "pplot2(simulation_v[1], simulation_v[2], \"r_1x x r_1y\", simulation_v[3], simulation_v[4], \"r_2x x r_2y\")"
   ]
  },
  {
   "cell_type": "markdown",
   "id": "4066dd87",
   "metadata": {},
   "source": [
    "# O Problema de Três Corpos\n",
    "\n",
    "Uma vez testada uma solução estável para o Problema de Dois Corpos, podemos agora trabalhar em cima do Problema de Três Corpos.\n",
    "\n",
    "Relembrando as equações de Newton para o problema de Múltiplos corpos:\n",
    "\n",
    "$$ \n",
    "\\begin{align}\n",
    "m_i \\boldsymbol{\\ddot{r}_i} = - \\sum_{j=1, i \\ne j}^{n} \\frac{\\gamma m_i m_j (\\boldsymbol{r}_i - \\boldsymbol{r}_j)}{\\| \\boldsymbol{r}_i - \\boldsymbol{r}_j \\|^3}, i = 1,2,...,n \n",
    "\\end{align}\n",
    "$$\n",
    "\n",
    "Para o problema de três corpos fica reduzido a:\n",
    "\n",
    "$$\n",
    "\\begin{cases}\n",
    "m_1\\boldsymbol{\\ddot{r}_1} = - \\left(\\frac{\\gamma m_1 m_2(\\boldsymbol{r}_1 - \\boldsymbol{r}_2)}{\\| \\boldsymbol{r_1} - \\boldsymbol{r_2} \\|^3} + \\frac{\\gamma m_1 m_3(\\boldsymbol{r}_1 - \\boldsymbol{r}_3)}{\\| \\boldsymbol{r_1} - \\boldsymbol{r_3} \\|^3}\\right) \\\\\n",
    "m_2\\boldsymbol{\\ddot{r}_2} = - \\left(\\frac{\\gamma m_2 m_1(\\boldsymbol{r}_2 - \\boldsymbol{r}_1)}{\\| \\boldsymbol{r_2} - \\boldsymbol{r_1} \\|^3} + \\frac{\\gamma m_2 m_3(\\boldsymbol{r}_2 - \\boldsymbol{r}_3)}{\\| \\boldsymbol{r_2} - \\boldsymbol{r_3} \\|^3}\\right) \\\\\n",
    "m_3\\boldsymbol{\\ddot{r}_3} = - \\left(\\frac{\\gamma m_3 m_1(\\boldsymbol{r}_3 - \\boldsymbol{r}_1)}{\\| \\boldsymbol{r_3} - \\boldsymbol{r_1} \\|^3} + \\frac{\\gamma m_3 m_2(\\boldsymbol{r}_3 - \\boldsymbol{r}_2)}{\\| \\boldsymbol{r_3} - \\boldsymbol{r_2} \\|^3}\\right) \n",
    "\\end{cases}\n",
    "$$\n",
    "\n",
    "Que, eliminando os $m_i$, redundantes e assumindo $(\\dot{r}_i) = v_i$, temos:\n",
    "\n",
    "$$\n",
    "\\begin{cases}\n",
    "\\dot{r}_{1x} = v_{1x} \\\\\n",
    "\\dot{r}_{1y} = v_{1y} \\\\\n",
    "\\dot{r}_{2x} = v_{2x} \\\\\n",
    "\\dot{r}_{2y} = v_{2y} \\\\\n",
    "\\dot{r}_{3x} = v_{3x} \\\\\n",
    "\\dot{r}_{3y} = v_{3y} \\\\\n",
    "\\dot{v}_{1x} = - \\left(\\frac{\\gamma m_2 (r_{1x} - r_{2x})}{\\sqrt{\\left((r_{1x}-r_{2x})^2 + (r_{1y} - r_{2y})^2\\right)}^3} + \\frac{\\gamma m_3 (r_{1x} - r_{3x})}{\\sqrt{\\left((r_{1x}-r_{3x})^2 + (r_{1y} - r_{3y})^2\\right)}^3}\\right) \\\\\n",
    "\\dot{v}_{1y} = - \\left(\\frac{\\gamma m_2 (r_{1y} - r_{2y})}{\\sqrt{\\left((r_{1x}-r_{2x})^2 + (r_{1y} - r_{2y})^2\\right)}^3} + \\frac{\\gamma m_3 (r_{1y} - r_{3y})}{\\sqrt{\\left((r_{1x}-r_{3x})^2 + (r_{1y} - r_{3y})^2\\right)}^3}\\right)\\\\\n",
    "\\dot{v}_{2x} = - \\left(\\frac{\\gamma m_1 (r_{2x} - r_{1x})}{\\sqrt{\\left((r_{2x}-r_{1x})^2 + (r_{2y} - r_{1y})^2\\right)}^3} + \\frac{\\gamma m_3 (r_{2x} - r_{3x})}{\\sqrt{\\left((r_{2x}-r_{3x})^2 + (r_{2y} - r_{3y})^2\\right)}^3}\\right) \\\\\n",
    "\\dot{v}_{2y} = - \\left(\\frac{\\gamma m_1 (r_{2y} - r_{1y})}{\\sqrt{\\left((r_{2x}-r_{1x})^2 + (r_{2y} - r_{1y})^2\\right)}^3} + \\frac{\\gamma m_3 (r_{2y} - r_{3y})}{\\sqrt{\\left((r_{2x}-r_{3x})^2 + (r_{2y} - r_{3y})^2\\right)}^3}\\right)\\\\\n",
    "\\dot{v}_{3x} = - \\left(\\frac{\\gamma m_1 (r_{3x} - r_{1x})}{\\sqrt{\\left((r_{3x}-r_{1x})^2 + (r_{3y} - r_{1y})^2\\right)}^3} + \\frac{\\gamma m_2 (r_{3x} - r_{2x})}{\\sqrt{\\left((r_{3x}-r_{2x})^2 + (r_{3y} - r_{2y})^2\\right)}^3}\\right) \\\\\n",
    "\\dot{v}_{3y} = - \\left(\\frac{\\gamma m_1 (r_{3y} - r_{1y})}{\\sqrt{\\left((r_{3x}-r_{1x})^2 + (r_{3y} - r_{1y})^2\\right)}^3} + \\frac{\\gamma m_2 (r_{3y} - r_{2y})}{\\sqrt{\\left((r_{3x}-r_{2x})^2 + (r_{3y} - r_{2y})^2\\right)}^3}\\right)\n",
    "\\end{cases}\n",
    "$$\n"
   ]
  },
  {
   "cell_type": "code",
   "execution_count": null,
   "id": "a2b1336a",
   "metadata": {},
   "outputs": [],
   "source": [
    "# Three Body system function:\n",
    "def three_body(t, u): # t (time) parameter is ignored, since the equations are autonomous\n",
    "    # Constants:\n",
    "    gamma = 1\n",
    "    m1 = 1\n",
    "    m2 = 1\n",
    "    m3 = 1\n",
    "    \n",
    "    # Input parameters:\n",
    "    r_1x = u[0]\n",
    "    r_1y = u[1]\n",
    "    r_2x = u[2]\n",
    "    r_2y = u[3]\n",
    "    r_3x = u[4]\n",
    "    r_3y = u[5]\n",
    "    v_1x = u[6]\n",
    "    v_1y = u[7]\n",
    "    v_2x = u[8]\n",
    "    v_2y = u[9]\n",
    "    v_3x = u[10]\n",
    "    v_3y = u[11]\n",
    "    \n",
    "    # Evaluation:\n",
    "    dr_1x = v_1x\n",
    "    dr_1y = v_1y\n",
    "    dr_2x = v_2x\n",
    "    dr_2y = v_2y\n",
    "    dr_3x = v_3x\n",
    "    dr_3y = v_3y\n",
    "    dv_1x = - ((gamma * m2 *(r_1x - r_2x))/(((r_1x - r_2x)**2 + (r_1y - r_2y)**2)**(3/2)) + (gamma * m3 *(r_1x - r_3x))/(((r_1x - r_3x)**2 + (r_1y - r_3y)**2)**(3/2)))\n",
    "    dv_1y = - ((gamma * m2 *(r_1y - r_2y))/(((r_1x - r_2x)**2 + (r_1y - r_2y)**2)**(3/2)) + (gamma * m3 *(r_1y - r_3y))/(((r_1x - r_3x)**2 + (r_1y - r_3y)**2)**(3/2)))\n",
    "    dv_2x = - ((gamma * m1 *(r_2x - r_1x))/(((r_2x - r_1x)**2 + (r_2y - r_1y)**2)**(3/2)) + (gamma * m3 *(r_2x - r_3x))/(((r_2x - r_3x)**2 + (r_2y - r_3y)**2)**(3/2)))\n",
    "    dv_2y = - ((gamma * m1 *(r_2y - r_1y))/(((r_2x - r_1x)**2 + (r_2y - r_1y)**2)**(3/2)) + (gamma * m3 *(r_2y - r_3y))/(((r_2x - r_3x)**2 + (r_2y - r_3y)**2)**(3/2)))\n",
    "    dv_3x = - ((gamma * m1 *(r_3x - r_1x))/(((r_3x - r_1x)**2 + (r_3y - r_1y)**2)**(3/2)) + (gamma * m2 *(r_3x - r_2x))/(((r_3x - r_2x)**2 + (r_3y - r_2y)**2)**(3/2)))\n",
    "    dv_3y = - ((gamma * m1 *(r_3y - r_1y))/(((r_3x - r_1x)**2 + (r_3y - r_1y)**2)**(3/2)) + (gamma * m2 *(r_3y - r_2y))/(((r_3x - r_2x)**2 + (r_3y - r_2y)**2)**(3/2)))\n",
    "    return np.array([dr_1x,dr_1y,dr_2x,dr_2y,dr_3x,dr_3y,dv_1x,dv_1y,dv_2x,dv_2y,dv_3x,dv_3y])"
   ]
  },
  {
   "cell_type": "code",
   "execution_count": null,
   "id": "e8de3aca",
   "metadata": {},
   "outputs": [],
   "source": [
    "# Helper plot function:\n",
    "def pplot3(tn1, un1, label1, tn2, un2, label2, tn3, un3, label3):\n",
    "    fig, ax = plt.subplots()\n",
    "    plt.plot(tn1, un1, label=label1)\n",
    "    plt.plot(tn2, un2, label=label2)\n",
    "    plt.plot(tn3, un3, label=label3)\n",
    "    ax.set_axisbelow(True)\n",
    "    ax.minorticks_on()\n",
    "    ax.grid(which='major', linestyle='-', linewidth='0.5', color='red')\n",
    "    ax.grid(which='minor', linestyle=':', linewidth='0.5', color='black')\n",
    "    plt.title(\"Numeric solution of Differential Equation\")\n",
    "    plt.legend()\n",
    "    ax = plt.gca()"
   ]
  },
  {
   "cell_type": "markdown",
   "id": "27ab385a",
   "metadata": {},
   "source": [
    "## Solução de 3-corpos com o Método de Runge-Kutta:"
   ]
  },
  {
   "cell_type": "code",
   "execution_count": null,
   "id": "39d39cbc",
   "metadata": {
    "scrolled": false
   },
   "outputs": [],
   "source": [
    "simulation3_rk = evaluate_runge_kutta(three_body, [1, 0, -1, 0, 0, 0, 0.6, 0.6, 0.6, 0.6, -0.9, -0.9])\n",
    "pplot(simulation3_rk[0], simulation3_rk[1], \"r_1x\")\n",
    "pplot(simulation3_rk[0], simulation3_rk[2], \"r_1y\")\n",
    "pplot(simulation3_rk[0], simulation3_rk[3], \"r_2x\")\n",
    "pplot(simulation3_rk[0], simulation3_rk[4], \"r_2y\")\n",
    "pplot(simulation3_rk[1], simulation3_rk[2], \"r_1x x r_1y\")\n",
    "pplot(simulation3_rk[3], simulation3_rk[4], \"r_2x x r_2y\")\n",
    "pplot3(simulation3_rk[1], simulation3_rk[2], \"r_1x x r_1y\",\n",
    "       simulation3_rk[3], simulation3_rk[4], \"r_2x x r_2y\",\n",
    "       simulation3_rk[5], simulation3_rk[6], \"r_3x x r_3y\")\n"
   ]
  },
  {
   "cell_type": "code",
   "execution_count": null,
   "id": "12b05829",
   "metadata": {
    "scrolled": false
   },
   "outputs": [],
   "source": [
    "simulation3_v = evaluate_verlet(three_body, [1, 0, -1, 0, 0, 0, 0.6, 0.6, 0.6, 0.6, -0.9, -0.9])\n",
    "pplot(simulation3_v[0], simulation3_v[1], \"r_1x\")\n",
    "pplot(simulation3_v[0], simulation3_v[2], \"r_1y\")\n",
    "pplot(simulation3_v[0], simulation3_v[3], \"r_2x\")\n",
    "pplot(simulation3_v[0], simulation3_v[4], \"r_2y\")\n",
    "pplot(simulation3_v[1], simulation3_v[2], \"r_1x x r_1y\")\n",
    "pplot(simulation3_v[3], simulation3_v[4], \"r_2x x r_2y\")\n",
    "pplot3(simulation3_v[1], simulation3_v[2], \"r_1x x r_1y\",\n",
    "       simulation3_v[3], simulation3_v[4], \"r_2x x r_2y\",\n",
    "       simulation3_v[5], simulation3_v[6], \"r_3x x r_3y\")"
   ]
  },
  {
   "cell_type": "markdown",
   "id": "81a737b9",
   "metadata": {},
   "source": [
    "## Solução estável, número #2\n",
    "\n",
    "$$\n",
    "v_1 = (0.322184765624991, 0.647989160156249) \\\\\n",
    "v_2 = (0.322184765624991, 0.647989160156249) \\\\\n",
    "v_3 = (-0.644369531249982, -1.295978320312498) \\\\\n",
    "$$"
   ]
  },
  {
   "cell_type": "markdown",
   "id": "28669ce8",
   "metadata": {},
   "source": [
    "### Método de Runge-Kutta"
   ]
  },
  {
   "cell_type": "code",
   "execution_count": null,
   "id": "75d4eba1",
   "metadata": {
    "scrolled": false
   },
   "outputs": [],
   "source": [
    "simulation3_rk = evaluate_runge_kutta(three_body, [-1, 0, 1, 0, 0, 0, 0.322184765624991,0.647989160156249, 0.322184765624991,0.647989160156249, -0.644369531249982,-1.295978320312498], h=0.00001, finish=17.12)\n",
    "pplot(simulation3_rk[0], simulation3_rk[1], \"r_1x\")\n",
    "pplot(simulation3_rk[0], simulation3_rk[2], \"r_1y\")\n",
    "pplot(simulation3_rk[0], simulation3_rk[3], \"r_2x\")\n",
    "pplot(simulation3_rk[0], simulation3_rk[4], \"r_2y\")\n",
    "pplot(simulation3_rk[1], simulation3_rk[2], \"r_1x x r_1y\")\n",
    "pplot(simulation3_rk[3], simulation3_rk[4], \"r_2x x r_2y\")\n",
    "pplot3(simulation3_rk[1], simulation3_rk[2], \"r_1x x r_1y\",\n",
    "       simulation3_rk[3], simulation3_rk[4], \"r_2x x r_2y\",\n",
    "       simulation3_rk[5], simulation3_rk[6], \"r_3x x r_3y\")"
   ]
  },
  {
   "cell_type": "markdown",
   "id": "529f6910",
   "metadata": {},
   "source": [
    "### Método de Verlet"
   ]
  },
  {
   "cell_type": "code",
   "execution_count": null,
   "id": "6e25a549",
   "metadata": {
    "scrolled": false
   },
   "outputs": [],
   "source": [
    "simulation3_v = evaluate_verlet(three_body, [-1, 0, 1, 0, 0, 0, 0.322184765624991,0.647989160156249, 0.322184765624991,0.647989160156249, -0.644369531249982,-1.295978320312498], h=0.002, finish=17.12)\n",
    "pplot(simulation3_v[0], simulation3_v[1], \"r_1x\")\n",
    "pplot(simulation3_v[0], simulation3_v[2], \"r_1y\")\n",
    "pplot(simulation3_v[0], simulation3_v[3], \"r_2x\")\n",
    "pplot(simulation3_v[0], simulation3_v[4], \"r_2y\")\n",
    "pplot(simulation3_v[1], simulation3_v[2], \"r_1x x r_1y\")\n",
    "pplot(simulation3_v[3], simulation3_v[4], \"r_2x x r_2y\")\n",
    "pplot3(simulation3_v[1], simulation3_v[2], \"r_1x x r_1y\",\n",
    "       simulation3_v[3], simulation3_v[4], \"r_2x x r_2y\",\n",
    "       simulation3_v[5], simulation3_v[6], \"r_3x x r_3y\")"
   ]
  },
  {
   "cell_type": "markdown",
   "id": "35fd35d2",
   "metadata": {},
   "source": [
    "## Solução estável, número #3\n",
    "\n",
    "$$\n",
    "v_1 = (0.257841699218752, 0.687880761718747) \\\\\n",
    "v_2 = (0.257841699218752, 0.687880761718747) \\\\\n",
    "v_3 = (-0.515683398437504, -1.375761523437494) \\\\\n",
    "$$"
   ]
  },
  {
   "cell_type": "markdown",
   "id": "a10d128f",
   "metadata": {},
   "source": [
    "### Método de Runge-Kutta"
   ]
  },
  {
   "cell_type": "code",
   "execution_count": null,
   "id": "e99c84f1",
   "metadata": {
    "scrolled": false
   },
   "outputs": [],
   "source": [
    "simulation3_rk = evaluate_runge_kutta(three_body, [-1, 0, 1, 0, 0, 0, 0.257841699218752, 0.687880761718747, 0.257841699218752, 0.687880761718747, -0.515683398437504, -1.375761523437494], h=0.00001, finish=1)\n",
    "pplot(simulation3_rk[0], simulation3_rk[1], \"r_1x\")\n",
    "pplot(simulation3_rk[0], simulation3_rk[2], \"r_1y\")\n",
    "pplot(simulation3_rk[0], simulation3_rk[3], \"r_2x\")\n",
    "pplot(simulation3_rk[0], simulation3_rk[4], \"r_2y\")\n",
    "pplot(simulation3_rk[1], simulation3_rk[2], \"r_1x x r_1y\")\n",
    "pplot(simulation3_rk[3], simulation3_rk[4], \"r_2x x r_2y\")\n",
    "pplot3(simulation3_rk[1], simulation3_rk[2], \"r_1x x r_1y\",\n",
    "       simulation3_rk[3], simulation3_rk[4], \"r_2x x r_2y\",\n",
    "       simulation3_rk[5], simulation3_rk[6], \"r_3x x r_3y\")"
   ]
  },
  {
   "cell_type": "markdown",
   "id": "af643160",
   "metadata": {},
   "source": [
    "### Método de Verlet"
   ]
  },
  {
   "cell_type": "code",
   "execution_count": null,
   "id": "08320468",
   "metadata": {
    "scrolled": false
   },
   "outputs": [],
   "source": [
    "simulation3_v = evaluate_verlet(three_body, [-1, 0, 1, 0, 0, 0, 0.257841699218752, 0.687880761718747, 0.257841699218752, 0.687880761718747, -0.515683398437504, -1.375761523437494], h=0.002, finish=1)\n",
    "pplot(simulation3_v[0], simulation3_v[1], \"r_1x\")\n",
    "pplot(simulation3_v[0], simulation3_v[2], \"r_1y\")\n",
    "pplot(simulation3_v[0], simulation3_v[3], \"r_2x\")\n",
    "pplot(simulation3_v[0], simulation3_v[4], \"r_2y\")\n",
    "pplot(simulation3_v[1], simulation3_v[2], \"r_1x x r_1y\")\n",
    "pplot(simulation3_v[3], simulation3_v[4], \"r_2x x r_2y\")\n",
    "pplot3(simulation3_v[1], simulation3_v[2], \"r_1x x r_1y\",\n",
    "       simulation3_v[3], simulation3_v[4], \"r_2x x r_2y\",\n",
    "       simulation3_v[5], simulation3_v[6], \"r_3x x r_3y\")"
   ]
  },
  {
   "cell_type": "markdown",
   "id": "430ea694",
   "metadata": {},
   "source": [
    "## Solução estável, número #4\n",
    "\n",
    "$$\n",
    "v_1 = (0.568991007042164, 0.449428951346711) \\\\\n",
    "v_2 = (0.568991007042164, 0.449428951346711) \\\\\n",
    "v_3 = (-1.137982014084328, -0.898857902693422) \\\\\n",
    "$$"
   ]
  },
  {
   "cell_type": "markdown",
   "id": "bf33072e",
   "metadata": {},
   "source": [
    "### Método de Runge-Kutta"
   ]
  },
  {
   "cell_type": "code",
   "execution_count": null,
   "id": "8e848d5c",
   "metadata": {
    "scrolled": false
   },
   "outputs": [],
   "source": [
    "simulation3_rk = evaluate_runge_kutta(three_body, [-1, 0, 1, 0, 0, 0, 0.568991007042164, 0.449428951346711, 0.568991007042164, 0.449428951346711, -1.137982014084328, -0.898857902693422], h=0.00001, finish=1)\n",
    "pplot(simulation3_rk[0], simulation3_rk[1], \"r_1x\")\n",
    "pplot(simulation3_rk[0], simulation3_rk[2], \"r_1y\")\n",
    "pplot(simulation3_rk[0], simulation3_rk[3], \"r_2x\")\n",
    "pplot(simulation3_rk[0], simulation3_rk[4], \"r_2y\")\n",
    "pplot(simulation3_rk[1], simulation3_rk[2], \"r_1x x r_1y\")\n",
    "pplot(simulation3_rk[3], simulation3_rk[4], \"r_2x x r_2y\")\n",
    "pplot3(simulation3_rk[1], simulation3_rk[2], \"r_1x x r_1y\",\n",
    "       simulation3_rk[3], simulation3_rk[4], \"r_2x x r_2y\",\n",
    "       simulation3_rk[5], simulation3_rk[6], \"r_3x x r_3y\")"
   ]
  },
  {
   "cell_type": "markdown",
   "id": "9125f9be",
   "metadata": {},
   "source": [
    "### Método de Verlet"
   ]
  },
  {
   "cell_type": "code",
   "execution_count": null,
   "id": "c319b9db",
   "metadata": {
    "scrolled": false
   },
   "outputs": [],
   "source": [
    "simulation3_v = evaluate_verlet(three_body, [-1, 0, 1, 0, 0, 0, 0.568991007042164, 0.449428951346711, 0.568991007042164, 0.449428951346711, -1.137982014084328, -0.898857902693422], h=0.002, finish=1)\n",
    "pplot(simulation3_v[0], simulation3_v[1], \"r_1x\")\n",
    "pplot(simulation3_v[0], simulation3_v[2], \"r_1y\")\n",
    "pplot(simulation3_v[0], simulation3_v[3], \"r_2x\")\n",
    "pplot(simulation3_v[0], simulation3_v[4], \"r_2y\")\n",
    "pplot(simulation3_v[1], simulation3_v[2], \"r_1x x r_1y\")\n",
    "pplot(simulation3_v[3], simulation3_v[4], \"r_2x x r_2y\")\n",
    "pplot3(simulation3_v[1], simulation3_v[2], \"r_1x x r_1y\",\n",
    "       simulation3_v[3], simulation3_v[4], \"r_2x x r_2y\",\n",
    "       simulation3_v[5], simulation3_v[6], \"r_3x x r_3y\")"
   ]
  },
  {
   "cell_type": "markdown",
   "id": "df531638",
   "metadata": {},
   "source": [
    "## Solução estável, número #22\n",
    "\n",
    "$$\n",
    "v_1 = (0.698073236083981, 0.328500769042967) \\\\\n",
    "v_2 = (0.698073236083981, 0.328500769042967) \\\\\n",
    "v_3 = (-1.396146472167962, -0.657001538085934) \\\\\n",
    "$$"
   ]
  },
  {
   "cell_type": "markdown",
   "id": "324a93aa",
   "metadata": {},
   "source": [
    "### Método de Runge-Kutta"
   ]
  },
  {
   "cell_type": "code",
   "execution_count": null,
   "id": "d831b79e",
   "metadata": {
    "scrolled": false
   },
   "outputs": [],
   "source": [
    "simulation3_rk = evaluate_runge_kutta(three_body, [-1, 0, 1, 0, 0, 0, 0.698073236083981, 0.328500769042967, 0.698073236083981, 0.328500769042967,-1.396146472167962, -0.657001538085934], h=0.00001, finish=1)\n",
    "pplot(simulation3_rk[0], simulation3_rk[1], \"r_1x\")\n",
    "pplot(simulation3_rk[0], simulation3_rk[2], \"r_1y\")\n",
    "pplot(simulation3_rk[0], simulation3_rk[3], \"r_2x\")\n",
    "pplot(simulation3_rk[0], simulation3_rk[4], \"r_2y\")\n",
    "pplot(simulation3_rk[1], simulation3_rk[2], \"r_1x x r_1y\")\n",
    "pplot(simulation3_rk[3], simulation3_rk[4], \"r_2x x r_2y\")\n",
    "pplot3(simulation3_rk[1], simulation3_rk[2], \"r_1x x r_1y\",\n",
    "       simulation3_rk[3], simulation3_rk[4], \"r_2x x r_2y\",\n",
    "       simulation3_rk[5], simulation3_rk[6], \"r_3x x r_3y\")"
   ]
  },
  {
   "cell_type": "markdown",
   "id": "c77055f7",
   "metadata": {},
   "source": [
    "### Método de Verlet"
   ]
  },
  {
   "cell_type": "code",
   "execution_count": null,
   "id": "665b72d1",
   "metadata": {
    "scrolled": false
   },
   "outputs": [],
   "source": [
    "simulation3_v = evaluate_verlet(three_body, [-1, 0, 1, 0, 0, 0, 0.698073236083981, 0.328500769042967, 0.698073236083981, 0.328500769042967,-1.396146472167962, -0.657001538085934], h=0.002, finish=17.12)\n",
    "pplot(simulation3_v[0], simulation3_v[1], \"r_1x\")\n",
    "pplot(simulation3_v[0], simulation3_v[2], \"r_1y\")\n",
    "pplot(simulation3_v[0], simulation3_v[3], \"r_2x\")\n",
    "pplot(simulation3_v[0], simulation3_v[4], \"r_2y\")\n",
    "pplot(simulation3_v[1], simulation3_v[2], \"r_1x x r_1y\")\n",
    "pplot(simulation3_v[3], simulation3_v[4], \"r_2x x r_2y\")\n",
    "pplot3(simulation3_v[1], simulation3_v[2], \"r_1x x r_1y\",\n",
    "       simulation3_v[3], simulation3_v[4], \"r_2x x r_2y\",\n",
    "       simulation3_v[5], simulation3_v[6], \"r_3x x r_3y\")"
   ]
  }
 ],
 "metadata": {
  "kernelspec": {
   "display_name": "Python 3 (ipykernel)",
   "language": "python",
   "name": "python3"
  },
  "language_info": {
   "codemirror_mode": {
    "name": "ipython",
    "version": 3
   },
   "file_extension": ".py",
   "mimetype": "text/x-python",
   "name": "python",
   "nbconvert_exporter": "python",
   "pygments_lexer": "ipython3",
   "version": "3.10.12"
  }
 },
 "nbformat": 4,
 "nbformat_minor": 5
}

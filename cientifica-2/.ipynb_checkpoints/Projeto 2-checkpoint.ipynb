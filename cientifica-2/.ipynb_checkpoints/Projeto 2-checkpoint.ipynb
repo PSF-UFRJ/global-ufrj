{
 "cells": [
  {
   "cell_type": "code",
   "execution_count": 2,
   "id": "cb861039",
   "metadata": {},
   "outputs": [],
   "source": [
    "import numpy as np\n",
    "import matplotlib.pyplot as plt\n",
    "import math"
   ]
  },
  {
   "cell_type": "markdown",
   "id": "4e828290",
   "metadata": {},
   "source": [
    "# Problema de Dois corpos\n",
    "\n",
    "Equações de Newton para o problema de Múltiplos corpos:\n",
    "\n",
    "$$ \n",
    "\\begin{align}\n",
    "m_i \\boldsymbol{\\ddot{r}_i} = - \\sum_{j=1, i \\ne j}^{n} \\frac{\\gamma m_i m_j (\\boldsymbol{r}_i - \\boldsymbol{r}_j)}{\\| \\boldsymbol{r}_i - \\boldsymbol{r}_j \\|^3}, i = 1,2,...,n \n",
    "\\end{align}\n",
    "$$\n",
    "\n",
    "Para o problema de dois corpos fica reduzido a:\n",
    "\n",
    "$$\n",
    "\\begin{cases}\n",
    "m_1\\boldsymbol{\\ddot{r}_1} = - \\frac{\\gamma m_1 m_2(\\boldsymbol{r}_1 - \\boldsymbol{r}_2)}{\\| \\boldsymbol{r_1} - \\boldsymbol{r_2} \\|^3} \\\\\n",
    "m_2\\boldsymbol{\\ddot{r}_2} = - \\frac{\\gamma m_1 m_2(\\boldsymbol{r}_2 - \\boldsymbol{r}_1)}{\\| \\boldsymbol{r_2} - \\boldsymbol{r_1} \\|^3} \n",
    "\\end{cases}\n",
    "$$\n",
    "\n",
    "Que, abrindo componente a componente fica:\n",
    "\n",
    "$$\n",
    "\\begin{cases}\n",
    "m_1\\ddot{r}_{1x} = - \\frac{\\gamma m_1 m_2(r_{1x} - r_{2x})}{\\sqrt{\\left((r_{1x}-r_{2x})^2 - (r_{1y} - r_{2y})^2\\right)}^3} \\\\\n",
    "m_1\\ddot{r}_{1y} = - \\frac{\\gamma m_1 m_2(r_{1y} - r_{2y})}{\\sqrt{\\left((r_{1x}-r_{2x})^2 - (r_{1y} - r_{2y})^2\\right)}^3} \\\\\n",
    "m_2\\ddot{r}_{2x} = - \\frac{\\gamma m_1 m_2(r_{2x} - r_{1x})}{\\sqrt{\\left((r_{1x}-r_{2x})^2 - (r_{1y} - r_{2y})^2\\right)}^3} \\\\\n",
    "m_2\\ddot{r}_{2y} = - \\frac{\\gamma m_1 m_2(r_{2y} - r_{1y})}{\\sqrt{\\left((r_{1x}-r_{2x})^2 - (r_{1y} - r_{2y})^2\\right)}^3} \n",
    "\\end{cases}\n",
    "$$\n",
    "\n",
    "Que, eliminando os $m_1$, $m_2$ redundantes e assumindo $(\\dot{r}_i) = v_i$, temos:\n",
    "\n",
    "$$\n",
    "\\begin{cases}\n",
    "\\dot{r}_{1x} = v_{1x} \\\\\n",
    "\\dot{r}_{1y} = v_{1y} \\\\\n",
    "\\dot{r}_{2x} = v_{2x} \\\\\n",
    "\\dot{r}_{2y} = v_{2y} \\\\\n",
    "\\dot{v}_{1x} = - \\frac{\\gamma m_2 (r_{1x} - r_{2x})}{\\sqrt{\\left((r_{1x}-r_{2x})^2 - (r_{1y} - r_{2y})^2\\right)}^3} \\\\\n",
    "\\dot{v}_{1y} = - \\frac{\\gamma m_2 (r_{1y} - r_{2y})}{\\sqrt{\\left((r_{1x}-r_{2x})^2 - (r_{1y} - r_{2y})^2\\right)}^3} \\\\\n",
    "\\dot{v}_{2x} = - \\frac{\\gamma m_1 (r_{2x} - r_{1x})}{\\sqrt{\\left((r_{1x}-r_{2x})^2 - (r_{1y} - r_{2y})^2\\right)}^3} \\\\\n",
    "\\dot{v}_{2y} = - \\frac{\\gamma m_1 (r_{2y} - r_{1y})}{\\sqrt{\\left((r_{1x}-r_{2x})^2 - (r_{1y} - r_{2y})^2\\right)}^3} \n",
    "\\end{cases}\n",
    "$$\n",
    "\n",
    "E podemos resolver o problema dos dois corpos com métodos numéricos tradicionais."
   ]
  },
  {
   "cell_type": "code",
   "execution_count": 3,
   "id": "b4cd9db9",
   "metadata": {},
   "outputs": [],
   "source": [
    "TTOL = 1e-5\n",
    "\n",
    "def evaluate_runge_kutta(f, u0, h = 0.001, start = 0, finish = 20, tol = TTOL):\n",
    "    t = [start]\n",
    "    u = [u0]\n",
    "    i = 1\n",
    "    while t[-1] < finish:\n",
    "        tn = t[-1]\n",
    "        un = u[-1]\n",
    "        k1 = f(tn, un)\n",
    "        k2 = f(tn + h/2, un + (h/2)*k1)\n",
    "        k3 = f(tn + h/2, un + (h/2)*k2)\n",
    "        k4 = f(tn + h, un + h*k3)\n",
    "        t.append(t[-1] + h)\n",
    "        u.append(un + (h/6)*(k1 + 2*k2 + 2*k3 + k4))\n",
    "        i = i + 1\n",
    "    return np.vstack((np.transpose(t), np.transpose(u)))"
   ]
  },
  {
   "cell_type": "code",
   "execution_count": 4,
   "id": "a41a8e19",
   "metadata": {},
   "outputs": [],
   "source": [
    "def evaluate_verlet():\n",
    "    # To be implemented\n",
    "    pass"
   ]
  },
  {
   "cell_type": "code",
   "execution_count": null,
   "id": "2f2109f4",
   "metadata": {},
   "outputs": [],
   "source": [
    "def two_body(t, u): # t (time) parameter is ignored, since the equations are autonomous\n",
    "    # Constants:\n",
    "    gamma = 1\n",
    "    m1 = 1\n",
    "    m2 = 1\n",
    "    \n",
    "    # Input parameters:\n",
    "    r_1x = u[0]\n",
    "    r_1y = u[1]\n",
    "    r_2x = u[2]\n",
    "    r_2y = u[3]\n",
    "    v_1x = u[4]\n",
    "    v_1y = u[5]\n",
    "    v_2x = u[6]\n",
    "    v_2y = u[7]\n",
    "    \n",
    "    # Evaluation:\n",
    "    dr_1x = v_1x\n",
    "    dr_1y = v_1y\n",
    "    dr_2x = v_2x\n",
    "    dr_2y = v_2y\n",
    "    dv_1x = 0\n",
    "    dv_1y = 0\n",
    "    dv_2x = 0\n",
    "    dv_2y = 0\n",
    "    return [dr_1x,dr_1y,dr_2x,dr_2y,dv_1x,dv_1y,dv_2x,dv_2y]"
   ]
  }
 ],
 "metadata": {
  "kernelspec": {
   "display_name": "Python 3 (ipykernel)",
   "language": "python",
   "name": "python3"
  },
  "language_info": {
   "codemirror_mode": {
    "name": "ipython",
    "version": 3
   },
   "file_extension": ".py",
   "mimetype": "text/x-python",
   "name": "python",
   "nbconvert_exporter": "python",
   "pygments_lexer": "ipython3",
   "version": "3.10.12"
  }
 },
 "nbformat": 4,
 "nbformat_minor": 5
}

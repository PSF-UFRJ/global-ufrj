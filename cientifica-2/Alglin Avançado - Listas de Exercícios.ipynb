{
 "cells": [
  {
   "cell_type": "code",
   "execution_count": 2,
   "id": "45a6145b",
   "metadata": {},
   "outputs": [],
   "source": [
    "import numpy as np\n",
    "import numpy.linalg as l"
   ]
  },
  {
   "cell_type": "code",
   "execution_count": 83,
   "id": "3b1c6989",
   "metadata": {},
   "outputs": [],
   "source": [
    "M = np.array([[1,1,0,1],[2,3,0,1],[0,1,1,1],[1,0,0,1]])\n",
    "M_1 = l.inv(M)\n",
    "A = np.array([[1,0,1,0],[-7,3,3,3],[-1,0,2,1],[4,-1,0,-1]])"
   ]
  },
  {
   "cell_type": "code",
   "execution_count": 84,
   "id": "95b4181d",
   "metadata": {},
   "outputs": [
    {
     "data": {
      "text/plain": [
       "array([[1, 1, 0, 1],\n",
       "       [2, 3, 0, 1],\n",
       "       [0, 1, 1, 1],\n",
       "       [1, 0, 0, 1]])"
      ]
     },
     "execution_count": 84,
     "metadata": {},
     "output_type": "execute_result"
    }
   ],
   "source": [
    "M"
   ]
  },
  {
   "cell_type": "code",
   "execution_count": 85,
   "id": "fb90bacf",
   "metadata": {},
   "outputs": [
    {
     "data": {
      "text/plain": [
       "array([[-3.,  1.,  0.,  2.],\n",
       "       [ 1., -0., -0., -1.],\n",
       "       [-4.,  1.,  1.,  2.],\n",
       "       [ 3., -1.,  0., -1.]])"
      ]
     },
     "execution_count": 85,
     "metadata": {},
     "output_type": "execute_result"
    }
   ],
   "source": [
    "M_1"
   ]
  },
  {
   "cell_type": "code",
   "execution_count": 86,
   "id": "633dfea9",
   "metadata": {},
   "outputs": [
    {
     "data": {
      "text/plain": [
       "array([[ 1,  0,  1,  0],\n",
       "       [-7,  3,  3,  3],\n",
       "       [-1,  0,  2,  1],\n",
       "       [ 4, -1,  0, -1]])"
      ]
     },
     "execution_count": 86,
     "metadata": {},
     "output_type": "execute_result"
    }
   ],
   "source": [
    "A"
   ]
  },
  {
   "cell_type": "code",
   "execution_count": 87,
   "id": "cce0e4ae",
   "metadata": {},
   "outputs": [
    {
     "data": {
      "text/plain": [
       "array([[ 1.00000000e+00,  1.00000000e+00,  8.88178420e-16,\n",
       "         8.88178420e-16],\n",
       "       [ 0.00000000e+00,  1.00000000e+00,  1.00000000e+00,\n",
       "        -2.22044605e-16],\n",
       "       [-4.44089210e-16,  4.44089210e-16,  1.00000000e+00,\n",
       "         0.00000000e+00],\n",
       "       [ 8.88178420e-16,  4.44089210e-16, -4.44089210e-16,\n",
       "         2.00000000e+00]])"
      ]
     },
     "execution_count": 87,
     "metadata": {},
     "output_type": "execute_result"
    }
   ],
   "source": [
    "M_1@A@M"
   ]
  },
  {
   "cell_type": "code",
   "execution_count": null,
   "id": "83bf190f",
   "metadata": {},
   "outputs": [],
   "source": []
  }
 ],
 "metadata": {
  "kernelspec": {
   "display_name": "Python 3 (ipykernel)",
   "language": "python",
   "name": "python3"
  },
  "language_info": {
   "codemirror_mode": {
    "name": "ipython",
    "version": 3
   },
   "file_extension": ".py",
   "mimetype": "text/x-python",
   "name": "python",
   "nbconvert_exporter": "python",
   "pygments_lexer": "ipython3",
   "version": "3.10.12"
  }
 },
 "nbformat": 4,
 "nbformat_minor": 5
}

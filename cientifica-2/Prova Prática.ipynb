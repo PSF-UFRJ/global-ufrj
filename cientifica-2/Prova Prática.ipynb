{
 "cells": [
  {
   "cell_type": "markdown",
   "id": "d10f1923",
   "metadata": {},
   "source": [
    "## Prova prática\n",
    "\n",
    "O problema a ser resolvido utilizando *Backward-Euler*:\n",
    "\n",
    "$$ \\\\\n",
    "\\begin{cases} \n",
    "    \\frac{du_1}{dt} = - k_1 u_1 + k_2 u_2 u_3 & u_1(0) = 1 \\\\\n",
    "    \\frac{du_2}{dt} = k_1 u_1 - k_2 u_2 u_3 - k_3 u_2^2 & u_2(0) = 0 \\\\\n",
    "    \\frac{du_3}{dt} = k_3 u_2^2 & u_3(0) = 0 \\\\\n",
    "\\end{cases}\\\\\n",
    "$$\n",
    "\n",
    "Onde $k_1 = 0.04$, $k_2 = 10^4$, $k_3 = 3 \\cdot 10^7$"
   ]
  },
  {
   "cell_type": "code",
   "execution_count": 1,
   "id": "287bb49c",
   "metadata": {},
   "outputs": [],
   "source": [
    "import numpy as np\n",
    "import matplotlib.pyplot as plt\n",
    "import math"
   ]
  },
  {
   "cell_type": "code",
   "execution_count": 2,
   "id": "a597d935",
   "metadata": {},
   "outputs": [],
   "source": [
    "def fixed_point(x0, fx, err = 1e-8, max_loop = 100000):\n",
    "    stop_point_val = float('inf')\n",
    "    x = x0\n",
    "    prev_fx = x0\n",
    "    for i in range(max_loop):\n",
    "        if stop_point_val < err: break\n",
    "        prev_fx = x\n",
    "        x = fx(x)\n",
    "        stop_point_val = abs(x - prev_fx)\n",
    "    return x, stop_point_val"
   ]
  },
  {
   "cell_type": "code",
   "execution_count": null,
   "id": "40c5efb2",
   "metadata": {},
   "outputs": [],
   "source": [
    "def newton_step(x, fx):\n",
    "    # TODO: Continue from here.\n",
    "    pass\n",
    "\n",
    "def newton(x, fx, err, max_loop = 1000):\n",
    "    pass"
   ]
  }
 ],
 "metadata": {
  "kernelspec": {
   "display_name": "Python 3 (ipykernel)",
   "language": "python",
   "name": "python3"
  },
  "language_info": {
   "codemirror_mode": {
    "name": "ipython",
    "version": 3
   },
   "file_extension": ".py",
   "mimetype": "text/x-python",
   "name": "python",
   "nbconvert_exporter": "python",
   "pygments_lexer": "ipython3",
   "version": "3.10.12"
  }
 },
 "nbformat": 4,
 "nbformat_minor": 5
}

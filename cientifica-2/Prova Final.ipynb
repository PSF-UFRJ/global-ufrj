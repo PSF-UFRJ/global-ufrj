{
 "cells": [
  {
   "cell_type": "markdown",
   "id": "b0196262",
   "metadata": {},
   "source": [
    "# Prova Final 2\n"
   ]
  },
  {
   "cell_type": "markdown",
   "id": "bc0f322e",
   "metadata": {},
   "source": [
    "## Questão 1\n",
    "\n",
    "Queremos resolver a equação do calor $(0<x<1,0<y<1)$:\n",
    "\n",
    "$$ - \\nabla (\\kappa \\nabla T) \\enspace = \\enspace 0$$\n",
    "$$ T(x,0) \\enspace = \\enspace T(x,1) = a $$\n",
    "$$ T(0,y) \\enspace = \\enspace b, \\quad -  \\kappa\\frac{\\partial T}{\\partial x}(1,y) \\enspace = \\enspace h(T - T_{out}) $$\n",
    "\n",
    "Primeiro, qual é o tipo dessa equação?\n",
    "\n",
    "**Resposta:** Trata-se de uma Equação Diferencial Parcial de Segunda Ordem, Elíptica e Autônoma.\n",
    "\n"
   ]
  },
  {
   "cell_type": "markdown",
   "id": "361ec5e2",
   "metadata": {},
   "source": [
    "Descreva qualquer coisa relacionada para resolver o seguinte problema, a grade, a discretização, matrizes...\n",
    "\n",
    "**Resposta:** Primeiro vamos assumir algumas hipótees sobre o problema e chegar a uma Equação Diferencial Parcial tratável para o problema da Equação de Calor:\n",
    "\n",
    "$$- \\nabla (\\kappa \\nabla T) \\enspace = \\enspace - \\nabla \\cdot (\\kappa \\nabla T) \\enspace = $$\n",
    "$$ - \\left( \\frac{\\partial}{\\partial x}, \\frac{\\partial}{\\partial y} \\right) \\cdot \\left( \\kappa \\left( \\frac{\\partial}{\\partial x}, \\frac{\\partial}{\\partial y}\\right) T \\right) \\enspace = $$\n",
    "$$ - \\left( \\frac{\\partial}{\\partial x}, \\frac{\\partial}{\\partial y}\\right) \\cdot \\left( \\kappa \\left( \\frac{\\partial T}{\\partial x}, \\frac{\\partial T}{\\partial y} \\right) \\right) \\enspace = $$\n",
    "$$ - \\frac{\\partial}{\\partial x}\\left( \\kappa \\frac{\\partial T}{\\partial x} \\right) - \\frac{\\partial}{\\partial y}\\left(\\kappa \\frac{\\partial T}{\\partial y}\\right) \\enspace = $$\n",
    "$$ - \\frac{\\partial \\kappa}{\\partial x} \\frac{\\partial T}{\\partial x} - \\kappa \\frac{\\partial^2 T}{\\partial x^2} - \\frac{\\partial \\kappa}{\\partial y} \\frac{\\partial T}{\\partial y} - \\kappa \\frac{\\partial^2 T}{\\partial y^2} \\enspace = \\enspace 0 \\quad (1)$$\n",
    "\n",
    "Mas as equações apresentadas representam o fluxo de calor em algum tipo de material, e $\\kappa$ seria a capacidade térmica de tal material, que costuma ser modelado por uma constante. Assim, todas as expressões com $\\frac{\\partial \\kappa}{\\partial x}$ ou $\\frac{\\partial \\kappa}{\\partial y}$ são nulas e (1) se reduz a:\n",
    "\n",
    "$$ - \\kappa \\frac{\\partial^2 T}{\\partial x^2} - \\kappa \\frac{\\partial^2 T}{\\partial y^2} \\enspace = \\enspace 0 $$\n",
    "$$\\Rightarrow \\frac{\\partial^2 T}{\\partial x^2} + \\frac{\\partial^2 T}{\\partial y^2} \\enspace = \\enspace 0 \\quad (2)$$\n",
    "\n",
    "Que reduz o problema a uma equação de calor clássica, mostrando, novamente, que a EDP é elíptica.\n",
    "\n",
    "Nós já temos as condições de contorno $T(x,0)$, $T(x, 1)$ e $T(0, y)$. Não temos uma quarta condição de contorno, mas temos uma condição inicial, que precisa ser ajustada:\n",
    "\n",
    "$$ - \\kappa\\frac{\\partial T}{\\partial x}(1,y) \\enspace = \\enspace h(T - T_{out}) \\Rightarrow \\enspace \\frac{\\partial T}{\\partial x}(1,y) \\enspace = \\enspace - \\frac{h}{\\kappa}(T - T_{out}) \\quad (3)$$\n",
    "\n",
    "Mas, assim como fizemos com $\\kappa$, precisamos entender o valor do parâmetro $h$. Tal parâmetro, em um problema físico, representa a condutividade térmica, o que, para a maioria dos materiais, é constante (ou seja, não varia no tempo, aqui, representado pela variável $x$). Assim, a Equação $(3)$ mostra que a variação de $T$, no tempo, é linear - informação importante, para o próximo passo, que é a discretização do problema. \n",
    "\n",
    "Podemos discretizar o problema assumindo as seguintes aproximações para as derivadas de segunda ordem:\n",
    "\n",
    "$$ \\frac{\\partial^2 T}{\\partial x^2} \\approx \\frac{T_{i+1,j} - 2 T_{i,j} + T_{i-1, j}}{h_x^2} + O(h_x^2) \\quad (4) $$\n",
    "\n",
    "$$ \\frac{\\partial^2 T}{\\partial y^2} \\approx \\frac{T_{i,j+1} - 2 T_{i,j} + T_{i, j-1}}{h_y^2} + O(h_y^2) \\quad (5) $$\n",
    "\n",
    "$$ \\frac{\\partial T}{\\partial x}(1,y) = \\frac{T_{i,j} - T_{i-1,j}}{h} \\quad (6) $$\n",
    "\n",
    "Nesse ponto, precisamos considerar dois pontos:\n",
    "\n",
    "* O valor de $h_x$ e $h_y$ depende de quantos passos serão usados para montar o _grid_, seja em $x$, seja em $y$, para se resolver o problema, e o tamanho da variação esperada em $x$ e em $y$. Assim, $h_x = \\frac{1}{N_x}, \\enspace h_y = \\frac{1}{N_y} $.\n",
    "* O valor de $\\frac{\\partial T}{\\partial x}(1,y)$ então qualquer aproximação linear da primeira derivada de $T$ em relação a $x$ é exata.\n",
    "\n",
    "Assumindo os erros como desprezíveis, as equações (4) e (5) podem ser combinadas em, por conta da equação (2):\n",
    "\n",
    "$$ \\frac{T_{i+1,j} - 2 T_{i,j} + T_{i-1, j}}{h_x^2} + \\frac{T_{i,j+1} - 2 T_{i,j} + T_{i, j-1}}{h_y^2} \\enspace = \\enspace 0 $$\n",
    "$$ \\Rightarrow \\enspace h_y^2\\left(T_{i+1,j} - 2 T_{i,j} + T_{i-1,j}\\right) + h_x^2\\left(T_{i,j+1} - 2 T_{i,j} + T_{i,j-1}\\right) \\enspace = \\enspace 0 $$\n",
    "\n",
    "$$ \\Rightarrow \\enspace 2 \\left( h_y^2 + h_x^2 \\right) T_{i,j} - h_y^2 T_{i+1,j} - h_y^2 T_{i-1,j} - h_x^2 T_{i,j+1} - h_x^2 T_{i,j-1} \\enspace = \\enspace 0 \\quad (7) $$\n",
    "\n",
    "\n",
    "E a equação (6) pode ser combinada com a equação (3) e:\n",
    "\n",
    "$$ \\frac{T_{i,j} - T_{i-1,j}}{h_x} \\enspace = \\enspace - \\frac{h}{\\kappa}(T - T_{out}) $$\n",
    "$$ \\Rightarrow \\enspace T_{i,j} - T_{i-1,j} \\enspace = \\enspace - \\frac{h_x h}{\\kappa}(T - T_{out}) \\quad (8)$$\n",
    "\n",
    "Combinando (7) e (8), chegamos em um resultado que depende apenas das condições de contorno que já temos:\n",
    "\n",
    "$$ T_{i,j} - T_{i-1,j} \\enspace = \\enspace - \\frac{h_x h}{\\kappa}(T - T_{out}) \\enspace \\Leftrightarrow \\enspace T_{i+1,j} - T_{i,j} \\enspace = \\enspace - \\frac{h_x h}{\\kappa}(T - T_{out})$$\n",
    "$$ \\Rightarrow \\enspace T_{i+1,j} \\enspace = \\enspace T_{i,j} - \\frac{h_x h}{\\kappa}(T - T_{out}) \\quad (9)$$\n",
    "\n",
    "Combinando (7) e (9):\n",
    "\n",
    "$$ \\text{(7), (9)} \\Rightarrow \\enspace 2 \\left( h_y^2 + h_x^2 \\right) T_{i,j} - h_y^2 T_{i+1,j} - h_y^2 T_{i-1,j} - h_x^2 T_{i,j+1} - h_x^2 T_{i,j-1} \\enspace = $$\n",
    "$$ 2 \\left( h_y^2 + h_x^2 \\right) T_{i,j} - h_y^2 \\left( T_{i,j} - \\frac{h_x h}{\\kappa}(T - T_{out}) \\right) - h_y^2 T_{i-1,j} - h_x^2 T_{i,j+1} - h_x^2 T_{i,j-1} \\enspace = $$\n",
    "$$ \\left(h_y^2 + 2 h_x^2 \\right) T_{i,j} - h_y^2 T_{i-1,j} - h_x^2 T_{i,j+1} - h_x^2 T_{i,j-1} \\enspace = - \\frac{h_y^2 h_x h}{\\kappa}(T-T_{out})$$\n",
    "\n",
    "Agora precisamos atribuir adequadamente os valores de $T = T_{i,j}$ e $T_{out} = T(x,0) = T(x,1) = a$:\n",
    "\n",
    "$$ \\left(h_y^2 + 2 h_x^2 + \\frac{h_y^2 h_x h}{\\kappa} \\right) T_{i,j} - h_y^2 T_{i-1,j} - h_x^2 T_{i,j+1} - h_x^2 T_{i,j-1} \\enspace = \\enspace \\frac{h_y^2 h_x h}{\\kappa}T_{out} \\enspace = \\enspace \\frac{h_y^2 h_x h}{\\kappa}a \\quad (10)$$\n",
    "\n",
    "Com a equação 13 podemos, finalmente, montar a matriz geral, para N passos em x e N passos em y.\n"
   ]
  },
  {
   "cell_type": "markdown",
   "id": "56e0131c",
   "metadata": {},
   "source": [
    "Primeiro, vamos ajustar notação:\n",
    "\n",
    "$$ \\alpha = h_y^2 + 2 h_x^2 + \\frac{h_y^2 h_x h}{\\kappa}, \\quad \\beta = \\frac{h_y^2 h_x h}{\\kappa}a $$\n",
    "\n",
    "Assim, (10) se torna:\n",
    "\n",
    "$$ \\alpha T_{i,j} - h_y^2 T_{i-1,j} - h_x^2 T_{i,j+1} - h_x^2 T_{i,j-1} \\enspace = \\enspace \\beta \\quad (11) $$\n",
    "\n",
    "E vamos assumir que o espaço do Problema de EDP apresentado seja dividido em $N_x$ células em $x$ e $N_y$ células em $y$.\n",
    "\n",
    "O que significa que todos os $T_{i,j}$ vão variar em $i = 1, 2, ..., N_x + 1$ e $j = 1, 2, ..., N_y + 1$, sendo:\n",
    "\n",
    "$$ T_{1, 1} = T(0, 0), \\enspace T_{N_x+1, N_y+1} = T(1,1), \\enspace T_{i, j} = T\\left(\\frac{i-1}{N_x}, \\frac{j-1}{N_y}\\right)$$\n",
    "\n",
    "O Cálculo de todos os $T_{i,j}$ é feito através de um sistema de equações que vinculam todos os T_{i,j} de acordo com a regra da equação (11), acima, levando ao sistema de equações:\n",
    "\n"
   ]
  },
  {
   "cell_type": "code",
   "execution_count": null,
   "id": "bb1987c6",
   "metadata": {},
   "outputs": [],
   "source": []
  }
 ],
 "metadata": {
  "kernelspec": {
   "display_name": "Python 3 (ipykernel)",
   "language": "python",
   "name": "python3"
  },
  "language_info": {
   "codemirror_mode": {
    "name": "ipython",
    "version": 3
   },
   "file_extension": ".py",
   "mimetype": "text/x-python",
   "name": "python",
   "nbconvert_exporter": "python",
   "pygments_lexer": "ipython3",
   "version": "3.10.12"
  }
 },
 "nbformat": 4,
 "nbformat_minor": 5
}

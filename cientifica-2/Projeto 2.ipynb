{
 "cells": [
  {
   "cell_type": "code",
   "execution_count": null,
   "id": "3ce93116",
   "metadata": {},
   "outputs": [],
   "source": [
    "import numpy as np\n",
    "import matplotlib.pyplot as plt\n",
    "import math"
   ]
  },
  {
   "cell_type": "markdown",
   "id": "4fd9c00d",
   "metadata": {},
   "source": [
    "# Problema de Dois corpos\n",
    "\n",
    "Equações de Newton para o problema de Múltiplos corpos:\n",
    "\n",
    "$$ \n",
    "\\begin{align}\n",
    "m_i \\boldsymbol{\\ddot{r}_i} = - \\sum_{j=1, i \\ne j}^{n} \\frac{\\gamma m_i m_j (\\boldsymbol{r}_i - \\boldsymbol{r}_j)}{\\| \\boldsymbol{r}_i - \\boldsymbol{r}_j \\|^3}, i = 1,2,...,n \n",
    "\\end{align}\n",
    "$$\n",
    "\n",
    "Para o problema de dois corpos fica reduzido a:\n",
    "\n",
    "$$\n",
    "\\begin{cases}\n",
    "m_1\\boldsymbol{\\ddot{r}_1} = - \\frac{\\gamma m_1 m_2(\\boldsymbol{r}_1 - \\boldsymbol{r}_2)}{\\| \\boldsymbol{r_1} - \\boldsymbol{r_2} \\|^3} \\\\\n",
    "m_2\\boldsymbol{\\ddot{r}_2} = - \\frac{\\gamma m_1 m_2(\\boldsymbol{r}_2 - \\boldsymbol{r}_1)}{\\| \\boldsymbol{r_2} - \\boldsymbol{r_1} \\|^3} \n",
    "\\end{cases}\n",
    "$$\n",
    "\n",
    "Que, abrindo componente a componente fica:\n",
    "\n",
    "$$\n",
    "\\begin{cases}\n",
    "m_1\\ddot{r}_{1x} = - \\frac{\\gamma m_1 m_2(r_{1x} - r_{2x})}{\\sqrt{\\left((r_{1x}-r_{2x})^2 - (r_{1y} - r_{2y})^2\\right)}^3} \\\\\n",
    "m_1\\ddot{r}_{1y} = - \\frac{\\gamma m_1 m_2(r_{1y} - r_{2y})}{\\sqrt{\\left((r_{1x}-r_{2x})^2 - (r_{1y} - r_{2y})^2\\right)}^3} \\\\\n",
    "m_2\\ddot{r}_{2x} = - \\frac{\\gamma m_1 m_2(r_{2x} - r_{1x})}{\\sqrt{\\left((r_{1x}-r_{2x})^2 - (r_{1y} - r_{2y})^2\\right)}^3} \\\\\n",
    "m_2\\ddot{r}_{2y} = - \\frac{\\gamma m_1 m_2(r_{2y} - r_{1y})}{\\sqrt{\\left((r_{1x}-r_{2x})^2 - (r_{1y} - r_{2y})^2\\right)}^3} \n",
    "\\end{cases}\n",
    "$$\n",
    "\n",
    "Que, eliminando os $m_1$, $m_2$ redundantes e assumindo $(\\dot{r}_i) = v_i$, temos:\n",
    "\n",
    "$$\n",
    "\\begin{cases}\n",
    "\\dot{r}_{1x} = v_{1x} \\\\\n",
    "\\dot{r}_{1y} = v_{1y} \\\\\n",
    "\\dot{r}_{2x} = v_{2x} \\\\\n",
    "\\dot{r}_{2y} = v_{2y} \\\\\n",
    "\\dot{v}_{1x} = - \\frac{\\gamma m_2 (r_{1x} - r_{2x})}{\\sqrt{\\left((r_{1x}-r_{2x})^2 - (r_{1y} - r_{2y})^2\\right)}^3} \\\\\n",
    "\\dot{v}_{1y} = - \\frac{\\gamma m_2 (r_{1y} - r_{2y})}{\\sqrt{\\left((r_{1x}-r_{2x})^2 - (r_{1y} - r_{2y})^2\\right)}^3} \\\\\n",
    "\\dot{v}_{2x} = - \\frac{\\gamma m_1 (r_{2x} - r_{1x})}{\\sqrt{\\left((r_{1x}-r_{2x})^2 - (r_{1y} - r_{2y})^2\\right)}^3} \\\\\n",
    "\\dot{v}_{2y} = - \\frac{\\gamma m_1 (r_{2y} - r_{1y})}{\\sqrt{\\left((r_{1x}-r_{2x})^2 - (r_{1y} - r_{2y})^2\\right)}^3} \n",
    "\\end{cases}\n",
    "$$\n",
    "\n",
    "E podemos resolver o problema dos dois corpos com métodos numéricos tradicionais."
   ]
  },
  {
   "cell_type": "code",
   "execution_count": null,
   "id": "60a33938",
   "metadata": {},
   "outputs": [],
   "source": [
    "# Helper plot function\n",
    "def pplot(tn, un, label):\n",
    "    fig, ax = plt.subplots()\n",
    "    plt.plot(tn, un, label=label)\n",
    "    ax.set_axisbelow(True)\n",
    "    ax.minorticks_on()\n",
    "    ax.grid(which='major', linestyle='-', linewidth='0.5', color='red')\n",
    "    ax.grid(which='minor', linestyle=':', linewidth='0.5', color='black')\n",
    "    plt.title(\"Numeric solution of Differential Equation\")\n",
    "    plt.legend()\n",
    "    ax = plt.gca()"
   ]
  },
  {
   "cell_type": "code",
   "execution_count": null,
   "id": "07eb9c06",
   "metadata": {},
   "outputs": [],
   "source": [
    "# Runge-Kutta4 implementation:\n",
    "def evaluate_runge_kutta(f, u0, h = 0.001, start = 0, finish = 60):\n",
    "    t = [start]\n",
    "    u = [u0]\n",
    "    i = 1\n",
    "    while t[-1] < finish:\n",
    "        tn = t[-1]\n",
    "        un = u[-1]\n",
    "        k1 = f(tn, un)\n",
    "        k2 = f(tn + h/2, un + (h/2)*k1)\n",
    "        k3 = f(tn + h/2, un + (h/2)*k2)\n",
    "        k4 = f(tn + h, un + h*k3)\n",
    "        t.append(t[-1] + h)\n",
    "        u.append(un + (h/6)*(k1 + 2*k2 + 2*k3 + k4))\n",
    "        i = i + 1\n",
    "    return np.vstack((np.transpose(t), np.transpose(u)))"
   ]
  },
  {
   "cell_type": "code",
   "execution_count": null,
   "id": "e3792812",
   "metadata": {},
   "outputs": [],
   "source": [
    "# Verlet implementation:\n",
    "def evaluate_verlet():\n",
    "    # To be implemented\n",
    "    pass"
   ]
  },
  {
   "cell_type": "code",
   "execution_count": null,
   "id": "368b44cf",
   "metadata": {},
   "outputs": [],
   "source": [
    "# Two Body system function:\n",
    "def two_body(t, u): # t (time) parameter is ignored, since the equations are autonomous\n",
    "    # Constants:\n",
    "    gamma = 1\n",
    "    m1 = 1\n",
    "    m2 = 1\n",
    "    \n",
    "    # Input parameters:\n",
    "    r_1x = u[0]\n",
    "    r_1y = u[1]\n",
    "    r_2x = u[2]\n",
    "    r_2y = u[3]\n",
    "    v_1x = u[4]\n",
    "    v_1y = u[5]\n",
    "    v_2x = u[6]\n",
    "    v_2y = u[7]\n",
    "    \n",
    "    # Evaluation:\n",
    "    dr_1x = v_1x\n",
    "    dr_1y = v_1y\n",
    "    dr_2x = v_2x\n",
    "    dr_2y = v_2y\n",
    "    dv_1x = - (gamma * m2 *(r_1x - r_2x))/(((r_1x - r_2x)**2 + (r_1y - r_2y)**2)**(3/2))\n",
    "    dv_1y = - (gamma * m2 *(r_1y - r_2y))/(((r_1x - r_2x)**2 + (r_1y - r_2y)**2)**(3/2))\n",
    "    dv_2x = - (gamma * m1 *(r_2x - r_1x))/(((r_2x - r_1x)**2 + (r_2y - r_1y)**2)**(3/2))\n",
    "    dv_2y = - (gamma * m1 *(r_2y - r_1y))/(((r_2x - r_1x)**2 + (r_2y - r_1y)**2)**(3/2))\n",
    "    return np.array([dr_1x,dr_1y,dr_2x,dr_2y,dv_1x,dv_1y,dv_2x,dv_2y])"
   ]
  },
  {
   "cell_type": "code",
   "execution_count": null,
   "id": "69079754",
   "metadata": {},
   "outputs": [],
   "source": [
    "simulation = evaluate_runge_kutta(two_body, [1, 0, -1, 0, 0, 1, 0, -1], 0.1)"
   ]
  },
  {
   "cell_type": "code",
   "execution_count": null,
   "id": "a9e362c1",
   "metadata": {},
   "outputs": [],
   "source": [
    "simulation"
   ]
  }
 ],
 "metadata": {
  "kernelspec": {
   "display_name": "Python 3 (ipykernel)",
   "language": "python",
   "name": "python3"
  },
  "language_info": {
   "codemirror_mode": {
    "name": "ipython",
    "version": 3
   },
   "file_extension": ".py",
   "mimetype": "text/x-python",
   "name": "python",
   "nbconvert_exporter": "python",
   "pygments_lexer": "ipython3",
   "version": "3.10.12"
  }
 },
 "nbformat": 4,
 "nbformat_minor": 5
}

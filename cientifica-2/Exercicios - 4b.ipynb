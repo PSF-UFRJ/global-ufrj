{
 "cells": [
  {
   "cell_type": "markdown",
   "id": "06feb069",
   "metadata": {},
   "source": [
    "# Exercises\n",
    "\n",
    "Book: Edsberg, Lennart: Introduction to Computation and Modeling for Differential Equations"
   ]
  },
  {
   "cell_type": "markdown",
   "id": "992d0535",
   "metadata": {},
   "source": [
    "## 3.3.10 - Page 53\n",
    "\n",
    "To prove the statement given by the question, we just translate $\\delta u$ by the vector given by the inverse of Jacobian, at the selected aproximation point $\\boldsymbol{b}$:\n",
    "\n",
    "$\\delta v = \\delta u + J^{-1} c \\Rightarrow \\delta u = \\delta v - J^{-1} c \\text{, mas } c = f(b) \\Rightarrow f(u + \\delta u) = f(u + \\delta v - J^{-1} c) = f(b) + J(\\delta v - J^{-1}c) = f(b) + J \\delta u$\n",
    "\n",
    "$f(b) + J(\\delta v - J^{-1}c) = f(b) + J(\\delta v) - J J^{-1}(c) = f(b) + J(\\delta v) - c = c + J(\\delta v) -c = J(\\delta v) \\Rightarrow f(u + \\delta u) = J(\\delta v)$ \n",
    "\n",
    "And the constant term vanishes. &#x25A1;"
   ]
  },
  {
   "cell_type": "markdown",
   "id": "174834f3",
   "metadata": {},
   "source": [
    "## 3.3.11 - Page 53\n",
    "\n",
    "See how to define the sequence at page 50, as shown to the standard forward-Euler method"
   ]
  },
  {
   "cell_type": "code",
   "execution_count": 3,
   "id": "61364456",
   "metadata": {},
   "outputs": [],
   "source": [
    "## Insert code here"
   ]
  },
  {
   "cell_type": "markdown",
   "id": "b3f289d1",
   "metadata": {},
   "source": [
    "## 3.3.13 - Page 56\n",
    "\n",
    "To be done"
   ]
  },
  {
   "cell_type": "code",
   "execution_count": 4,
   "id": "6ad0946e",
   "metadata": {},
   "outputs": [],
   "source": [
    "## Insert code here"
   ]
  },
  {
   "cell_type": "code",
   "execution_count": null,
   "id": "bf03a276",
   "metadata": {},
   "outputs": [],
   "source": []
  }
 ],
 "metadata": {
  "kernelspec": {
   "display_name": "Python 3 (ipykernel)",
   "language": "python",
   "name": "python3"
  },
  "language_info": {
   "codemirror_mode": {
    "name": "ipython",
    "version": 3
   },
   "file_extension": ".py",
   "mimetype": "text/x-python",
   "name": "python",
   "nbconvert_exporter": "python",
   "pygments_lexer": "ipython3",
   "version": "3.10.12"
  }
 },
 "nbformat": 4,
 "nbformat_minor": 5
}

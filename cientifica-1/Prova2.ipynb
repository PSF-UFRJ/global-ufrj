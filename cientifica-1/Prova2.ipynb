{
 "cells": [
  {
   "cell_type": "markdown",
   "id": "3f63ecf0",
   "metadata": {},
   "source": [
    "![CC-BY-SA](https://mirrors.creativecommons.org/presskit/buttons/88x31/svg/by-sa.svg)\n",
    "\n",
    "\n",
    "This notebook was created by [Bernardo Freitas Paulo da Costa](http://www.im.ufrj.br/bernardofpc),\n",
    "and is licensed under Creative Commons BY-SA."
   ]
  },
  {
   "cell_type": "markdown",
   "id": "c34943bc",
   "metadata": {},
   "source": [
    "Antes de enviar este Teste, verifique que tudo está funcionando como esperado.\n",
    "Por exemplo, **rode o código inteiro, do zero**.\n",
    "Para isso, vá no menu, escolha _Kernel_, depois _Restart & Run All_.\n",
    "\n",
    "Verifique, também, que você respondeu todas as questões:\n",
    "* as questões de código têm `YOUR CODE HERE` (e você pode apagar o `raise NotImplemented` ao incluir sua resposta)\n",
    "* as questões discursivas têm \"YOUR ANSWER HERE\"."
   ]
  },
  {
   "cell_type": "markdown",
   "id": "694b31da",
   "metadata": {},
   "source": [
    "---"
   ]
  },
  {
   "cell_type": "code",
   "execution_count": 29,
   "id": "52dfb8b0",
   "metadata": {},
   "outputs": [],
   "source": [
    "import numpy as np\n",
    "import matplotlib.pyplot as plt"
   ]
  },
  {
   "cell_type": "markdown",
   "id": "973823b0",
   "metadata": {},
   "source": [
    "# Parte 1: Interpolação, Regressão e Derivadas\n",
    "\n",
    "Vimos que, ao usar interpolação polinomial com pontos igualmente espaçados,\n",
    "a função fica bem melhor aproximada no centro do intervalo do que nas extremidades.\n",
    "Nesta parte, veremos como estas técnicas poderiam ser usadas para aproximar as derivadas de uma função."
   ]
  },
  {
   "cell_type": "markdown",
   "id": "a1490a59",
   "metadata": {},
   "source": [
    "## Questão 1: Funções básicas"
   ]
  },
  {
   "cell_type": "code",
   "execution_count": 30,
   "id": "849d51c0",
   "metadata": {
    "deletable": false,
    "nbgrader": {
     "cell_type": "code",
     "checksum": "d42c61b9d6c5862e183c3621b50c2a29",
     "grade": false,
     "grade_id": "cell-566b8544aff904b5",
     "locked": false,
     "schema_version": 3,
     "solution": true,
     "task": false
    }
   },
   "outputs": [],
   "source": [
    "def interp(xs, ys):\n",
    "    \"Retorna os coeficientes do polinomio interpolador para os pontos  (xs, ys).\"\n",
    "    def vander(a):\n",
    "        l = len(a)\n",
    "        return np.array([[a[v] ** i for i in range(l)] for v in range(l)])\n",
    "    _xs = vander(xs)\n",
    "    return np.linalg.solve(_xs, ys)"
   ]
  },
  {
   "cell_type": "code",
   "execution_count": 31,
   "id": "e0b5b382",
   "metadata": {
    "deletable": false,
    "nbgrader": {
     "cell_type": "code",
     "checksum": "62b9879d695be9d3c283a1093dc50f83",
     "grade": false,
     "grade_id": "cell-855e9b9885fc24e8",
     "locked": false,
     "schema_version": 3,
     "solution": true,
     "task": false
    }
   },
   "outputs": [],
   "source": [
    "def regress(xs, ys, d):\n",
    "    \"Retorna os coeficientes do polinomio de grau  d  que aproxima, em mínimos quadrados, os pontos  (xs, ys).\"\n",
    "    axs = np.array(xs)\n",
    "    model = np.array([np.power(axs, i) for i in range(d+1)]).transpose()\n",
    "    coefs, *_ = np.linalg.lstsq(model, ys, rcond=None)\n",
    "    # Observação: Retorna os coeficientes do menor grau para o maior - \n",
    "    # para ser do maior para o menor, precisa reverter\n",
    "    return coefs"
   ]
  },
  {
   "cell_type": "code",
   "execution_count": 32,
   "id": "ac57d119",
   "metadata": {
    "deletable": false,
    "nbgrader": {
     "cell_type": "code",
     "checksum": "bcb0e57dd3892aaa1b979fd33741057e",
     "grade": false,
     "grade_id": "cell-b8e281de75f73d47",
     "locked": false,
     "schema_version": 3,
     "solution": true,
     "task": false
    }
   },
   "outputs": [],
   "source": [
    "def polyval(coefs, t):\n",
    "    \"Calcula o valor do polinômio com coeficientes  coefs  (dados em ordem crescente) nos pontos  t.\"    \n",
    "    def poly_eval(coefs, t):\n",
    "        ts = np.array([np.power(t, i) for i in range(len(coefs))])\n",
    "        cs = np.array(coefs)\n",
    "        c = cs * ts\n",
    "        return sum(c)\n",
    "    return np.array([poly_eval(coefs, tt) for tt in t])"
   ]
  },
  {
   "cell_type": "code",
   "execution_count": 33,
   "id": "7d9f5a73",
   "metadata": {
    "deletable": false,
    "editable": false,
    "nbgrader": {
     "cell_type": "code",
     "checksum": "db0681c72be6d4af8484e4e8fe9ce04f",
     "grade": true,
     "grade_id": "cell-4e69d2d450f7af2a",
     "locked": true,
     "points": 1,
     "schema_version": 3,
     "solution": false,
     "task": false
    }
   },
   "outputs": [],
   "source": [
    "assert np.allclose(polyval([1,2], [0,1,2,3]), [1,3,5,7])"
   ]
  },
  {
   "cell_type": "code",
   "execution_count": 34,
   "id": "25984e7b",
   "metadata": {
    "deletable": false,
    "editable": false,
    "nbgrader": {
     "cell_type": "code",
     "checksum": "5c5426cf5d3e50e9e75c0216e076ba49",
     "grade": true,
     "grade_id": "cell-7121181d665e82cd",
     "locked": true,
     "points": 1,
     "schema_version": 3,
     "solution": false,
     "task": false
    }
   },
   "outputs": [],
   "source": [
    "assert np.allclose(polyval([1,0,1,2], [0,1,-1,1/2,3]), [1, 4, 0, 3/2, 64])"
   ]
  },
  {
   "cell_type": "code",
   "execution_count": 35,
   "id": "375161b1",
   "metadata": {
    "deletable": false,
    "nbgrader": {
     "cell_type": "code",
     "checksum": "7452cc90f4c40875bb6526a1bc3a68cd",
     "grade": false,
     "grade_id": "cell-55cbdc3fb66c8801",
     "locked": false,
     "schema_version": 3,
     "solution": true,
     "task": false
    }
   },
   "outputs": [],
   "source": [
    "def derivada(coefs):\n",
    "    \"Retorna a lista dos coeficientes do polinômio que é a derivada do polinômio dados pelos coeficientes  coefs.\"\n",
    "    return [coefs[i] * i for i in range(len(coefs))][1:]"
   ]
  },
  {
   "cell_type": "code",
   "execution_count": 36,
   "id": "6c9c29ce",
   "metadata": {
    "deletable": false,
    "editable": false,
    "nbgrader": {
     "cell_type": "code",
     "checksum": "4e3dacad01c4be8d25344ad6b4e1ab9d",
     "grade": true,
     "grade_id": "cell-ee3ddf220ea61d8b",
     "locked": true,
     "points": 1,
     "schema_version": 3,
     "solution": false,
     "task": false
    }
   },
   "outputs": [],
   "source": [
    "assert np.allclose(derivada([1,2,3,4,5]), [2,6,12,20])"
   ]
  },
  {
   "cell_type": "markdown",
   "id": "438b1ac5",
   "metadata": {},
   "source": [
    "## Questão 2: Erros de interpolação\n",
    "\n",
    "Usando pontos igualmente espaçados,\n",
    "podemos calular um polinômio $p_d$ de grau $d$ que interpola uma função $f$.\n",
    "Ao derivar este polinômio, obtemos uma aproximação da derivada $f'$.\n",
    "\n",
    "Vamos estudar como este método funciona para a função seno."
   ]
  },
  {
   "cell_type": "markdown",
   "id": "34df680e",
   "metadata": {},
   "source": [
    "Faça, lado a lado (usando `subplots`),\n",
    "o gráfico do erro cometido pelo polinômio de interpolação de grau 2 para a função seno no intervalo [0,3],\n",
    "e o erro resultante de usar a derivada deste polinômio para aproximar a derivada."
   ]
  },
  {
   "cell_type": "code",
   "execution_count": 64,
   "id": "a9074990",
   "metadata": {
    "deletable": false,
    "nbgrader": {
     "cell_type": "code",
     "checksum": "1351cb0704408487325f5d81bf009617",
     "grade": true,
     "grade_id": "cell-2a7d42db9637df01",
     "locked": false,
     "points": 1,
     "schema_version": 3,
     "solution": true,
     "task": false
    }
   },
   "outputs": [
    {
     "data": {
      "image/png": "[encoded data removed]",
      "text/plain": [
       "<Figure size 1300x400 with 2 Axes>"
      ]
     },
     "metadata": {},
     "output_type": "display_data"
    }
   ],
   "source": [
    "fig, (ax1, ax2) = plt.subplots(ncols=2, figsize=(13,4))\n",
    "\n",
    "intervalo_interp = [0, 1.5, 3]\n",
    "sin_interp = np.sin(intervalo_interp)\n",
    "\n",
    "coefs_interp = interp(intervalo_interp, sin_interp)\n",
    "dcoefs_interp = derivada(coefs_interp)\n",
    "\n",
    "def make_interval(i,e, step=0.01):\n",
    "    r = np.arange(i, e, step)\n",
    "    if(r[-1] < e):\n",
    "        r = np.append(r, e)\n",
    "    return r\n",
    "\n",
    "intervalo = make_interval(0, 3)\n",
    "seno = np.sin(intervalo)\n",
    "dseno = np.cos(intervalo)\n",
    "seno_interp = polyval(coefs_interp, intervalo)\n",
    "dseno_interp = polyval(dcoefs_interp, intervalo)\n",
    "\n",
    "plt.subplot(1,2,1)\n",
    "erro = np.abs(seno - seno_interp)\n",
    "plt.plot(intervalo,erro, label=\"Erro\")\n",
    "ax1.set_axisbelow(True)\n",
    "ax1.minorticks_on()\n",
    "ax1.grid(which='major', linestyle='-', linewidth='0.5', color='red')\n",
    "ax1.grid(which='minor', linestyle=':', linewidth='0.5', color='black')\n",
    "plt.title(\"Erro interpolação do Seno com Pol. grau 2\")\n",
    "plt.legend()\n",
    "\n",
    "plt.subplot(1,2,2)\n",
    "derro = np.abs(dseno - dseno_interp)\n",
    "plt.plot(intervalo,derro, label=\"Erro\")\n",
    "ax2.set_axisbelow(True)\n",
    "ax2.minorticks_on()\n",
    "ax2.grid(which='major', linestyle='-', linewidth='0.5', color='red')\n",
    "ax2.grid(which='minor', linestyle=':', linewidth='0.5', color='black')\n",
    "plt.title(\"Erro interpolação de dSeno com derivada Pol. grau 2\")\n",
    "plt.legend()\n",
    "\n",
    "fig = plt.gcf()"
   ]
  },
  {
   "cell_type": "code",
   "execution_count": 58,
   "id": "96996246",
   "metadata": {
    "deletable": false,
    "editable": false,
    "nbgrader": {
     "cell_type": "code",
     "checksum": "76f75de6010d08146093a192611505ab",
     "grade": true,
     "grade_id": "cell-21255229689d00e2",
     "locked": true,
     "points": 1,
     "schema_version": 3,
     "solution": false,
     "task": false
    }
   },
   "outputs": [],
   "source": [
    "for ax in fig.axes:\n",
    "    assert len(ax.get_title()) >= 10"
   ]
  },
  {
   "cell_type": "markdown",
   "id": "29b442cb",
   "metadata": {},
   "source": [
    "Quem tem mais erro: a aproximação da função ou da derivada?\n",
    "(Talvez você tenha que ajustar `ylim` para ver melhor o gráfico)"
   ]
  },
  {
   "cell_type": "markdown",
   "id": "ee88081a",
   "metadata": {
    "deletable": false,
    "nbgrader": {
     "cell_type": "markdown",
     "checksum": "a730dabdc8cb145d8616c9a606a2922b",
     "grade": true,
     "grade_id": "cell-f401dc89c460fd8a",
     "locked": false,
     "points": 2,
     "schema_version": 3,
     "solution": true,
     "task": false
    }
   },
   "source": [
    "A aproximação da Derivada, claramente, tem um erro maior. Vendo pelo gráfico, que possui uma grade bem explícita, é possível ver que, mesmo ignorados os erros das extremidades dos intervalos, os erros da derivada chegam a um valor de $0.08$, enquanto o erro da aproximação da função chega, no máximo, a um erro de $0.06$.\n",
    "\n",
    "Considerando as extremidades, o erro de aproximação chegam a um valor maior do que $0.28$, mostrando que a aproximação da derivada é maior."
   ]
  },
  {
   "cell_type": "markdown",
   "id": "c4db4c42",
   "metadata": {},
   "source": [
    "## Questão 3: mais graus!\n",
    "\n",
    "Faça também para os graus 4, 6 e 8."
   ]
  },
  {
   "cell_type": "code",
   "execution_count": 98,
   "id": "c8f35173",
   "metadata": {
    "deletable": false,
    "nbgrader": {
     "cell_type": "code",
     "checksum": "c57de3529c4dc28e8fbe78b07a2e146e",
     "grade": true,
     "grade_id": "cell-973f3ee1fa20a0c4",
     "locked": false,
     "points": 1,
     "schema_version": 3,
     "solution": true,
     "task": false
    },
    "scrolled": false
   },
   "outputs": [
    {
     "name": "stdout",
     "output_type": "stream",
     "text": [
      "Máximas diferença de erro - Pol. grau 4: \n",
      "0.016538157636382722\n",
      "Máximas diferença de erro - Pol. grau 6: \n",
      "0.0005040667667452758\n",
      "Máximas diferença de erro - Pol. grau 8: \n",
      "8.690999378530018e-06\n",
      "\n",
      "Diferenças das médias de erro - Pol. grau 4: \n",
      "0.001841551683894034\n",
      "Diferenças das médias de erro - Pol. grau 6: \n",
      "3.429280937455083e-05\n",
      "Diferenças das médias de erro - Pol. grau 8: \n",
      "3.946587385928932e-07\n",
      "\n"
     ]
    },
    {
     "data": {
      "image/png": "[encoded data removed]",
      "text/plain": [
       "<Figure size 1300x400 with 2 Axes>"
      ]
     },
     "metadata": {},
     "output_type": "display_data"
    }
   ],
   "source": [
    "fig, (ax1, ax2) = plt.subplots(ncols=2, figsize=(13,4))\n",
    "\n",
    "def make_interval(i,e, step=0.01):\n",
    "    r = np.arange(i, e, step)\n",
    "    if(r[-1] < e):\n",
    "        r = np.append(r, e)\n",
    "    return r\n",
    "\n",
    "intervalo = make_interval(0, 3)\n",
    "seno = np.sin(intervalo)\n",
    "dseno = np.cos(intervalo)\n",
    "\n",
    "# Polinomio grau 4\n",
    "intervalo_interp4 = [0, 0.75, 1.5, 2.25, 3]\n",
    "sin_interp4 = np.sin(intervalo_interp4)\n",
    "coefs_interp4 = interp(intervalo_interp4, sin_interp4)\n",
    "dcoefs_interp4 = derivada(coefs_interp4)\n",
    "seno_interp4 = polyval(coefs_interp4, intervalo)\n",
    "dseno_interp4 = polyval(dcoefs_interp4, intervalo)\n",
    "erro4 = np.abs(seno - seno_interp4)\n",
    "derro4 = np.abs(dseno - dseno_interp4)\n",
    "\n",
    "# Polinomio grau 6\n",
    "intervalo_interp6 = [0, 0.5, 1, 1.5, 2, 2.5, 3]\n",
    "sin_interp6 = np.sin(intervalo_interp6)\n",
    "coefs_interp6 = interp(intervalo_interp6, sin_interp6)\n",
    "dcoefs_interp6 = derivada(coefs_interp6)\n",
    "seno_interp6 = polyval(coefs_interp6, intervalo)\n",
    "dseno_interp6 = polyval(dcoefs_interp6, intervalo)\n",
    "erro6 = np.abs(seno - seno_interp6)\n",
    "derro6 = np.abs(dseno - dseno_interp6)\n",
    "\n",
    "# Polinomio grau 8\n",
    "intervalo_interp8 = [0.0, 0.375, 0.75, 1.125, 1.5, 1.875, 2.25, 2.625, 3.0]\n",
    "sin_interp8 = np.sin(intervalo_interp8)\n",
    "coefs_interp8 = interp(intervalo_interp8, sin_interp8)\n",
    "dcoefs_interp8 = derivada(coefs_interp8)\n",
    "seno_interp8 = polyval(coefs_interp8, intervalo)\n",
    "dseno_interp8 = polyval(dcoefs_interp8, intervalo)\n",
    "erro8 = np.abs(seno - seno_interp8)\n",
    "derro8 = np.abs(dseno - dseno_interp8)\n",
    "\n",
    "# Erros de Função\n",
    "plt.subplot(1,3,1)\n",
    "plt.semilogy(intervalo, erro4, label=\"Erro poly dim 4\")\n",
    "plt.semilogy(intervalo, erro6, label=\"Erro poly dim 6\")\n",
    "plt.semilogy(intervalo, erro8, label=\"Erro poly dim 8\")\n",
    "ax1.set_axisbelow(True)\n",
    "ax1.minorticks_on()\n",
    "plt.title(\"Erro Pol. grau 2\")\n",
    "plt.legend()\n",
    "\n",
    "# Erros de Derivada\n",
    "plt.subplot(1,3,2)\n",
    "plt.semilogy(intervalo, derro4, label=\"Erro poly dim 4\")\n",
    "plt.semilogy(intervalo, derro6, label=\"Erro poly dim 6\")\n",
    "plt.semilogy(intervalo, derro8, label=\"Erro poly dim 8\")\n",
    "ax1.set_axisbelow(True)\n",
    "ax1.minorticks_on()\n",
    "plt.title(\"Erro Pol. grau 2\")\n",
    "plt.legend()\n",
    "\n",
    "print(\"Máximas diferença de erro - Pol. grau 4: \")\n",
    "print(np.max(derro4) - np.max(erro4))\n",
    "print(\"Máximas diferença de erro - Pol. grau 6: \")\n",
    "print(np.max(derro6) - np.max(erro6))\n",
    "print(\"Máximas diferença de erro - Pol. grau 8: \")\n",
    "print(np.max(derro8) - np.max(erro8))\n",
    "print()\n",
    "\n",
    "print(\"Diferenças das médias de erro - Pol. grau 4: \")\n",
    "print(np.average(np.abs(derro4 - erro4)))\n",
    "print(\"Diferenças das médias de erro - Pol. grau 6: \")\n",
    "print(np.average(np.abs(derro6 - erro6)))\n",
    "print(\"Diferenças das médias de erro - Pol. grau 8: \")\n",
    "print(np.average(np.abs(derro8 - erro8)))\n",
    "print()\n",
    "\n",
    "fig = plt.gcf()"
   ]
  },
  {
   "cell_type": "code",
   "execution_count": 87,
   "id": "9d8cb3c4",
   "metadata": {
    "deletable": false,
    "editable": false,
    "nbgrader": {
     "cell_type": "code",
     "checksum": "e7f2ac7c865b38d7e76afeff258b86db",
     "grade": true,
     "grade_id": "cell-048290a33ef62c01",
     "locked": true,
     "points": 1,
     "schema_version": 3,
     "solution": false,
     "task": false
    }
   },
   "outputs": [],
   "source": [
    "assert len(fig.axes) == 2\n",
    "for ax in fig.axes:\n",
    "    assert len(ax.lines) == 3"
   ]
  },
  {
   "cell_type": "code",
   "execution_count": 88,
   "id": "9f25d78e",
   "metadata": {
    "deletable": false,
    "editable": false,
    "nbgrader": {
     "cell_type": "code",
     "checksum": "8ab96874c5cded487203758df01214a9",
     "grade": true,
     "grade_id": "cell-32fc335cf5a0b8f2",
     "locked": true,
     "points": 1,
     "schema_version": 3,
     "solution": false,
     "task": false
    }
   },
   "outputs": [],
   "source": [
    "for ax in fig.axes:\n",
    "    assert len(ax.get_title()) >= 10\n",
    "    assert len(ax.get_legend().texts) == 3"
   ]
  },
  {
   "cell_type": "code",
   "execution_count": 89,
   "id": "7be804c0",
   "metadata": {
    "deletable": false,
    "editable": false,
    "nbgrader": {
     "cell_type": "code",
     "checksum": "a6d1dd07a93f7412c9c59cd03327cdb7",
     "grade": false,
     "grade_id": "cell-38a6b7f425f016ee",
     "locked": true,
     "schema_version": 3,
     "solution": false,
     "task": false
    }
   },
   "outputs": [],
   "source": [
    "fig = None"
   ]
  },
  {
   "cell_type": "markdown",
   "id": "f1b9e3c8",
   "metadata": {},
   "source": [
    "O erro é maior para aproximar a função ou a derivada?  De quanto?"
   ]
  },
  {
   "cell_type": "markdown",
   "id": "7abb7c73",
   "metadata": {
    "deletable": false,
    "nbgrader": {
     "cell_type": "markdown",
     "checksum": "58c2aeb545ed4fbcde375616433f6cb8",
     "grade": true,
     "grade_id": "cell-72ee9a599552cad7",
     "locked": false,
     "points": 2,
     "schema_version": 3,
     "solution": true,
     "task": false
    }
   },
   "source": [
    "Pelo gráfico o erro é claramente maior para a Derivada.\n",
    "\n",
    "Para as interpolações para polinômio de grau 4, temos:\n",
    "\n",
    "* Erro máximo da aproximação do Seno com o Seno real: __E ~ 0.017__\n",
    "* Média dos erros da aproximação do Seno com o Seno real: __E ~ 0.0018__\n",
    "\n",
    "Para as interpolações para polinômio de grau 6, temos:\n",
    "\n",
    "* Erro máximo da aproximação do Seno com o Seno real: __E ~ 0.00050__\n",
    "* Média dos erros da aproximação do Seno com o Seno real: __E ~ 0.000034__\n",
    "\n",
    "Para as interpolações para polinômio de grau 8, temos:\n",
    "\n",
    "* Erro máximo da aproximação do Seno com o Seno real: __E ~ 0.0000086__\n",
    "* Média dos erros da aproximação do Seno com o Seno real: __E ~ 0.00000039__"
   ]
  },
  {
   "cell_type": "markdown",
   "id": "cb64492a",
   "metadata": {},
   "source": [
    "O erro da aproximação da derivada é maior no centro ou nas extremidades?  Isso é esperado?"
   ]
  },
  {
   "cell_type": "markdown",
   "id": "0e5970e3",
   "metadata": {
    "deletable": false,
    "nbgrader": {
     "cell_type": "markdown",
     "checksum": "3a5ec11888398edbd4042e5fae709ddc",
     "grade": true,
     "grade_id": "cell-4d9249c0cb22a125",
     "locked": false,
     "points": 2,
     "schema_version": 3,
     "solution": true,
     "task": false
    }
   },
   "source": [
    "O Erro das Aproximações da derivada é claramente maior na extremidade. As interpolações tendem a ter inclinações mais fortes próximos dos pontos em que as funções a serem interpoladas foram definidas - porque são os locais onde o ajuste é feito para a interpolação atender tais valores. \n",
    "\n",
    "É possível ver que nas aproximações das funções (não nas suas derivadas), os erros são maiores também nas extremidades, e esses erros são propagados para as derivadas.\n",
    "\n",
    "Entretanto, as derivadas não tem a obrigação de atender o valor das funções nos pontos de interpolação, sendo propagados ao máximo nessas extremidades."
   ]
  },
  {
   "cell_type": "markdown",
   "id": "0b25329c",
   "metadata": {},
   "source": [
    "### Outros graus\n",
    "\n",
    "Faça agora com graus 3, 5, 7 e 9."
   ]
  },
  {
   "cell_type": "code",
   "execution_count": 99,
   "id": "8c3c5415",
   "metadata": {
    "deletable": false,
    "nbgrader": {
     "cell_type": "code",
     "checksum": "2c8b4547efb6a038de8ff5969cadcda0",
     "grade": false,
     "grade_id": "cell-58e684613a16bef2",
     "locked": false,
     "schema_version": 3,
     "solution": true,
     "task": false
    }
   },
   "outputs": [
    {
     "data": {
      "text/plain": [
       "<Figure size 640x480 with 0 Axes>"
      ]
     },
     "metadata": {},
     "output_type": "display_data"
    }
   ],
   "source": [
    "def make_interval(i,e, step=0.01):\n",
    "    r = np.arange(i, e, step)\n",
    "    if(r[-1] < e):\n",
    "        r = np.append(r, e)\n",
    "    return r\n",
    "\n",
    "intervalo = make_interval(0, 3)\n",
    "seno = np.sin(intervalo)\n",
    "dseno = np.cos(intervalo)\n",
    "\n",
    "# Editar o fazer o loop para os diversos graus\n",
    "# Polinomio grau 3\n",
    "# intervalo_interp4 = [0, 0.75, 1.5, 2.25, 3]\n",
    "# sin_interp4 = np.sin(intervalo_interp4)\n",
    "# coefs_interp4 = interp(intervalo_interp4, sin_interp4)\n",
    "# dcoefs_interp4 = derivada(coefs_interp4)\n",
    "# seno_interp4 = polyval(coefs_interp4, intervalo)\n",
    "# dseno_interp4 = polyval(dcoefs_interp4, intervalo)\n",
    "# erro4 = np.abs(seno - seno_interp4)\n",
    "# derro4 = np.abs(dseno - dseno_interp4)\n",
    "# \n",
    "# # Polinomio grau 5\n",
    "# intervalo_interp6 = [0, 0.5, 1, 1.5, 2, 2.5, 3]\n",
    "# sin_interp6 = np.sin(intervalo_interp6)\n",
    "# coefs_interp6 = interp(intervalo_interp6, sin_interp6)\n",
    "# dcoefs_interp6 = derivada(coefs_interp6)\n",
    "# seno_interp6 = polyval(coefs_interp6, intervalo)\n",
    "# dseno_interp6 = polyval(dcoefs_interp6, intervalo)\n",
    "# erro6 = np.abs(seno - seno_interp6)\n",
    "# derro6 = np.abs(dseno - dseno_interp6)\n",
    "# \n",
    "# # Polinomio grau 7\n",
    "# intervalo_interp8 = [0.0, 0.375, 0.75, 1.125, 1.5, 1.875, 2.25, 2.625, 3.0]\n",
    "# sin_interp8 = np.sin(intervalo_interp8)\n",
    "# coefs_interp8 = interp(intervalo_interp8, sin_interp8)\n",
    "# dcoefs_interp8 = derivada(coefs_interp8)\n",
    "# seno_interp8 = polyval(coefs_interp8, intervalo)\n",
    "# dseno_interp8 = polyval(dcoefs_interp8, intervalo)\n",
    "# erro8 = np.abs(seno - seno_interp8)\n",
    "# derro8 = np.abs(dseno - dseno_interp8)\n",
    "# \n",
    "# # Polinomio grau 9\n",
    "# intervalo_interp8 = [0.0, 0.375, 0.75, 1.125, 1.5, 1.875, 2.25, 2.625, 3.0]\n",
    "# sin_interp8 = np.sin(intervalo_interp8)\n",
    "# coefs_interp8 = interp(intervalo_interp8, sin_interp8)\n",
    "# dcoefs_interp8 = derivada(coefs_interp8)\n",
    "# seno_interp8 = polyval(coefs_interp8, intervalo)\n",
    "# dseno_interp8 = polyval(dcoefs_interp8, intervalo)\n",
    "# erro8 = np.abs(seno - seno_interp8)\n",
    "# derro8 = np.abs(dseno - dseno_interp8)\n",
    "\n",
    "# # Erros de Função\n",
    "# plt.subplot(1,3,1)\n",
    "# plt.semilogy(intervalo, erro4, label=\"Erro poly dim 4\")\n",
    "# plt.semilogy(intervalo, erro6, label=\"Erro poly dim 6\")\n",
    "# plt.semilogy(intervalo, erro8, label=\"Erro poly dim 8\")\n",
    "# ax1.set_axisbelow(True)\n",
    "# ax1.minorticks_on()\n",
    "# plt.title(\"Erro Pol. grau 2\")\n",
    "# plt.legend()\n",
    "# \n",
    "# # Erros de Derivada\n",
    "# plt.subplot(1,3,2)\n",
    "# plt.semilogy(intervalo, derro4, label=\"Erro poly dim 4\")\n",
    "# plt.semilogy(intervalo, derro6, label=\"Erro poly dim 6\")\n",
    "# plt.semilogy(intervalo, derro8, label=\"Erro poly dim 8\")\n",
    "# ax1.set_axisbelow(True)\n",
    "# ax1.minorticks_on()\n",
    "# plt.title(\"Erro Pol. grau 2\")\n",
    "# plt.legend()\n",
    "# \n",
    "# print(\"Máximas diferença de erro - Pol. grau 4: \")\n",
    "# print(np.max(derro4) - np.max(erro4))\n",
    "# print(\"Máximas diferença de erro - Pol. grau 6: \")\n",
    "# print(np.max(derro6) - np.max(erro6))\n",
    "# print(\"Máximas diferença de erro - Pol. grau 8: \")\n",
    "# print(np.max(derro8) - np.max(erro8))\n",
    "# print()\n",
    "# \n",
    "# print(\"Diferenças das médias de erro - Pol. grau 4: \")\n",
    "# print(np.average(np.abs(derro4 - erro4)))\n",
    "# print(\"Diferenças das médias de erro - Pol. grau 6: \")\n",
    "# print(np.average(np.abs(derro6 - erro6)))\n",
    "# print(\"Diferenças das médias de erro - Pol. grau 8: \")\n",
    "# print(np.average(np.abs(derro8 - erro8)))\n",
    "# print()\n",
    "\n",
    "fig = plt.gcf()"
   ]
  },
  {
   "cell_type": "code",
   "execution_count": null,
   "id": "f63b474b",
   "metadata": {
    "deletable": false,
    "editable": false,
    "nbgrader": {
     "cell_type": "code",
     "checksum": "93582a4d8f642c148dd84afb80e8d5e3",
     "grade": true,
     "grade_id": "cell-3c290c4cf6af9f75",
     "locked": true,
     "points": 1,
     "schema_version": 3,
     "solution": false,
     "task": false
    }
   },
   "outputs": [],
   "source": [
    "assert len(fig.axes) == 2\n",
    "for ax in fig.axes:\n",
    "    assert len(ax.lines) == 4"
   ]
  },
  {
   "cell_type": "code",
   "execution_count": null,
   "id": "314cb101",
   "metadata": {
    "deletable": false,
    "editable": false,
    "nbgrader": {
     "cell_type": "code",
     "checksum": "138359e7e005cca2172be6b78196d5d8",
     "grade": false,
     "grade_id": "cell-2ec1425ae5aa30c2",
     "locked": true,
     "schema_version": 3,
     "solution": false,
     "task": false
    }
   },
   "outputs": [],
   "source": [
    "fig = None"
   ]
  },
  {
   "cell_type": "markdown",
   "id": "d871e392",
   "metadata": {},
   "source": [
    "Comente as diferenças e similaridades com o caso anterior.\n",
    "O que você acha que aconteceu?"
   ]
  },
  {
   "cell_type": "markdown",
   "id": "cbc29a72",
   "metadata": {
    "deletable": false,
    "nbgrader": {
     "cell_type": "markdown",
     "checksum": "2e309a87e562f0df63e7afe103a0bd9e",
     "grade": true,
     "grade_id": "cell-11769646a4ec04ff",
     "locked": false,
     "points": 2,
     "schema_version": 3,
     "solution": true,
     "task": false
    }
   },
   "source": [
    "YOUR ANSWER HERE"
   ]
  },
  {
   "cell_type": "markdown",
   "id": "c8440ba4",
   "metadata": {},
   "source": [
    "## Questão 4: Erros de regressão\n",
    "\n",
    "Calcule a função seno em 31 pontos igualmente espaçados no intervalo $[0,3]$,\n",
    "e use-os para ajustar os polinômios de regressão de graus 2, 4, 6 e 8."
   ]
  },
  {
   "cell_type": "code",
   "execution_count": null,
   "id": "a7cbfa5a",
   "metadata": {
    "deletable": false,
    "nbgrader": {
     "cell_type": "code",
     "checksum": "4b5539e57d18b343480b842c9fa42d7d",
     "grade": true,
     "grade_id": "cell-5fc98e5ce71ab4d8",
     "locked": false,
     "points": 1,
     "schema_version": 3,
     "solution": true,
     "task": false
    }
   },
   "outputs": [],
   "source": [
    "# YOUR CODE HERE\n",
    "raise NotImplementedError()\n",
    "\n",
    "fig = plt.gcf()"
   ]
  },
  {
   "cell_type": "code",
   "execution_count": null,
   "id": "73b7d408",
   "metadata": {
    "deletable": false,
    "editable": false,
    "nbgrader": {
     "cell_type": "code",
     "checksum": "81c5b76a727494cdefb5f7e999f46e48",
     "grade": true,
     "grade_id": "cell-f435f72f7f31ebab",
     "locked": true,
     "points": 1,
     "schema_version": 3,
     "solution": false,
     "task": false
    }
   },
   "outputs": [],
   "source": [
    "assert len(fig.axes) == 2\n",
    "for ax in fig.axes:\n",
    "    assert len(ax.lines) == 4"
   ]
  },
  {
   "cell_type": "markdown",
   "id": "aa63fba1",
   "metadata": {},
   "source": [
    "Compare os erros de ajuste da função (seno), entre este método e o uso dos polinômios interpoladores."
   ]
  },
  {
   "cell_type": "markdown",
   "id": "3bb28614",
   "metadata": {
    "deletable": false,
    "nbgrader": {
     "cell_type": "markdown",
     "checksum": "3602216aee71f209651c0e40154ce1a9",
     "grade": true,
     "grade_id": "cell-1137e73231f08f5c",
     "locked": false,
     "points": 2,
     "schema_version": 3,
     "solution": true,
     "task": false
    }
   },
   "source": [
    "YOUR ANSWER HERE"
   ]
  },
  {
   "cell_type": "markdown",
   "id": "dd341754",
   "metadata": {},
   "source": [
    "Compare os erros de ajuste das derivadas."
   ]
  },
  {
   "cell_type": "markdown",
   "id": "c8daa076",
   "metadata": {
    "deletable": false,
    "nbgrader": {
     "cell_type": "markdown",
     "checksum": "10399a438e8ba4d40a2084cc3f639270",
     "grade": true,
     "grade_id": "cell-e19b218aaa08e0e6",
     "locked": false,
     "points": 2,
     "schema_version": 3,
     "solution": true,
     "task": false
    }
   },
   "source": [
    "YOUR ANSWER HERE"
   ]
  },
  {
   "cell_type": "markdown",
   "id": "a9f16086",
   "metadata": {},
   "source": [
    "## Questão 5: Derivadas centrais\n",
    "\n",
    "Qual seria o tamanho do passo necessário para calcular uma aproximação da derivada usando a derivada central,\n",
    "de forma a obter um erro comparável com ajuste do polinômio de grau 2? E de grau 4?\n",
    "\n",
    "Faça os cálculos abaixo, indicando **como você chegou nestes valores**."
   ]
  },
  {
   "cell_type": "code",
   "execution_count": null,
   "id": "d92364ad",
   "metadata": {
    "deletable": false,
    "nbgrader": {
     "cell_type": "code",
     "checksum": "ab457d5064ea6b1d2bd721f89bf3ffd2",
     "grade": true,
     "grade_id": "cell-fb05d08928079d51",
     "locked": false,
     "points": 2,
     "schema_version": 3,
     "solution": true,
     "task": false
    }
   },
   "outputs": [],
   "source": [
    "# YOUR CODE HERE\n",
    "raise NotImplementedError()"
   ]
  },
  {
   "cell_type": "markdown",
   "id": "9b395bb2",
   "metadata": {},
   "source": [
    "Agora, faça o ajuste dos polinômios de grau 12, 14 e 16, por interpolação, no intervalo $[0,3]$."
   ]
  },
  {
   "cell_type": "code",
   "execution_count": null,
   "id": "beb719bb",
   "metadata": {
    "deletable": false,
    "nbgrader": {
     "cell_type": "code",
     "checksum": "b053a8a5550392f7107a997278fc2be0",
     "grade": true,
     "grade_id": "cell-ea9316fd28a3dd09",
     "locked": false,
     "points": 1,
     "schema_version": 3,
     "solution": true,
     "task": false
    }
   },
   "outputs": [],
   "source": [
    "# YOUR CODE HERE\n",
    "raise NotImplementedError()"
   ]
  },
  {
   "cell_type": "markdown",
   "id": "d27429d7",
   "metadata": {},
   "source": [
    "Qual a magnitude do erro que você obtém para a derivada, no intervalo $[0,3]$?"
   ]
  },
  {
   "cell_type": "markdown",
   "id": "a989d31b",
   "metadata": {
    "deletable": false,
    "nbgrader": {
     "cell_type": "markdown",
     "checksum": "7fa7290bb2cd6c3ea9561fefdfa83745",
     "grade": true,
     "grade_id": "cell-ef3ce90130b9cc69",
     "locked": false,
     "points": 2,
     "schema_version": 3,
     "solution": true,
     "task": false
    }
   },
   "source": [
    "YOUR ANSWER HERE"
   ]
  },
  {
   "cell_type": "markdown",
   "id": "ad9972dc",
   "metadata": {},
   "source": [
    "Qual seria o passo no método das derivadas centrais para obter esse erro?"
   ]
  },
  {
   "cell_type": "code",
   "execution_count": null,
   "id": "f902d3a3",
   "metadata": {
    "deletable": false,
    "nbgrader": {
     "cell_type": "code",
     "checksum": "058e245c01f5255cebff02f72986110d",
     "grade": true,
     "grade_id": "cell-f6760b5dc99933a0",
     "locked": false,
     "points": 1,
     "schema_version": 3,
     "solution": true,
     "task": false
    }
   },
   "outputs": [],
   "source": [
    "# YOUR CODE HERE\n",
    "raise NotImplementedError()"
   ]
  },
  {
   "cell_type": "markdown",
   "id": "14815a20",
   "metadata": {},
   "source": [
    "Comente"
   ]
  },
  {
   "cell_type": "markdown",
   "id": "0881cb5e",
   "metadata": {
    "deletable": false,
    "nbgrader": {
     "cell_type": "markdown",
     "checksum": "b302dc747ec43865d2d5b1224736f566",
     "grade": true,
     "grade_id": "cell-a01f3874f40c7c92",
     "locked": false,
     "points": 2,
     "schema_version": 3,
     "solution": true,
     "task": false
    }
   },
   "source": [
    "YOUR ANSWER HERE"
   ]
  },
  {
   "cell_type": "markdown",
   "id": "d71734c1",
   "metadata": {},
   "source": [
    "# Parte 2: Interpolação com derivadas\n",
    "\n",
    "Suponha que, além dos valores $y_i = f(x_i)$, também possuímos $z_i = f'(x_i)$.\n",
    "Deveríamos ser capazes de calcular melhores polinômios interpoladores!"
   ]
  },
  {
   "cell_type": "markdown",
   "id": "010997e3",
   "metadata": {},
   "source": [
    "## Questão 6: Equações\n",
    "\n",
    "Suponha que são dados apenas 2 pontos.\n",
    "- Quais equações os coeficientes do polinômio devem satisfazer?\n",
    "- Qual o grau deste polinômio?\n",
    "- A matriz deste sistema é inversível?"
   ]
  },
  {
   "cell_type": "markdown",
   "id": "d033c529",
   "metadata": {
    "deletable": false,
    "nbgrader": {
     "cell_type": "markdown",
     "checksum": "7ea093afdd193319e16b2bfab75db64d",
     "grade": true,
     "grade_id": "cell-934f5617695c4d35",
     "locked": false,
     "points": 4,
     "schema_version": 3,
     "solution": true,
     "task": false
    }
   },
   "source": [
    "YOUR ANSWER HERE"
   ]
  },
  {
   "cell_type": "markdown",
   "id": "6e47a26a",
   "metadata": {},
   "source": [
    "No caso geral, quais são as novas equações que os coeficientes $p_i$ devem satisfazer?"
   ]
  },
  {
   "cell_type": "markdown",
   "id": "b0ea9bc7",
   "metadata": {
    "deletable": false,
    "nbgrader": {
     "cell_type": "markdown",
     "checksum": "0d213ddfa659c2528822d60105e9ea5c",
     "grade": true,
     "grade_id": "cell-d01ad641148d355c",
     "locked": false,
     "points": 2,
     "schema_version": 3,
     "solution": true,
     "task": false
    }
   },
   "source": [
    "YOUR ANSWER HERE"
   ]
  },
  {
   "cell_type": "markdown",
   "id": "69603ef2",
   "metadata": {},
   "source": [
    "Escreva a função `matrix_der(xs,d)` que calcula a matriz que multiplica estes coeficientes,\n",
    "(nas novas equações)\n",
    "em função dos pontos `xs` onde sabemos as derivadas e do grau `d` que o polinômio terá.\n",
    "\n",
    "(Essa função é análoga à função que constrói a matriz para a interpolação e regressão)"
   ]
  },
  {
   "cell_type": "code",
   "execution_count": null,
   "id": "a46c4041",
   "metadata": {
    "deletable": false,
    "nbgrader": {
     "cell_type": "code",
     "checksum": "a119266096c4b5e72bb05fd9770e0792",
     "grade": false,
     "grade_id": "cell-58b77f52d20dd378",
     "locked": false,
     "schema_version": 3,
     "solution": true,
     "task": false
    }
   },
   "outputs": [],
   "source": [
    "def matrix_der(xs, d):\n",
    "    xs = np.asarray(xs, dtype=float)\n",
    "    # YOUR CODE HERE\n",
    "    raise NotImplementedError()"
   ]
  },
  {
   "cell_type": "code",
   "execution_count": null,
   "id": "5571c332",
   "metadata": {
    "deletable": false,
    "editable": false,
    "nbgrader": {
     "cell_type": "code",
     "checksum": "25a2e00a395c135526417c109811a9a6",
     "grade": true,
     "grade_id": "cell-d7fe8f37c5a1619b",
     "locked": true,
     "points": 1,
     "schema_version": 3,
     "solution": false,
     "task": false
    }
   },
   "outputs": [],
   "source": [
    "M1 = matrix_der([1,2,3], 3)\n",
    "ans = [[ 0.,  1.,  2.,  3.],\n",
    "       [ 0.,  1.,  4., 12.],\n",
    "       [ 0.,  1.,  6., 27.]]\n",
    "assert np.allclose(M1, ans)"
   ]
  },
  {
   "cell_type": "code",
   "execution_count": null,
   "id": "b373c4f9",
   "metadata": {
    "deletable": false,
    "editable": false,
    "nbgrader": {
     "cell_type": "code",
     "checksum": "60c21c7fc44f50214a312681dca682c1",
     "grade": true,
     "grade_id": "cell-3b71e23c69074122",
     "locked": true,
     "points": 1,
     "schema_version": 3,
     "solution": false,
     "task": false
    }
   },
   "outputs": [],
   "source": [
    "M1 = matrix_der([1,2,3,4,5], 3)\n",
    "assert np.shape(M1) == (5,4)"
   ]
  },
  {
   "cell_type": "code",
   "execution_count": null,
   "id": "39e0911e",
   "metadata": {
    "deletable": false,
    "editable": false,
    "nbgrader": {
     "cell_type": "code",
     "checksum": "0211b079654dff8cba0c7dafa0f26cd3",
     "grade": true,
     "grade_id": "cell-edb9c7dd2d9bda51",
     "locked": true,
     "points": 1,
     "schema_version": 3,
     "solution": false,
     "task": false
    }
   },
   "outputs": [],
   "source": [
    "M1 = matrix_der([1,2,3,4,5], 8)\n",
    "assert np.shape(M1) == (5,9)"
   ]
  },
  {
   "cell_type": "markdown",
   "id": "ef040f5a",
   "metadata": {},
   "source": [
    "## Questão 7: Resolvendo o sistema\n",
    "\n",
    "Para construir matrizes e vetores em \"blocos\", você pode usar `np.hstack`, `np.vstack` e/ou `np.block`."
   ]
  },
  {
   "cell_type": "code",
   "execution_count": null,
   "id": "59925f55",
   "metadata": {
    "deletable": false,
    "nbgrader": {
     "cell_type": "code",
     "checksum": "98f45958385826d5cd98ce746be9f5a5",
     "grade": false,
     "grade_id": "cell-1d00ebde4e7590b3",
     "locked": false,
     "schema_version": 3,
     "solution": true,
     "task": false
    }
   },
   "outputs": [],
   "source": [
    "def interp1(xs, ys, zs):\n",
    "    \"Retorna os coeficientes do polinomio interpolador para os pontos  (xs, ys), com respectivas derivadas zs.\"\n",
    "    # YOUR CODE HERE\n",
    "    raise NotImplementedError()"
   ]
  },
  {
   "cell_type": "code",
   "execution_count": null,
   "id": "3a703e8d",
   "metadata": {
    "deletable": false,
    "editable": false,
    "nbgrader": {
     "cell_type": "code",
     "checksum": "3befe4dd0fd295dc4e2998b9b4616927",
     "grade": true,
     "grade_id": "cell-b0a59f2a58a41945",
     "locked": true,
     "points": 1,
     "schema_version": 3,
     "solution": false,
     "task": false
    }
   },
   "outputs": [],
   "source": [
    "coefs = interp1([0], [1], [1])\n",
    "assert np.allclose(coefs, [1,1])"
   ]
  },
  {
   "cell_type": "code",
   "execution_count": null,
   "id": "df59c9b2",
   "metadata": {
    "deletable": false,
    "editable": false,
    "nbgrader": {
     "cell_type": "code",
     "checksum": "5d06ffdc5b3bed8c5c88a55387cd1f7d",
     "grade": true,
     "grade_id": "cell-40b33dd22778f59b",
     "locked": true,
     "points": 1,
     "schema_version": 3,
     "solution": false,
     "task": false
    }
   },
   "outputs": [],
   "source": [
    "coefs = interp1([1], [1], [1])\n",
    "assert np.allclose(coefs, [0,1])"
   ]
  },
  {
   "cell_type": "markdown",
   "id": "dfcd1db1",
   "metadata": {},
   "source": [
    "Explique a resposta dos dois `assert`s acima (analiticamente)"
   ]
  },
  {
   "cell_type": "markdown",
   "id": "4d84a760",
   "metadata": {
    "deletable": false,
    "nbgrader": {
     "cell_type": "markdown",
     "checksum": "612521d4eb519230d94337ca6f8d0c90",
     "grade": true,
     "grade_id": "cell-4a4775d38cbae6b0",
     "locked": false,
     "points": 2,
     "schema_version": 3,
     "solution": true,
     "task": false
    }
   },
   "source": [
    "YOUR ANSWER HERE"
   ]
  },
  {
   "cell_type": "code",
   "execution_count": null,
   "id": "23f8c461",
   "metadata": {
    "deletable": false,
    "editable": false,
    "nbgrader": {
     "cell_type": "code",
     "checksum": "defc3c775b1afe5873c39a1584df4344",
     "grade": true,
     "grade_id": "cell-a82a7970fb329e55",
     "locked": true,
     "points": 1,
     "schema_version": 3,
     "solution": false,
     "task": false
    }
   },
   "outputs": [],
   "source": [
    "coefs = interp1([0,1], [1,1], [1,1])\n",
    "assert np.allclose(coefs, [1,1,-3,2])"
   ]
  },
  {
   "cell_type": "code",
   "execution_count": null,
   "id": "90dae2cf",
   "metadata": {
    "deletable": false,
    "editable": false,
    "nbgrader": {
     "cell_type": "code",
     "checksum": "cfa2df466be6aab08dc5e2de2e8d7179",
     "grade": true,
     "grade_id": "cell-c5b7935b4e99250c",
     "locked": true,
     "points": 1,
     "schema_version": 3,
     "solution": false,
     "task": false
    }
   },
   "outputs": [],
   "source": [
    "xs = np.array([0,1.0])\n",
    "ys = np.array([1,3.0])\n",
    "zs = np.array([1,1.0])\n",
    "coefs = interp1(xs, ys, zs)\n",
    "assert np.allclose(coefs, [1,1,3,-2])"
   ]
  },
  {
   "cell_type": "markdown",
   "id": "ddaa8ef0",
   "metadata": {},
   "source": [
    "Explique porque os coeficientes de grau 0 e 1 são os mesmos de só fazer a interpolação no zero."
   ]
  },
  {
   "cell_type": "markdown",
   "id": "d8125b71",
   "metadata": {
    "deletable": false,
    "nbgrader": {
     "cell_type": "markdown",
     "checksum": "a39c2d80f59c12f8322c1ece7254c324",
     "grade": true,
     "grade_id": "cell-9765128c90047cf1",
     "locked": false,
     "points": 2,
     "schema_version": 3,
     "solution": true,
     "task": false
    }
   },
   "source": [
    "YOUR ANSWER HERE"
   ]
  },
  {
   "cell_type": "markdown",
   "id": "0fb1dfba",
   "metadata": {},
   "source": [
    "## Questão 8: Erro\n",
    "\n",
    "O erro decai conforme aumentamos o número de pontos?\n",
    "Teste para as funções $f(x) = \\cos(x)$ e $g(x) = e^x$ no intervalo $[-1, 2]$."
   ]
  },
  {
   "cell_type": "code",
   "execution_count": null,
   "id": "7a6397ef",
   "metadata": {
    "deletable": false,
    "nbgrader": {
     "cell_type": "code",
     "checksum": "b11ce4bc711aa561af8fb164b4b54385",
     "grade": true,
     "grade_id": "cell-8b434e2818e22439",
     "locked": false,
     "points": 1,
     "schema_version": 3,
     "solution": true,
     "task": false
    }
   },
   "outputs": [],
   "source": [
    "# Gráficos de erro para o cosseno\n",
    "# YOUR CODE HERE\n",
    "raise NotImplementedError()\n",
    "\n",
    "ax = plt.gca()"
   ]
  },
  {
   "cell_type": "code",
   "execution_count": null,
   "id": "62000460",
   "metadata": {
    "deletable": false,
    "editable": false,
    "nbgrader": {
     "cell_type": "code",
     "checksum": "c571668d13041e46d80bf92ce19e1f46",
     "grade": true,
     "grade_id": "cell-b2862b82616b2e3d",
     "locked": true,
     "points": 1,
     "schema_version": 3,
     "solution": false,
     "task": false
    }
   },
   "outputs": [],
   "source": [
    "assert len(ax.get_title()) >= 10\n",
    "assert len(ax.lines) >= 5"
   ]
  },
  {
   "cell_type": "code",
   "execution_count": null,
   "id": "f3c90dd0",
   "metadata": {
    "deletable": false,
    "editable": false,
    "nbgrader": {
     "cell_type": "code",
     "checksum": "178cb17dca4784ec71b9f52b5268e0de",
     "grade": false,
     "grade_id": "cell-591eb3fcfd3565d6",
     "locked": true,
     "schema_version": 3,
     "solution": false,
     "task": false
    }
   },
   "outputs": [],
   "source": [
    "ax = None"
   ]
  },
  {
   "cell_type": "code",
   "execution_count": null,
   "id": "c91aa03e",
   "metadata": {
    "deletable": false,
    "nbgrader": {
     "cell_type": "code",
     "checksum": "9f0a92c2f0aa62c0091f78bdae2c676d",
     "grade": false,
     "grade_id": "cell-9e6c28507fd0599a",
     "locked": false,
     "schema_version": 3,
     "solution": true,
     "task": false
    }
   },
   "outputs": [],
   "source": [
    "# Gráficos de erro para a função exponencial\n",
    "# YOUR CODE HERE\n",
    "raise NotImplementedError()\n",
    "\n",
    "ax = plt.gca()"
   ]
  },
  {
   "cell_type": "code",
   "execution_count": null,
   "id": "7ca16ce0",
   "metadata": {
    "deletable": false,
    "editable": false,
    "nbgrader": {
     "cell_type": "code",
     "checksum": "14fd7291fb1ae6aebd0af537cecab269",
     "grade": true,
     "grade_id": "cell-3f36983cc18ba65b",
     "locked": true,
     "points": 1,
     "schema_version": 3,
     "solution": false,
     "task": false
    }
   },
   "outputs": [],
   "source": [
    "assert len(ax.get_title()) >= 10\n",
    "assert len(ax.lines) >= 5"
   ]
  },
  {
   "cell_type": "markdown",
   "id": "cd0ca16a",
   "metadata": {},
   "source": [
    "## Questão 9: Comparando\n",
    "\n",
    "Há duas formas de obter um polinômio de grau 9 para interpolar a função cosseno:\n",
    "- calcular a função em 10 pontos igualmente espaçados;\n",
    "- calcular a função e sua derivada em 5 pontos igualmente espaçados.\n",
    "\n",
    "Faça um gráfico dos erros, no interalo $[-1,2]$, para cada um destes polinômios."
   ]
  },
  {
   "cell_type": "code",
   "execution_count": null,
   "id": "139d6ca8",
   "metadata": {
    "deletable": false,
    "nbgrader": {
     "cell_type": "code",
     "checksum": "20cefbcdef5c6feea4473c038c1ae498",
     "grade": true,
     "grade_id": "cell-1c405a0879f9c946",
     "locked": false,
     "points": 2,
     "schema_version": 3,
     "solution": true,
     "task": false
    }
   },
   "outputs": [],
   "source": [
    "# YOUR CODE HERE\n",
    "raise NotImplementedError()"
   ]
  },
  {
   "cell_type": "markdown",
   "id": "a889a980",
   "metadata": {},
   "source": [
    "Para termos uma medida quantitativa,\n",
    "calcule a soma dos valores absolutos dos erros,\n",
    "para vários pontos ao longo do intervalo $[-1,2]$"
   ]
  },
  {
   "cell_type": "code",
   "execution_count": null,
   "id": "5f0ddbb9",
   "metadata": {
    "deletable": false,
    "nbgrader": {
     "cell_type": "code",
     "checksum": "699388985b9a7ce6ed3720f8f5d4172f",
     "grade": true,
     "grade_id": "cell-43d865f7677874aa",
     "locked": false,
     "points": 1,
     "schema_version": 3,
     "solution": true,
     "task": false
    }
   },
   "outputs": [],
   "source": [
    "# YOUR CODE HERE\n",
    "raise NotImplementedError()"
   ]
  },
  {
   "cell_type": "markdown",
   "id": "d76ea513",
   "metadata": {},
   "source": [
    "Faça o mesmo estudo para polinômios de grau 7, 11 e 15."
   ]
  },
  {
   "cell_type": "code",
   "execution_count": null,
   "id": "3187f1d1",
   "metadata": {
    "deletable": false,
    "nbgrader": {
     "cell_type": "code",
     "checksum": "b1a8ca4746a50539c012ab0fc2f46514",
     "grade": true,
     "grade_id": "cell-0c46b1bc59ecc8aa",
     "locked": false,
     "points": 3,
     "schema_version": 3,
     "solution": true,
     "task": false
    }
   },
   "outputs": [],
   "source": [
    "# YOUR CODE HERE\n",
    "raise NotImplementedError()"
   ]
  },
  {
   "cell_type": "markdown",
   "id": "40aadad1",
   "metadata": {},
   "source": [
    "O que você observa?"
   ]
  },
  {
   "cell_type": "code",
   "execution_count": null,
   "id": "4c718f91",
   "metadata": {
    "deletable": false,
    "nbgrader": {
     "cell_type": "code",
     "checksum": "0ee63faf47ca6905683ec107236e219f",
     "grade": true,
     "grade_id": "cell-f6b609417d4f4b45",
     "locked": false,
     "points": 2,
     "schema_version": 3,
     "solution": true,
     "task": false
    }
   },
   "outputs": [],
   "source": [
    "# YOUR CODE HERE\n",
    "raise NotImplementedError()"
   ]
  },
  {
   "cell_type": "markdown",
   "id": "a73aec4d",
   "metadata": {},
   "source": [
    "Refaça para a função exponencial, com vários graus."
   ]
  },
  {
   "cell_type": "code",
   "execution_count": null,
   "id": "5597348d",
   "metadata": {
    "deletable": false,
    "nbgrader": {
     "cell_type": "code",
     "checksum": "d8c587fdc42cbfd9ab8c6f38059d6fe3",
     "grade": true,
     "grade_id": "cell-e49db1b0c6791936",
     "locked": false,
     "points": 1,
     "schema_version": 3,
     "solution": true,
     "task": false
    }
   },
   "outputs": [],
   "source": [
    "# YOUR CODE HERE\n",
    "raise NotImplementedError()"
   ]
  },
  {
   "cell_type": "markdown",
   "id": "adfabaae",
   "metadata": {},
   "source": [
    "O que você viu no caso do cosseno se mantém aqui?\n",
    "Porque você acha que isso aconteceu?"
   ]
  },
  {
   "cell_type": "code",
   "execution_count": null,
   "id": "90810a43",
   "metadata": {
    "deletable": false,
    "nbgrader": {
     "cell_type": "code",
     "checksum": "8820611a6e61a7d29daee4355c1e2351",
     "grade": true,
     "grade_id": "cell-9e8630881d65646f",
     "locked": false,
     "points": 2,
     "schema_version": 3,
     "solution": true,
     "task": false
    }
   },
   "outputs": [],
   "source": [
    "# YOUR CODE HERE\n",
    "raise NotImplementedError()"
   ]
  }
 ],
 "metadata": {
  "kernelspec": {
   "display_name": "Python 3 (ipykernel)",
   "language": "python",
   "name": "python3"
  },
  "language_info": {
   "codemirror_mode": {
    "name": "ipython",
    "version": 3
   },
   "file_extension": ".py",
   "mimetype": "text/x-python",
   "name": "python",
   "nbconvert_exporter": "python",
   "pygments_lexer": "ipython3",
   "version": "3.10.6"
  }
 },
 "nbformat": 4,
 "nbformat_minor": 5
}

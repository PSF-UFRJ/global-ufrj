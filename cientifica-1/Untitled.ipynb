{
 "cells": [
  {
   "cell_type": "code",
   "execution_count": 1,
   "id": "3aa10be7",
   "metadata": {},
   "outputs": [],
   "source": [
    "import numpy as np\n",
    "import matplotlib.pyplot as plt"
   ]
  },
  {
   "cell_type": "code",
   "execution_count": 2,
   "id": "beeb6ccc",
   "metadata": {},
   "outputs": [],
   "source": [
    "def make_poly_matrix(xs, p):\n",
    "    axs = np.array(xs)\n",
    "    return np.array([np.power(axs, i) for i in range(p+1)]).transpose()"
   ]
  },
  {
   "cell_type": "code",
   "execution_count": 3,
   "id": "8e196b34",
   "metadata": {},
   "outputs": [],
   "source": [
    "def regress(xs, ys, d):\n",
    "    \"Retorna os coeficientes do polinomio de grau  d  que aproxima, em mínimos quadrados, os pontos  (xs, ys).\"\n",
    "    axs = np.array(xs)\n",
    "    model = np.array([np.power(axs, i) for i in range(d+1)]).transpose()\n",
    "    coefs, *_ = np.linalg.lstsq(model, ys, rcond=None)\n",
    "    return coefs"
   ]
  },
  {
   "cell_type": "code",
   "execution_count": 4,
   "id": "cd901d4a",
   "metadata": {},
   "outputs": [],
   "source": [
    "def interp(xs, ys):\n",
    "    \"Retorna os coeficientes do polinomio interpolador para os pontos  (xs, ys).\"\n",
    "    def vander(a):\n",
    "        l = len(a)\n",
    "        return np.array([[a[v] ** i for i in range(l)] for v in range(l)])\n",
    "    _xs = vander(xs)\n",
    "    return np.linalg.solve(_xs, ys)"
   ]
  },
  {
   "cell_type": "code",
   "execution_count": 5,
   "id": "0fe170a2",
   "metadata": {},
   "outputs": [],
   "source": [
    "def polyval(coefs, t):\n",
    "    \"Calcula o valor do polinômio com coeficietes  coefs  (dados em ordem crescente) nos pontos  t.\"    \n",
    "    ts = np.array([np.power(t, i) for i in range(len(coefs))])\n",
    "    cs = np.array(coefs)\n",
    "    c = cs * ts\n",
    "    return sum(c)"
   ]
  },
  {
   "cell_type": "code",
   "execution_count": 13,
   "id": "c25a39f3",
   "metadata": {},
   "outputs": [],
   "source": [
    "def make_interval(i,e, step=1):\n",
    "    r = np.arange(i, e, step)\n",
    "    if(r[-1] < e):\n",
    "        r = np.append(r, e)\n",
    "    return r\n",
    "\n",
    "interval = make_interval(0, 3)\n",
    "sin_res = np.sin(interval)"
   ]
  },
  {
   "cell_type": "code",
   "execution_count": 15,
   "id": "bd64358a",
   "metadata": {},
   "outputs": [],
   "source": [
    "interval = [0, 1.5, 3]\n",
    "sin_res = np.sin(interval)\n"
   ]
  },
  {
   "cell_type": "raw",
   "id": "2177b30e",
   "metadata": {},
   "source": []
  }
 ],
 "metadata": {
  "kernelspec": {
   "display_name": "Python 3 (ipykernel)",
   "language": "python",
   "name": "python3"
  },
  "language_info": {
   "codemirror_mode": {
    "name": "ipython",
    "version": 3
   },
   "file_extension": ".py",
   "mimetype": "text/x-python",
   "name": "python",
   "nbconvert_exporter": "python",
   "pygments_lexer": "ipython3",
   "version": "3.10.6"
  }
 },
 "nbformat": 4,
 "nbformat_minor": 5
}

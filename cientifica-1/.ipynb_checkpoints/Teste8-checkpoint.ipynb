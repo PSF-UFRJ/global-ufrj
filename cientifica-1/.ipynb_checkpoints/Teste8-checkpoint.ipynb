{
 "cells": [
  {
   "cell_type": "markdown",
   "metadata": {},
   "source": [
    "![CC-BY-SA](https://mirrors.creativecommons.org/presskit/buttons/88x31/svg/by-sa.svg)\n",
    "\n",
    "\n",
    "This notebook was created by [Bernardo Freitas Paulo da Costa](http://www.im.ufrj.br/bernardofpc),\n",
    "and is licensed under Creative Commons BY-SA."
   ]
  },
  {
   "cell_type": "markdown",
   "metadata": {},
   "source": [
    "Antes de enviar este Teste, verifique que tudo está funcionando como esperado.\n",
    "Por exemplo, **rode o código inteiro, do zero**.\n",
    "Para isso, vá no menu, escolha _Kernel_, depois _Restart & Run All_.\n",
    "\n",
    "Verifique, também, que você respondeu todas as questões:\n",
    "* as questões de código têm `YOUR CODE HERE` (e você pode apagar o `raise NotImplemented` ao incluir sua resposta)\n",
    "* as questões discursivas têm \"YOUR ANSWER HERE\"."
   ]
  },
  {
   "cell_type": "markdown",
   "metadata": {},
   "source": [
    "---"
   ]
  },
  {
   "cell_type": "code",
   "execution_count": 99,
   "metadata": {},
   "outputs": [],
   "source": [
    "import numpy as np\n",
    "import matplotlib.pyplot as plt\n",
    "from time import time"
   ]
  },
  {
   "cell_type": "markdown",
   "metadata": {},
   "source": [
    "# Resolvendo sistemas especiais\n",
    "\n",
    "## Questão 1: Algoritmo\n",
    "\n",
    "Uma matriz é dita tridiagonal quando só possui entradas diferentes de zero na diagonal,\n",
    "e imediatamente acima ou abaixo dela.\n",
    "\n",
    "Explique porque, ao fazer a eliminação, o algoritmo só precisa operar nas três \"diagonais centrais\"."
   ]
  },
  {
   "cell_type": "markdown",
   "metadata": {
    "deletable": false,
    "nbgrader": {
     "cell_type": "markdown",
     "checksum": "9fc580eb409c7160b373c9ba848736b1",
     "grade": true,
     "grade_id": "cell-671f1d7ad1aebc5e",
     "locked": false,
     "points": 2,
     "schema_version": 3,
     "solution": true,
     "task": false
    }
   },
   "source": [
    "O Processo de Eliminação faz parte do algoritmo de resolução de sistemas lineares computacionalmente. A resolução completa envolve o Processo de Eliminação e o Processo de Substituição. \n",
    "\n",
    "No Processo de Eliminação, estaremos substituindo cada linha, de cima para baixo, a partir da segunda, por uma que seja a combinação linear da linha atual e da linha anterior, de forma que o elemento pivô da linha seja igual a zero - e faz-se isso recursivamente até que todos os elementos que sejam da mesma coluna do pivô sejam iguais a zero. Portanto, __se ele já for zero__, não é necessário fazer nenhuma operação. Assim, no processo de eliminação, precisamos apenas trabalhar com as diagonais centrais __porque elas não são iguais a zero__, enquanto todas as outras diagonais já são.\n",
    "\n",
    "Esse argumento é igualmente válido para o Processo de Substituição, que permite a resolução completa do sistema de equações lineares. Uma vez já feito o Processo de Eliminação, o Processo de Substituição irá substituir as linhas que possuem elementos que não sejam iguais a zero, mas no sentido contrário do processo de eliminação, focando nas diagonais superiores. Portanto, __se as linhas já tiverem o seu elemento relacionado ao pivô zerado, não há operação a fazer__.\n",
    "\n",
    "Assim, não apenas o Processo de Eliminação, mas também o de Substituição, precisam trabalhar apenas nas diagonais centrais, porque todas as outras já estão iguais a zero. No final dos dois processos, teremos apenas uma matriz diagonal, originária da matriz dada inicialmente, precisando zerar apenas as diagonais que já não estão zeradas."
   ]
  },
  {
   "cell_type": "markdown",
   "metadata": {},
   "source": [
    "Dê um exemplo de uma matriz $4 \\times 4$, com muitos zeros, mas para a qual o algoritmo de eliminação\n",
    "vai ter que acessar e calcular nas entradas correspondentes a estes zeros."
   ]
  },
  {
   "cell_type": "markdown",
   "metadata": {
    "deletable": false,
    "nbgrader": {
     "cell_type": "markdown",
     "checksum": "c6d7b577aefd0c03658bc3812ba0971a",
     "grade": true,
     "grade_id": "cell-d5ca797d17ccc3d9",
     "locked": false,
     "points": 1,
     "schema_version": 3,
     "solution": true,
     "task": false
    }
   },
   "source": [
    "$$\n",
    "M = \\begin{bmatrix} \n",
    "    0 & 1 & 0 & 1 \\\\\n",
    "    1 & 0 & 4 & 0 \\\\\n",
    "    0 & 3 & 0 & 27 \\\\\n",
    "    1 & 0 & 16 & 0 \n",
    "    \\end{bmatrix}\n",
    "$$\n",
    "\n",
    "Ou: \n",
    "\n",
    "$$\n",
    "M = \\begin{bmatrix}\n",
    "    1 & 1 & 1 & 1 \\\\\n",
    "    1 & 0 & 0 & 4 \\\\\n",
    "    3 & 0 & 0 & 81 \\\\\n",
    "    1 & 4 & 16 & 64 \\\\\n",
    "    \\end{bmatrix}\n",
    "$$\n",
    "\n",
    "Ambas são matrizes inversíveis, montadas com uma distribuição de zeros desagradável para o algoritmo de eliminação. apesar de a segunda ter possibilidades de otimização melhores que a primeira."
   ]
  },
  {
   "cell_type": "markdown",
   "metadata": {},
   "source": [
    "Agora, escreva a função `tridiag_solve` para resolver sistemas tridiagonais, ou seja,\n",
    "aqueles cuja matriz de coeficientes é tridiagonal.\n",
    "\n",
    "Esta função deve realizar o algoritmo de eliminação,\n",
    "mas, para ter uma boa performance, opere apenas nas entradas das diagonais centrais."
   ]
  },
  {
   "cell_type": "code",
   "execution_count": 100,
   "metadata": {
    "deletable": false,
    "nbgrader": {
     "cell_type": "code",
     "checksum": "2d473836f3d27d675feae3cb56bc794c",
     "grade": false,
     "grade_id": "cell-462b708f5e397ecf",
     "locked": false,
     "schema_version": 3,
     "solution": true,
     "task": false
    }
   },
   "outputs": [],
   "source": [
    "def tridiag_solve(A, b):\n",
    "    A = np.copy(np.asarray(A, dtype=np.float64))\n",
    "    b = np.copy(np.asarray(b, dtype=np.float64))\n",
    "    n,m = np.shape(A)\n",
    "    assert m == len(b)\n",
    "    assert n == m, \"Matrix must be square\"\n",
    "    \n",
    "    # Eliminação - passa pelas colunas, começando pela primeira:\n",
    "    for column in range(m-1):\n",
    "        pivot = A[column][column]\n",
    "        # Passa pelas linhas aqui, para eliminar cada coluna\n",
    "        for line in range(column+1, column+2):\n",
    "            if A[line][column] != 0:\n",
    "                factor = A[line][column] / pivot\n",
    "                # Passa pelas colunas da linha, aqui, para ajustar os valores:\n",
    "                A[line][column] = 0\n",
    "                A[line][column+1] = A[line][column+1] - A[column][column+1] * factor\n",
    "                # Calcula o novo valor dos elementos para todas as colunas da linha A:\n",
    "                b[line] = b[line] - b[column] * factor\n",
    "             \n",
    "    # Substituição: passa pelas colunas, começando pela última:\n",
    "    for column in range(m-1, 0, -1):\n",
    "        pivot = A[column][column]\n",
    "        if A[column-1][column] != 0:\n",
    "            factor = A[column-1][column] / pivot\n",
    "            A[column-1][column] = 0\n",
    "            b[column-1] = b[column-1] - b[column] * factor\n",
    "           \n",
    "    # Retorna o resultado:\n",
    "    return np.array([b[column]/A[column][column] for column in range(n)])"
   ]
  },
  {
   "cell_type": "markdown",
   "metadata": {},
   "source": [
    "Qual o papel do primeiro assert?"
   ]
  },
  {
   "cell_type": "markdown",
   "metadata": {
    "deletable": false,
    "nbgrader": {
     "cell_type": "markdown",
     "checksum": "f7374d595c9876249cb7f8693191382d",
     "grade": true,
     "grade_id": "cell-7a4214ebd68e358c",
     "locked": false,
     "points": 1,
     "schema_version": 3,
     "solution": true,
     "task": false
    }
   },
   "source": [
    "O papel do primeiro assert é garantir que o número de elementos da matriz __b__, com os valores a que o sistema linear representado por __A__ é igualado, tenha o mesmo número de elementos do que a quantidade de linhas que __A__ possui - ou seja, __b__ possui a mesma quantidade de valores que __A__ possui em variáveis a serem encontradas."
   ]
  },
  {
   "cell_type": "code",
   "execution_count": 101,
   "metadata": {
    "deletable": false,
    "editable": false,
    "nbgrader": {
     "cell_type": "code",
     "checksum": "2e4b59ab9571801024d1e03249fd5458",
     "grade": true,
     "grade_id": "cell-65f2e07cb2fa5887",
     "locked": true,
     "points": 1,
     "schema_version": 3,
     "solution": false,
     "task": false
    }
   },
   "outputs": [],
   "source": [
    "A = [[1, 2, 0], [2, 1, -1], [0, 1, -2]]\n",
    "b = [1,1,1]\n",
    "\n",
    "x1 = np.linalg.solve(A,b)\n",
    "x2 = tridiag_solve(A, b)\n",
    "assert np.allclose(x1, x2, atol=1e-14, rtol=1e-14)"
   ]
  },
  {
   "cell_type": "code",
   "execution_count": 102,
   "metadata": {
    "deletable": false,
    "editable": false,
    "nbgrader": {
     "cell_type": "code",
     "checksum": "f9ce16344b327878f74ae2a53d78a9e5",
     "grade": true,
     "grade_id": "cell-20bb3249b0db5e25",
     "locked": true,
     "points": 1,
     "schema_version": 3,
     "solution": false,
     "task": false
    }
   },
   "outputs": [],
   "source": [
    "np.random.seed(9)\n",
    "A = np.diag(range(3,8)) + np.diag([-1,-1,-2,-2], k=1) + np.diag([-2,-2,-1,-1], k=-1)\n",
    "b = np.random.randn(5)\n",
    "\n",
    "x1 = np.linalg.solve(A, b)\n",
    "x2 = tridiag_solve(A, b)\n",
    "assert np.allclose(x1, x2, atol=1e-13, rtol=1e-13)"
   ]
  },
  {
   "cell_type": "markdown",
   "metadata": {},
   "source": [
    "Se você não tivesse acesso a `np.linalg.solve`, como você poderia testar sua função?\n",
    "Explique abaixo, e dê um exemplo de teste na caixa seguinte."
   ]
  },
  {
   "cell_type": "markdown",
   "metadata": {
    "deletable": false,
    "nbgrader": {
     "cell_type": "markdown",
     "checksum": "d7e005d192564f3abfad3c2639865f43",
     "grade": true,
     "grade_id": "cell-880f3f95c45d504d",
     "locked": false,
     "points": 1,
     "schema_version": 3,
     "solution": true,
     "task": false
    }
   },
   "source": [
    "A gente sabe que `np.linalg.solve` resolve o seguinte sistema:\n",
    "\n",
    "* $A_{n \\times n} \\Rightarrow$ Matriz dos coeficientes do sistema linear\n",
    "* $x_n \\Rightarrow$ Matrix das variáveis a serem identificadas no sistema linear\n",
    "* $b_n \\Rightarrow$ Matriz com os resultados das igualdades das equações do sistema linear \n",
    "\n",
    "$ A_{n \\times n} x_n = b_n $,\n",
    "\n",
    "Então sabemos que:\n",
    "\n",
    "$ A_{n \\times n}^{-1} A_{n \\times n} x_n = A_{n \\times n}^{-1} b_n \\Leftrightarrow x_n = A_{n \\times n}^{-1} b_n $,\n",
    "\n",
    "O que significa que basta ter acesso à rotina que inverte matrizes para verificar se a função `tridiag_solve` foi corretamente implementada.\n",
    "\n",
    "O teste pode ser visto abaixo.\n"
   ]
  },
  {
   "cell_type": "code",
   "execution_count": 106,
   "metadata": {
    "deletable": false,
    "nbgrader": {
     "cell_type": "code",
     "checksum": "a43fd073452357c400e95e3d94b8e664",
     "grade": true,
     "grade_id": "cell-e359c03c250b063f",
     "locked": false,
     "points": 1,
     "schema_version": 3,
     "solution": true,
     "task": false
    }
   },
   "outputs": [],
   "source": [
    "# Exemplo de teste\n",
    "A = [[1, 2, 0], [2, 1, -1], [0, 1, -2]]\n",
    "b = [1,1,1]\n",
    "\n",
    "A_1 = np.linalg.inv(A)\n",
    "\n",
    "x1 = A_1 @ b\n",
    "x2 = tridiag_solve(A, b)\n",
    "\n",
    "assert np.allclose(x1, x2, atol=1e-8,  rtol=1e-8)"
   ]
  },
  {
   "cell_type": "code",
   "execution_count": 107,
   "metadata": {
    "deletable": false,
    "editable": false,
    "nbgrader": {
     "cell_type": "code",
     "checksum": "438feefb98479fa70a5568a49a1eb9be",
     "grade": true,
     "grade_id": "cell-077e432dff6201e1",
     "locked": true,
     "points": 1,
     "schema_version": 3,
     "solution": false,
     "task": false
    }
   },
   "outputs": [],
   "source": [
    "np.random.seed(9)\n",
    "A = np.random.randn(5,5)\n",
    "b = [1,2,3,4,5]\n",
    "\n",
    "\n",
    "x1 = np.linalg.solve(A, b)\n",
    "x2 = tridiag_solve(A, b)\n",
    "assert not np.allclose(x1, x2, atol=1e-3, rtol=1e-3)"
   ]
  },
  {
   "cell_type": "markdown",
   "metadata": {},
   "source": [
    "Explique o resultado dos testes acima."
   ]
  },
  {
   "cell_type": "markdown",
   "metadata": {
    "deletable": false,
    "nbgrader": {
     "cell_type": "markdown",
     "checksum": "0b26708c76893392842deef2fa1e0094",
     "grade": true,
     "grade_id": "cell-2ee20344f5d12125",
     "locked": false,
     "points": 1,
     "schema_version": 3,
     "solution": true,
     "task": false
    }
   },
   "source": [
    "Existem dois testes acima - um implementado para verificar se a se a função `tridiag_solve` está corretamente implementada, utilizando a inversão da matriz __A__ para fazer a verificação. Esse teste já está explicado anteriormente, mostrando a relação entre a resolução do sistema linear e a inversão da matriz de coeficientes.\n",
    "\n",
    "Entretanto, o segundo teste, que foi aplicando a `tridiag_solve` sobre uma matriz com coeficientes randômicos apenas mostrou que o uso dessa função sobre sistemas representados por matrizes que não são tridiagonais chega a resultados falhos - porque a `tridiag_solve` é uma função específica, para um tipo específico de matrizes, não podendo ser aplicada para matrizes quaisquer. A `tridia_solve` deve ser aplicada apenas sobre matrizes tridiagonais."
   ]
  },
  {
   "cell_type": "markdown",
   "metadata": {},
   "source": [
    "## Questão 2: Tempos\n",
    "\n",
    "Para cada um dos `ns` dados a seguir, monte um sistema tridiagonal $n \\times n$,\n",
    "e calcule o tempo (usando `time`) para:\n",
    "1. Criar a matriz A e o vetor b (podem ser aleatórios, podem não ser)\n",
    "2. Resolver o sistema usando `tridiag_solve`\n",
    "\n",
    "Armazene os tempos em duas listas, `t_create` e `t_solve`.\n",
    "\n",
    "Obs: a caixa abaixo pode usar algo como 500M de RAM, por conta das matrizes 4k\n",
    "(ou até mais, dependendo de **como** você criar as matrizes).\n",
    "Assim, para testar, diminua a amplitude do logspace, terminando em $2^{10}$ em vez de $2^{12}$.\n",
    "Se você não conseguir fazer funcionar até $2^{12}$,\n",
    "reduza o maior valor do `logspace`, mas não reduza demais.\n",
    "\n",
    "Obs2: A caixa abaixo deve ser executada em menos de 60 segundos, para não dar `TimeOut`."
   ]
  },
  {
   "cell_type": "code",
   "execution_count": 210,
   "metadata": {},
   "outputs": [],
   "source": [
    "import random as r\n",
    "import time as t"
   ]
  },
  {
   "cell_type": "code",
   "execution_count": 219,
   "metadata": {
    "deletable": false,
    "nbgrader": {
     "cell_type": "code",
     "checksum": "d9e2783887f32adbbc0ae3899f8df35f",
     "grade": true,
     "grade_id": "cell-84a663322d8e87f5",
     "locked": false,
     "points": 2,
     "schema_version": 3,
     "solution": true,
     "task": false
    }
   },
   "outputs": [
    {
     "name": "stdout",
     "output_type": "stream",
     "text": [
      "CPU times: user 17 s, sys: 283 ms, total: 17.3 s\n",
      "Wall time: 17.3 s\n"
     ]
    }
   ],
   "source": [
    "%%time\n",
    "\n",
    "# Adicionado valor inicial ao ns (2^3), porque o primeiro loop de avaliação \n",
    "# de tempo está com erro de captura (dando valor muito maior que os próximos).\n",
    "# Então o primeiro valor de ns é ignorado nos gráficos futuros.\n",
    "ns = np.append([2**3], np.logspace(4, 13, base=2, num=28, dtype=int))\n",
    "t_create = []\n",
    "t_solve = []\n",
    "\n",
    "for i, n in enumerate(ns):\n",
    "    starting = t.time()\n",
    "    # Matriz [A] calculada com valores aleatórios, mas nunca muito pequenos, \n",
    "    # nem muito grandes, para evitar erros numéricos acumulados:\n",
    "    A = [[(r.random()*1.90 + 0.1)*r.choices([-1,1])[0] if (abs(j-i)<=1) else 0 for j in range(n)] for i in range(n)]\n",
    "    # Matriz [b] calculada com valores aleatórios, mas nunca muito pequenos, \n",
    "    # nem muito grandes, para evitar erros numéricos acumulados:\n",
    "    b = [(r.random()*1.90 + 0.1)*r.choices([-1,1])[0] for i in range(n)]\n",
    "    ending = t.time()\n",
    "    t_create.append(ending-starting)\n",
    "    \n",
    "    starting = t.time()\n",
    "    x = tridiag_solve(A, b)\n",
    "    ending = t.time()\n",
    "    t_solve.append(ending-starting)\n",
    "\n",
    "# Removendo primeiro valor das listas de tempo mensurados:\n",
    "ns = ns[1:]\n",
    "t_create = t_create[1:]\n",
    "t_solve = t_solve[1:]"
   ]
  },
  {
   "cell_type": "markdown",
   "metadata": {},
   "source": [
    "Agora, faça um gráfico destes tempos, em função de $n$."
   ]
  },
  {
   "cell_type": "code",
   "execution_count": 220,
   "metadata": {
    "deletable": false,
    "nbgrader": {
     "cell_type": "code",
     "checksum": "b5fdd2f0ee670e68830b6b9abf309be9",
     "grade": false,
     "grade_id": "cell-a67d25ce0784d87f",
     "locked": false,
     "schema_version": 3,
     "solution": true,
     "task": false
    }
   },
   "outputs": [
    {
     "data": {
      "image/png": "[encoded data removed]",
      "text/plain": [
       "<Figure size 640x480 with 1 Axes>"
      ]
     },
     "metadata": {},
     "output_type": "display_data"
    }
   ],
   "source": [
    "fig, ax = plt.subplots()\n",
    "\n",
    "plt.plot(ns, t_create, label=\"Tempo de Criação das Matrizes\")\n",
    "plt.plot(ns, t_solve, label=\"Tempo de Resolução dos Sistemas\")\n",
    "ax.set_axisbelow(True)\n",
    "ax.minorticks_on()\n",
    "ax.grid(which='major', linestyle='-', linewidth='0.5', color='red')\n",
    "ax.grid(which='minor', linestyle=':', linewidth='0.5', color='black')\n",
    "plt.title(\"Gráfico dos Tempos\")\n",
    "plt.legend()\n",
    "\n",
    "ax = plt.gca()"
   ]
  },
  {
   "cell_type": "code",
   "execution_count": 221,
   "metadata": {
    "deletable": false,
    "editable": false,
    "nbgrader": {
     "cell_type": "code",
     "checksum": "328b139fc4112f5d0fe4ee451d929982",
     "grade": true,
     "grade_id": "cell-e3e0f254799598f9",
     "locked": true,
     "points": 1,
     "schema_version": 3,
     "solution": false,
     "task": false
    }
   },
   "outputs": [],
   "source": [
    "assert len(ax.lines) == 2\n",
    "assert len(ax.legend().texts) == 2\n",
    "assert ax.get_title() != \"\""
   ]
  },
  {
   "cell_type": "code",
   "execution_count": 222,
   "metadata": {
    "deletable": false,
    "editable": false,
    "nbgrader": {
     "cell_type": "code",
     "checksum": "5fb8e4e1ef41cb7977c1aac6836b038d",
     "grade": true,
     "grade_id": "cell-b0b81c2b16c50f3a",
     "locked": true,
     "points": 1,
     "schema_version": 3,
     "solution": false,
     "task": false
    }
   },
   "outputs": [],
   "source": [
    "for l in ax.lines:\n",
    "    xs = l.get_xdata()\n",
    "    assert min(xs) == 2**4\n",
    "    assert 2**9 <= max(xs) <= 2**13"
   ]
  },
  {
   "cell_type": "code",
   "execution_count": 223,
   "metadata": {
    "deletable": false,
    "editable": false,
    "nbgrader": {
     "cell_type": "code",
     "checksum": "418830f6be670487fb4a054bb04a3d4d",
     "grade": false,
     "grade_id": "cell-fe964215dead09c4",
     "locked": true,
     "schema_version": 3,
     "solution": false,
     "task": false
    }
   },
   "outputs": [],
   "source": [
    "ax = None"
   ]
  },
  {
   "cell_type": "markdown",
   "metadata": {},
   "source": [
    "Qual etapa demora mais?\n",
    "Porquê você acha que isso acontece?"
   ]
  },
  {
   "cell_type": "markdown",
   "metadata": {
    "deletable": false,
    "nbgrader": {
     "cell_type": "markdown",
     "checksum": "108666274c95da5a5466ea2107289581",
     "grade": true,
     "grade_id": "cell-7d10cf0ddf503610",
     "locked": false,
     "points": 2,
     "schema_version": 3,
     "solution": true,
     "task": false
    }
   },
   "source": [
    "A etapa de criação das matrizes demora mais, porque ela utiliza algumas funções de geração de números randomicos(`random.random` e `random.choices`), que são iteradas para os possíveis valores de todas as matrizes a serem testadas, mas ainda iterando e atribuindo o valor $0$ para os valores das matrizes que estão fora das três diagonais centrais - ou seja, no limite a criação das matrizes tem mais iterações do que as soluções."
   ]
  },
  {
   "cell_type": "markdown",
   "metadata": {},
   "source": [
    "Agora, faça novos gráficos, para tentar descobrir a taxa de crescimento destes tempos:\n",
    "se é linear, quadrático, exponencial, ... em função de $n$.\n",
    "\n",
    "E se são a mesma taxa ou não!"
   ]
  },
  {
   "cell_type": "code",
   "execution_count": 224,
   "metadata": {
    "deletable": false,
    "nbgrader": {
     "cell_type": "code",
     "checksum": "80a4a61f47c75033569dd08f62b92f0e",
     "grade": true,
     "grade_id": "cell-0ac7be496b4ab4a4",
     "locked": false,
     "points": 1,
     "schema_version": 3,
     "solution": true,
     "task": false
    }
   },
   "outputs": [
    {
     "data": {
      "text/plain": [
       "<matplotlib.legend.Legend at 0x7f23046aad10>"
      ]
     },
     "execution_count": 224,
     "metadata": {},
     "output_type": "execute_result"
    },
    {
     "data": {
      "image/png": "[encoded data removed]",
      "text/plain": [
       "<Figure size 640x480 with 1 Axes>"
      ]
     },
     "metadata": {},
     "output_type": "display_data"
    }
   ],
   "source": [
    "fig, ax = plt.subplots()\n",
    "\n",
    "plt.loglog(ns, t_create, label=\"Tempo de Criação das Matrizes\")\n",
    "plt.loglog(ns, t_solve, label=\"Tempo de Resolução dos Sistemas\")\n",
    "ax.set_axisbelow(True)\n",
    "ax.minorticks_on()\n",
    "ax.grid(which='major', linestyle='-', linewidth='0.5', color='red')\n",
    "ax.grid(which='minor', linestyle=':', linewidth='0.5', color='black')\n",
    "plt.title(\"Gráfico dos Tempos\")\n",
    "plt.legend()"
   ]
  },
  {
   "cell_type": "markdown",
   "metadata": {},
   "source": [
    "Comente"
   ]
  },
  {
   "cell_type": "markdown",
   "metadata": {
    "deletable": false,
    "nbgrader": {
     "cell_type": "markdown",
     "checksum": "771e39b6d32bc3722f7f9c45846865f6",
     "grade": true,
     "grade_id": "cell-c5b389d9a6bae124",
     "locked": false,
     "points": 2,
     "schema_version": 3,
     "solution": true,
     "task": false
    }
   },
   "source": [
    "Uma excelente forma de se encontrar se uma relação entre variáveis é exponencial e pegar os dados e plotar em escala bilinear - porque se, nessa escala, temos uma reta, ou uma quase reta, temos relações exponenciais entre variáveis.\n",
    "\n",
    "Nos gráficos acima, percebemos que, tanto para a criação das matrizes quanto para a resolução dos sistemas lineares, temos quase-retas no gráfico de escala bilinear. Entretanto, a inclinação da reta para a criação das matrizes parece ser levemente mais inclinada, para cima, do que a reta para a resolução dos sistemas - indicando que o consumo de tempo para a criação das matrizes parece crescer mais rápido, exponencialmente, do que para a resolução dos sistemas, que também cresce exponencialmente.\n",
    "\n",
    "Outra característica perceptível é que ambos os gráficos parecem ter uma leve concavidade para cima - mostrando que a relação não é perfeitamente exponencial, mas alguma coisa próxima da exponencial, mas crescendo ainda mais rápido.\n"
   ]
  },
  {
   "cell_type": "markdown",
   "metadata": {},
   "source": [
    "## Questão 3: Sistemas pentadiagonais\n",
    "\n",
    "Agora, suponha que a matriz $A$ é pentadiagonal, ou seja, as entradas não-nulas\n",
    "podem estar até 2 linhas acima ou abaixo da diagonal principal.\n",
    "Generalize o seu programa para resolver sistemas pentadiagonais."
   ]
  },
  {
   "cell_type": "code",
   "execution_count": null,
   "metadata": {
    "deletable": false,
    "nbgrader": {
     "cell_type": "code",
     "checksum": "571c8582bd5a9013fa43cd3f54aeb512",
     "grade": false,
     "grade_id": "cell-41937ff612288545",
     "locked": false,
     "schema_version": 3,
     "solution": true,
     "task": false
    }
   },
   "outputs": [],
   "source": [
    "def pentadiag_solve(A, b):\n",
    "    A = np.copy(np.asarray(A, dtype=np.float64))\n",
    "    b = np.copy(np.asarray(b, dtype=np.float64))\n",
    "    n,m = np.shape(A)\n",
    "    assert m == len(b)\n",
    "    assert n == m, \"Matrix must be square\"\n",
    "    # YOUR CODE HERE\n",
    "    raise NotImplementedError()"
   ]
  },
  {
   "cell_type": "code",
   "execution_count": null,
   "metadata": {
    "deletable": false,
    "editable": false,
    "nbgrader": {
     "cell_type": "code",
     "checksum": "47970c533b0a3e8bfb9150817c2ebbd0",
     "grade": true,
     "grade_id": "cell-2e48084bf174185d",
     "locked": true,
     "points": 1,
     "schema_version": 3,
     "solution": false,
     "task": false
    }
   },
   "outputs": [],
   "source": [
    "np.random.seed(9)\n",
    "A = np.diag(range(3,8)) + np.diag([-1,-1,-2,-2], k=1) + np.diag([-2,-2,-1,-1], k=-1)\n",
    "b = np.random.randn(5)\n",
    "\n",
    "x2 = tridiag_solve(A, b)\n",
    "x3 = pentadiag_solve(A, b)\n",
    "assert np.allclose(x3, x2, atol=1e-13, rtol=1e-13)"
   ]
  },
  {
   "cell_type": "code",
   "execution_count": null,
   "metadata": {
    "deletable": false,
    "editable": false,
    "nbgrader": {
     "cell_type": "code",
     "checksum": "04ad339f95eab013a9699fff6e6b1d59",
     "grade": true,
     "grade_id": "cell-ea99873bf680925a",
     "locked": true,
     "points": 2,
     "schema_version": 3,
     "solution": false,
     "task": false
    }
   },
   "outputs": [],
   "source": [
    "np.random.seed(10)\n",
    "A = np.diag(range(3,9)) + np.diag([-1,-1,-2,-2], k=2) + np.diag([-2,-2,-1,-1], k=-2)\n",
    "b = np.random.randn(6)\n",
    "\n",
    "x1 = np.linalg.solve(A, b)\n",
    "x3 = pentadiag_solve(A, b)\n",
    "assert np.allclose(x1, x3, atol=1e-13, rtol=1e-13)"
   ]
  },
  {
   "cell_type": "code",
   "execution_count": null,
   "metadata": {
    "deletable": false,
    "editable": false,
    "nbgrader": {
     "cell_type": "code",
     "checksum": "8dbfb37bf6eda7931af7f222ab39f266",
     "grade": true,
     "grade_id": "cell-a9b89660ea1f5a11",
     "locked": true,
     "points": 1,
     "schema_version": 3,
     "solution": false,
     "task": false
    }
   },
   "outputs": [],
   "source": [
    "np.random.seed(10)\n",
    "A = np.diag(range(3,9)) + np.diag([-1,-1,0,-2,-2], k=1) + np.diag([-2,-2,-1,-1], k=-2)\n",
    "b = np.random.randn(6)\n",
    "\n",
    "x1 = np.linalg.solve(A, b)\n",
    "x3 = pentadiag_solve(A, b)\n",
    "assert np.allclose(x1, x3, atol=1e-13, rtol=1e-13)"
   ]
  },
  {
   "cell_type": "markdown",
   "metadata": {},
   "source": [
    "Repita os cálculos de tempo, para resolver sistemas de dimensão até $2^{12}$."
   ]
  },
  {
   "cell_type": "code",
   "execution_count": null,
   "metadata": {
    "deletable": false,
    "nbgrader": {
     "cell_type": "code",
     "checksum": "23eb60ac857e3086372641a602f8654c",
     "grade": true,
     "grade_id": "cell-2e5b4eed7bb22b4b",
     "locked": false,
     "points": 1,
     "schema_version": 3,
     "solution": true,
     "task": false
    }
   },
   "outputs": [],
   "source": [
    "ns = np.logspace(4,12, base=2, num=28, dtype=int)\n",
    "t_create = []\n",
    "t_solve  = []\n",
    "for i, n in enumerate(ns):\n",
    "    # YOUR CODE HERE\n",
    "    raise NotImplementedError()"
   ]
  },
  {
   "cell_type": "code",
   "execution_count": null,
   "metadata": {
    "deletable": false,
    "nbgrader": {
     "cell_type": "code",
     "checksum": "498aac693e11746ff8390bc31df8cca1",
     "grade": false,
     "grade_id": "cell-aa08140310aa9c71",
     "locked": false,
     "schema_version": 3,
     "solution": true,
     "task": false
    }
   },
   "outputs": [],
   "source": [
    "# YOUR CODE HERE\n",
    "raise NotImplementedError()\n",
    "\n",
    "ax = plt.gca()"
   ]
  },
  {
   "cell_type": "code",
   "execution_count": null,
   "metadata": {
    "deletable": false,
    "editable": false,
    "nbgrader": {
     "cell_type": "code",
     "checksum": "e8371fb142125e7ddb5eb1a80ece12ad",
     "grade": true,
     "grade_id": "cell-daef85db8ad2ed47",
     "locked": true,
     "points": 1,
     "schema_version": 3,
     "solution": false,
     "task": false
    }
   },
   "outputs": [],
   "source": [
    "assert len(ax.lines) == 2\n",
    "assert len(ax.legend().texts) == 2\n",
    "assert ax.get_title() != \"\""
   ]
  },
  {
   "cell_type": "markdown",
   "metadata": {},
   "source": [
    "O que mudou?"
   ]
  },
  {
   "cell_type": "markdown",
   "metadata": {
    "deletable": false,
    "nbgrader": {
     "cell_type": "markdown",
     "checksum": "44084f4556a1a31704e85c517105d545",
     "grade": true,
     "grade_id": "cell-7e4a3bc07ef66e1e",
     "locked": false,
     "points": 1,
     "schema_version": 3,
     "solution": true,
     "task": false
    }
   },
   "source": [
    "YOUR ANSWER HERE"
   ]
  },
  {
   "cell_type": "markdown",
   "metadata": {},
   "source": [
    "## Questão 4: Velocidade\n",
    "\n",
    "Seu método tridiagonal é mais rápido do que `np.linalg.solve` para matrizes $10 \\times 10$?\n",
    "Para qual $n$, aproximadamente, seu método fica mais rápido?"
   ]
  },
  {
   "cell_type": "code",
   "execution_count": null,
   "metadata": {
    "deletable": false,
    "nbgrader": {
     "cell_type": "code",
     "checksum": "681c180b48f7fa3bfa8cddb19a55ff56",
     "grade": true,
     "grade_id": "cell-cc0d30be0b997cb8",
     "locked": false,
     "points": 2,
     "schema_version": 3,
     "solution": true,
     "task": false
    }
   },
   "outputs": [],
   "source": [
    "# YOUR CODE HERE\n",
    "raise NotImplementedError()"
   ]
  },
  {
   "cell_type": "markdown",
   "metadata": {},
   "source": [
    "E como é a qualidade da solução?\n",
    "Faça cálculos na caixa abaixo, e comente em seguida."
   ]
  },
  {
   "cell_type": "code",
   "execution_count": null,
   "metadata": {
    "deletable": false,
    "nbgrader": {
     "cell_type": "code",
     "checksum": "f83d57bb56e1161bce35efe6cf46d08c",
     "grade": true,
     "grade_id": "cell-b1b8d36719f10882",
     "locked": false,
     "points": 2,
     "schema_version": 3,
     "solution": true,
     "task": false
    }
   },
   "outputs": [],
   "source": [
    "# YOUR CODE HERE\n",
    "raise NotImplementedError()"
   ]
  },
  {
   "cell_type": "markdown",
   "metadata": {
    "deletable": false,
    "nbgrader": {
     "cell_type": "markdown",
     "checksum": "fed93f0c84e2a22c9c1c48046a50a682",
     "grade": true,
     "grade_id": "cell-4f62e86e0f71ebab",
     "locked": false,
     "points": 1,
     "schema_version": 3,
     "solution": true,
     "task": false
    }
   },
   "source": [
    "YOUR ANSWER HERE"
   ]
  }
 ],
 "metadata": {
  "kernelspec": {
   "display_name": "Python 3 (ipykernel)",
   "language": "python",
   "name": "python3"
  },
  "language_info": {
   "codemirror_mode": {
    "name": "ipython",
    "version": 3
   },
   "file_extension": ".py",
   "mimetype": "text/x-python",
   "name": "python",
   "nbconvert_exporter": "python",
   "pygments_lexer": "ipython3",
   "version": "3.10.6"
  }
 },
 "nbformat": 4,
 "nbformat_minor": 4
}

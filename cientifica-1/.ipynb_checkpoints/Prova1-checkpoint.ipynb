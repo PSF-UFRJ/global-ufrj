{
 "cells": [
  {
   "cell_type": "markdown",
   "id": "5103982d",
   "metadata": {},
   "source": [
    "![CC-BY-SA](https://mirrors.creativecommons.org/presskit/buttons/88x31/svg/by-sa.svg)\n",
    "\n",
    "\n",
    "This notebook was created by [Bernardo Freitas Paulo da Costa](http://www.im.ufrj.br/bernardofpc),\n",
    "and is licensed under Creative Commons BY-SA."
   ]
  },
  {
   "cell_type": "markdown",
   "id": "4daf8678",
   "metadata": {},
   "source": [
    "Antes de enviar este Teste, verifique que tudo está funcionando como esperado.\n",
    "Por exemplo, **rode o código inteiro, do zero**.\n",
    "Para isso, vá no menu, escolha _Kernel_, depois _Restart & Run All_.\n",
    "\n",
    "Verifique, também, que você respondeu todas as questões:\n",
    "* as questões de código têm `YOUR CODE HERE` (e você pode apagar o `raise NotImplemented` ao incluir sua resposta)\n",
    "* as questões discursivas têm \"YOUR ANSWER HERE\"."
   ]
  },
  {
   "cell_type": "markdown",
   "id": "d5709e68",
   "metadata": {},
   "source": [
    "---"
   ]
  },
  {
   "cell_type": "code",
   "execution_count": 1,
   "id": "1a8a7c78",
   "metadata": {
    "deletable": false,
    "editable": false,
    "nbgrader": {
     "cell_type": "code",
     "checksum": "49483293c32655f488ac31148ad2bce1",
     "grade": false,
     "grade_id": "cell-29960621eaa07728",
     "locked": true,
     "schema_version": 3,
     "solution": false,
     "task": false
    }
   },
   "outputs": [],
   "source": [
    "import numpy as np\n",
    "import matplotlib.pyplot as plt"
   ]
  },
  {
   "cell_type": "code",
   "execution_count": 2,
   "id": "0e620fcf",
   "metadata": {
    "deletable": false,
    "editable": false,
    "nbgrader": {
     "cell_type": "code",
     "checksum": "33b9576a2e33dd46e3aec82294b42d38",
     "grade": false,
     "grade_id": "cell-5cba783ed357b369",
     "locked": true,
     "schema_version": 3,
     "solution": false,
     "task": false
    }
   },
   "outputs": [],
   "source": [
    "def veryclose(a, b):\n",
    "    return np.allclose(a, b, rtol=1e-12, atol=1e-12)"
   ]
  },
  {
   "cell_type": "markdown",
   "id": "7defc283",
   "metadata": {},
   "source": [
    "# Parte 1: Calculando raízes com a segunda derivada\n",
    "\n",
    "Vimos, em aula, que o Método de Newton usa a primeira derivada da função $f$\n",
    "para calcular uma aproximação linear da função, e sucessivamente se aproximar do mínimo.\n",
    "\n",
    "Nesta parte, iremos usar a segunda derivada também."
   ]
  },
  {
   "cell_type": "markdown",
   "id": "2b83fea5",
   "metadata": {},
   "source": [
    "## Questão 1: Fórmulas\n",
    "\n",
    "Sejam dados\n",
    "$$\\begin{align*}\n",
    "  f(x_0) & = v_0 \\\\\n",
    " f'(x_0) & = v_1 \\\\\n",
    "f''(x_0) & = v_2\n",
    "\\end{align*}$$\n",
    "\n",
    "Dê, em função de $x_0$, $v_0$, $v_1$ e $v_2$, as raizes da parábola correspondente.\n",
    "Em particular, mostre que as raízes (se existirem) são da forma $x_0 + \\text{passo}$."
   ]
  },
  {
   "cell_type": "markdown",
   "id": "07457256",
   "metadata": {
    "deletable": false,
    "nbgrader": {
     "cell_type": "markdown",
     "checksum": "71b9e56134bc1554a8bb85079309a5f6",
     "grade": true,
     "grade_id": "cell-87a8bb4dfe0882ed",
     "locked": false,
     "points": 3,
     "schema_version": 3,
     "solution": true,
     "task": false
    }
   },
   "source": [
    "Vamos assumir que estamos aplicando o Método de Newton em uma vizinhança de $x_0$, em uma distância (passo) dada por $h = x - x_0$.\n",
    "\n",
    "Sabemos, pela Fórmula de Taylor, que se F é de classe $C^2$, vale:\n",
    "\n",
    "$f(x+h) = f(x) + hf'(x) + \\frac{1}{2}h^2f''(x)$,\n",
    "\n",
    "Portanto, em $x_0$, temos:\n",
    "\n",
    "$f(x_0+h) = f(x_0) + hf'(x_0) + \\frac{1}{2}h^2f''(x_0)$,\n",
    "\n",
    "Que, com as devidas substituições é:\n",
    "\n",
    "$f(x_0+h) = 0 = v_0 + hv_1 + \\frac{1}{2}h^2v_2$, e $h = x - x_0$\n",
    "\n",
    "Que se reduz a uma equação de segundo grau:\n",
    "\n",
    "$\\frac{v_2}{2}h^2 + v_1h + v_0 = 0$\n",
    "\n",
    "Cujo discriminante é:\n",
    "\n",
    "$\\Delta = v_1^2 - 2v_0v_2$\n",
    "\n",
    "E o valor de $h$ é dado por:\n",
    "\n",
    "$h = \\frac{-v_1 \\pm \\sqrt{v_1^2 - 2v_0v_2}}{v_2}$\n",
    "\n",
    "Como $h = x - x_0$, temos que o $x$ que zera a parábola é dada por:\n",
    "\n",
    "$x = x_0 + h = x_0 + \\frac{-v_1 \\pm \\sqrt{v_1^2 - 2v_0v_2}}{v_2}$\n",
    "\n",
    "E o passo é dado por h, dado acima."
   ]
  },
  {
   "cell_type": "markdown",
   "id": "969a684d",
   "metadata": {},
   "source": [
    "Qual raiz você escolheria?  Porquê?"
   ]
  },
  {
   "cell_type": "markdown",
   "id": "0c574b45",
   "metadata": {
    "deletable": false,
    "nbgrader": {
     "cell_type": "markdown",
     "checksum": "45f2ff29aa69ad0b460a04a34dbd0729",
     "grade": true,
     "grade_id": "cell-f04ee114cd36e059",
     "locked": false,
     "points": 2,
     "schema_version": 3,
     "solution": true,
     "task": false
    }
   },
   "source": [
    "Por conservadorismo, escolheria o menor passo, em valores absolutos, porque estamos assumindo que a função é duas vezes derivável (portanto bem comportada) e o zero será aproximado com um erro menor quanto menor for o passo, ou seja, o erro de aproximação diminui com o passo menor, permitindo uma melhor aproximação. Além disso, estamos assumindo que estamos fazendo uma busca pelo zero em uma vizinhança de $x_0$, portanto não há porque buscar o passo que mais se distancie de $x_0$, provocando uma possível saída da vizinhança.\n"
   ]
  },
  {
   "cell_type": "markdown",
   "id": "6e5800f2",
   "metadata": {},
   "source": [
    "## Questão 2: O passo\n",
    "\n",
    "Escreva a função `step(v0, v1, v2)` que dá o passo a ser feito.\n",
    "\n",
    "Se a parábola não possuir raiz, use, simplesmente, a regra original do método de Newton."
   ]
  },
  {
   "cell_type": "code",
   "execution_count": 3,
   "id": "8bdba395",
   "metadata": {
    "deletable": false,
    "nbgrader": {
     "cell_type": "code",
     "checksum": "8e836f18219682d88b1266f83e676739",
     "grade": false,
     "grade_id": "cell-f792e287790f83da",
     "locked": false,
     "schema_version": 3,
     "solution": true,
     "task": false
    }
   },
   "outputs": [],
   "source": [
    "def step2(v0, v1, v2):\n",
    "    delta = np.power(v1, 2) - 2 * v0 * v2\n",
    "    if delta < 0:\n",
    "        # Método de newton:\n",
    "        return - v0/v1\n",
    "    p1 = - (v1 + np.sqrt(np.power(v1,2) - 2 * v0 * v2))/v2\n",
    "    p2 = - (v1 - np.sqrt(np.power(v1,2) - 2 * v0 * v2))/v2\n",
    "    if np.abs(p1) > np.abs(p2):\n",
    "        return p2\n",
    "    return p1"
   ]
  },
  {
   "cell_type": "code",
   "execution_count": 4,
   "id": "460a7d7d",
   "metadata": {
    "deletable": false,
    "editable": false,
    "nbgrader": {
     "cell_type": "code",
     "checksum": "25d39313f49b457edf9b4970f2b7df6d",
     "grade": true,
     "grade_id": "cell-c966ddab80242c6e",
     "locked": true,
     "points": 1,
     "schema_version": 3,
     "solution": false,
     "task": false
    }
   },
   "outputs": [],
   "source": [
    "assert step2(1, 2, 2) == -1"
   ]
  },
  {
   "cell_type": "code",
   "execution_count": 5,
   "id": "65eac786",
   "metadata": {
    "deletable": false,
    "editable": false,
    "nbgrader": {
     "cell_type": "code",
     "checksum": "3d72d28f67e2610ef510dd7f64dde5dd",
     "grade": true,
     "grade_id": "cell-b2302a1039a126d1",
     "locked": true,
     "points": 1,
     "schema_version": 3,
     "solution": false,
     "task": false
    }
   },
   "outputs": [],
   "source": [
    "assert step2(1, 1, 1) == -1"
   ]
  },
  {
   "cell_type": "code",
   "execution_count": 6,
   "id": "1c10ef79",
   "metadata": {
    "deletable": false,
    "editable": false,
    "nbgrader": {
     "cell_type": "code",
     "checksum": "b0b0e925e5cd962c339a3db9f811216f",
     "grade": true,
     "grade_id": "cell-69ffab8c4172b28f",
     "locked": true,
     "points": 1,
     "schema_version": 3,
     "solution": false,
     "task": false
    }
   },
   "outputs": [],
   "source": [
    "assert np.isclose(step2(-1, 1, 0.2), 0.9160797831)"
   ]
  },
  {
   "cell_type": "code",
   "execution_count": 7,
   "id": "43818d30",
   "metadata": {
    "deletable": false,
    "editable": false,
    "nbgrader": {
     "cell_type": "code",
     "checksum": "6445a4319d7c3a03f40a114d959e24cc",
     "grade": true,
     "grade_id": "cell-fc293f38621a5d12",
     "locked": true,
     "points": 2,
     "schema_version": 3,
     "solution": false,
     "task": false
    }
   },
   "outputs": [],
   "source": [
    "# Um teste mais difícil, não se preocupe muito se não passar\n",
    "assert np.isclose(step2(-1,  1, -0.2), 1.1270166538)\n",
    "assert np.isclose(step2( 1, -1,  0.2), 1.1270166538)"
   ]
  },
  {
   "cell_type": "markdown",
   "id": "b9055e88",
   "metadata": {},
   "source": [
    "Explique porque os passos dos dois `assert`s da última caixa devem ser iguais."
   ]
  },
  {
   "cell_type": "markdown",
   "id": "f296fe7b",
   "metadata": {
    "deletable": false,
    "nbgrader": {
     "cell_type": "markdown",
     "checksum": "97b58cb65d5457f6222c156258334819",
     "grade": true,
     "grade_id": "cell-fb2903f8d26c749a",
     "locked": false,
     "points": 2,
     "schema_version": 3,
     "solution": true,
     "task": false
    }
   },
   "source": [
    "Por que as parábolas $ax^2 + bx + c = 0$ definidas por $a = v_2/2$, $b = v_1$ e $c = v_0$, acima, têm os mesmos zeros."
   ]
  },
  {
   "cell_type": "markdown",
   "id": "abfbffce",
   "metadata": {},
   "source": [
    "## Questão 3: Newton\n",
    "\n",
    "Dê, abaixo, o método de Newton, e também o método de \"Newton com segunda derivada\",\n",
    "retornando a lista de todos os pontos visitados a partir de `x0`, inclusive.\n",
    "\n",
    "O critério de parada será, para os dois, quando o tamanho do passo, _relativo ao ponto atual_,\n",
    "for menor do que a precisão indicada por `reltol`.\n",
    "(mas agora que você já calculou o passo, use-o, não custa quase nada!)"
   ]
  },
  {
   "cell_type": "code",
   "execution_count": 8,
   "id": "27d92c0a",
   "metadata": {
    "deletable": false,
    "nbgrader": {
     "cell_type": "code",
     "checksum": "3b6b3e59db6694f6d07e8b3a6cbb7052",
     "grade": false,
     "grade_id": "cell-264ce61ca8c80f59",
     "locked": false,
     "schema_version": 3,
     "solution": true,
     "task": false
    }
   },
   "outputs": [],
   "source": [
    "def newton(f, df, x0, maxsteps=100, reltol=1e-12):\n",
    "    res = [x0]\n",
    "    while len(res) <= maxsteps:\n",
    "        x = res[-1] - f(res[-1])/df(res[-1])\n",
    "        res.append(x)\n",
    "        if len(res) > 1 and np.abs((res[-1] - res[-2])/res[-1]) < reltol:\n",
    "            return res\n",
    "    return res\n",
    "\n",
    "def newton2(f, df, ddf, x0, maxsteps=100, reltol=1e-12):\n",
    "    res = [x0]\n",
    "    while len(res) <= maxsteps:\n",
    "        x = res[-1] + step2(f(res[-1]), df(res[-1]), ddf(res[-1]))\n",
    "        res.append(x)\n",
    "        if len(res) > 1 and np.abs((res[-1] - res[-2])/res[-1]) < reltol:\n",
    "            return res\n",
    "    return res"
   ]
  },
  {
   "cell_type": "code",
   "execution_count": 9,
   "id": "2936daad",
   "metadata": {
    "deletable": false,
    "editable": false,
    "nbgrader": {
     "cell_type": "code",
     "checksum": "9eff0073d8cbd5e730f853ca465f28c4",
     "grade": true,
     "grade_id": "cell-9327782a544e9d2d",
     "locked": true,
     "points": 1,
     "schema_version": 3,
     "solution": false,
     "task": false
    }
   },
   "outputs": [],
   "source": [
    "xs_newton = newton(lambda x: np.exp(x) - 10, np.exp, 1)\n",
    "\n",
    "assert len(xs_newton) == 9\n",
    "assert veryclose(np.exp(xs_newton[-1]), 10)"
   ]
  },
  {
   "cell_type": "code",
   "execution_count": 10,
   "id": "ba685bbf",
   "metadata": {
    "deletable": false,
    "editable": false,
    "nbgrader": {
     "cell_type": "code",
     "checksum": "48cc1ed65b387c58e43953f51e03ffc1",
     "grade": true,
     "grade_id": "cell-949cf7f0fae1c508",
     "locked": true,
     "points": 2,
     "schema_version": 3,
     "solution": false,
     "task": false
    }
   },
   "outputs": [],
   "source": [
    "xs_newton2 = newton2(lambda x: np.exp(x) - 10, np.exp, np.exp, 1, maxsteps=10)\n",
    "\n",
    "assert len(xs_newton2) == 6\n",
    "assert veryclose(np.exp(xs_newton2[-1]), 10)"
   ]
  },
  {
   "cell_type": "markdown",
   "id": "7c854956",
   "metadata": {},
   "source": [
    "Faça, agora, o gráfico do erro para cada um dos métodos ao calcular uma raiz de $e^x = 10$:"
   ]
  },
  {
   "cell_type": "code",
   "execution_count": 11,
   "id": "c1fd8351",
   "metadata": {
    "deletable": false,
    "nbgrader": {
     "cell_type": "code",
     "checksum": "e08a7f32d8380ed354fb49d542962832",
     "grade": true,
     "grade_id": "cell-6d7cc8754f880790",
     "locked": false,
     "points": 1,
     "schema_version": 3,
     "solution": true,
     "task": false
    }
   },
   "outputs": [
    {
     "data": {
      "image/png": "[encoded data removed]",
      "text/plain": [
       "<Figure size 640x480 with 1 Axes>"
      ]
     },
     "metadata": {},
     "output_type": "display_data"
    }
   ],
   "source": [
    "def f(x):\n",
    "    return np.exp(x) - 10\n",
    "\n",
    "def df(x):\n",
    "    return np.exp(x)\n",
    "\n",
    "def ddf(x):\n",
    "    return np.exp(x)\n",
    "\n",
    "ans = 2.302585092994046 # Esse é o ln(10)\n",
    "\n",
    "error_newton = np.abs(np.array(newton(f, df, 3)) - ans)\n",
    "error_newton2 = np.abs(np.array(newton2(f, df, ddf, 3)) - ans)\n",
    "\n",
    "plt.semilogy(range(len(error_newton)), error_newton, label=\"Erro Método de Newton 1-Derivada\")\n",
    "plt.semilogy(range(len(error_newton2)), error_newton2, label=\"Erro Método de Newton 2-Derivadas\")\n",
    "plt.title(\"Comparação Método de Newton com 1 e 2 Derivadas\")\n",
    "plt.legend()\n",
    "\n",
    "ax = plt.gca()"
   ]
  },
  {
   "cell_type": "code",
   "execution_count": 12,
   "id": "241861cc",
   "metadata": {
    "deletable": false,
    "editable": false,
    "nbgrader": {
     "cell_type": "code",
     "checksum": "65375a035ec9003ffb025cc3f74f7a43",
     "grade": true,
     "grade_id": "cell-2b52386f58872ca9",
     "locked": true,
     "points": 2,
     "schema_version": 3,
     "solution": false,
     "task": false
    }
   },
   "outputs": [],
   "source": [
    "assert len(ax.lines) == 2\n",
    "assert len(ax.get_legend().texts) == 2\n",
    "assert len(ax.get_title()) >= 10"
   ]
  },
  {
   "cell_type": "markdown",
   "id": "1f02832f",
   "metadata": {},
   "source": [
    "Este resultado é esperado? Comente"
   ]
  },
  {
   "cell_type": "markdown",
   "id": "22e6ad75",
   "metadata": {
    "deletable": false,
    "nbgrader": {
     "cell_type": "markdown",
     "checksum": "f877c69cc91b968480368baf827aba62",
     "grade": true,
     "grade_id": "cell-4fd0e8f2ccb2e43c",
     "locked": false,
     "points": 2,
     "schema_version": 3,
     "solution": true,
     "task": false
    }
   },
   "source": [
    "Esse resultado é esperado.\n",
    "\n",
    "Pode-se ver que o Método de Newton com duas derivadas é mais rápido na sua convergência e, apesar de o Método de Newton com uma derivada ter chegado no valor exato, isso se trata mais de detalhes de implementação do que em eficiência do Método.\n",
    "\n",
    "Isso ocorre porque com a aproximação com duas derivadas, o erro de ajuste da função é menor do que com a aproximação com apenas uma derivada. Buscando valores de $x$ dentro da vizinhança do $x_0$, garantimos o bom comportamento da função e aproximações com erros cada vez menores."
   ]
  },
  {
   "cell_type": "markdown",
   "id": "aea1ed9a",
   "metadata": {},
   "source": [
    "Ambos os métodos fizeram uma iteração que \"não saiu do lugar\".\n",
    "Explique porque eles não pararam na iteração anterior."
   ]
  },
  {
   "cell_type": "markdown",
   "id": "cfff06ab",
   "metadata": {
    "deletable": false,
    "nbgrader": {
     "cell_type": "markdown",
     "checksum": "0ee7dd54589cffb32b8a6bade352a615",
     "grade": true,
     "grade_id": "cell-316e64d6bc0f25de",
     "locked": false,
     "points": 2,
     "schema_version": 3,
     "solution": true,
     "task": false
    }
   },
   "source": [
    "Isso ocorre porque os métodos têm como regra de parada a diferença entre o valor obtido na iteração e na iteração anterior. Se esse erro for baixo o suficiente, o método para. Entretanto, nenhum dos métodos sabe de antemão qual é o resultado, apenas sabe que se a diferença entre duas iterações é muito baixa, então é hora de parar. E, para isso, ela precisa de um valor base de comparação que é dado pela própria iteração anterior."
   ]
  },
  {
   "cell_type": "markdown",
   "id": "84e04854",
   "metadata": {},
   "source": [
    "## Questão 4: Uma outra função\n",
    "\n",
    "Use ambos os métodos para encontrar uma raiz de $xe^x = 10$."
   ]
  },
  {
   "cell_type": "markdown",
   "id": "693ba1db",
   "metadata": {},
   "source": [
    "Dê, abaixo, as funções auxiliares:"
   ]
  },
  {
   "cell_type": "code",
   "execution_count": 13,
   "id": "3a921b2f",
   "metadata": {
    "deletable": false,
    "nbgrader": {
     "cell_type": "code",
     "checksum": "317ea465fcde13eb68b7174ae59da533",
     "grade": true,
     "grade_id": "cell-65a42b59031ca11f",
     "locked": false,
     "points": 2,
     "schema_version": 3,
     "solution": true,
     "task": false
    }
   },
   "outputs": [],
   "source": [
    "def g(x):\n",
    "    return x * np.exp(x) - 10\n",
    "\n",
    "def dg(x):\n",
    "    return np.exp(x) + x * np.exp(x)\n",
    "\n",
    "def ddg(x):\n",
    "    return 2 * np.exp(x) + x * np.exp(x)\n"
   ]
  },
  {
   "cell_type": "markdown",
   "id": "ffbab7b9",
   "metadata": {},
   "source": [
    "Agora, calcule os pontos gerados por ambos os métodos, começando a partir de $x_0 = 1$:"
   ]
  },
  {
   "cell_type": "code",
   "execution_count": 15,
   "id": "a496225b",
   "metadata": {
    "deletable": false,
    "nbgrader": {
     "cell_type": "code",
     "checksum": "b30495ba1ed87b69d2b82937fb4d4115",
     "grade": true,
     "grade_id": "cell-c4a3ec88a088c959",
     "locked": false,
     "points": 1,
     "schema_version": 3,
     "solution": true,
     "task": false
    }
   },
   "outputs": [],
   "source": [
    "xx_newton = np.array(newton(g, dg, 1))\n",
    "xx_newton2 = np.array(newton2(g, dg, ddg, 1))\n",
    "\n",
    "yy_newton = g(xx_newton)\n",
    "yy_newton2 = g(xx_newton2)"
   ]
  },
  {
   "cell_type": "markdown",
   "id": "d5ba7d88",
   "metadata": {},
   "source": [
    "Faça o gráfico do erro \"em $y$\", ou seja, o quanto a equação está errada (já que não temos a solução analítica)."
   ]
  },
  {
   "cell_type": "code",
   "execution_count": 16,
   "id": "bff29dfe",
   "metadata": {
    "deletable": false,
    "nbgrader": {
     "cell_type": "code",
     "checksum": "2dd0b3d2e991b5a1c14d83717ce5d57f",
     "grade": true,
     "grade_id": "cell-118462d327941696",
     "locked": false,
     "points": 1,
     "schema_version": 3,
     "solution": true,
     "task": false
    }
   },
   "outputs": [
    {
     "data": {
      "image/png": "[encoded data removed]",
      "text/plain": [
       "<Figure size 640x480 with 1 Axes>"
      ]
     },
     "metadata": {},
     "output_type": "display_data"
    }
   ],
   "source": [
    "# O valor do erro em Y é o valor da própria função nos pontos retornados por Newton, em absoluto\n",
    "\n",
    "plt.plot(range(len(yy_newton)), np.abs(yy_newton), label=\"Newton 1-Derivada\")\n",
    "plt.plot(range(len(yy_newton2)), np.abs(yy_newton2), label=\"Newton 2-Derivadas\")\n",
    "plt.title(\"Comparação do Erro em Y do Método de Newton com 1 e 2 Derivadas\")\n",
    "plt.grid()\n",
    "plt.legend()\n",
    "ax = plt.gca()"
   ]
  },
  {
   "cell_type": "code",
   "execution_count": 17,
   "id": "8c53258d",
   "metadata": {
    "deletable": false,
    "editable": false,
    "nbgrader": {
     "cell_type": "code",
     "checksum": "2c29d1462e194f5639cb4c3f600b6d05",
     "grade": true,
     "grade_id": "cell-63f0f83ba7ab13ad",
     "locked": true,
     "points": 2,
     "schema_version": 3,
     "solution": false,
     "task": false
    }
   },
   "outputs": [],
   "source": [
    "assert len(ax.lines) == 2\n",
    "assert len(ax.get_legend().texts) == 2\n",
    "assert len(ax.get_title()) >= 10"
   ]
  },
  {
   "cell_type": "markdown",
   "id": "94f01ffe",
   "metadata": {},
   "source": [
    "Comente, novamente, os resultados, indicando eventuais semelhanças e diferenças com o caso anterior."
   ]
  },
  {
   "cell_type": "markdown",
   "id": "706c8bf9",
   "metadata": {
    "deletable": false,
    "nbgrader": {
     "cell_type": "markdown",
     "checksum": "cd069e46692cdf95ee5b0e03b25f118d",
     "grade": true,
     "grade_id": "cell-30ab5b3b33bf5794",
     "locked": false,
     "points": 2,
     "schema_version": 3,
     "solution": true,
     "task": false
    }
   },
   "source": [
    "Nesse caso fica bem claro que o Método com Duas Derivadas se aproxima bem mais rápido do que o Método com uma única derivada (ou seja, o Método de Newton original). Novamente o motivo é o mesmo do que no caso anterior - como a função é bem comportada (duas vezes derivável), a Série de Taylor de maior grau possui um erro menor, em uma vizinhança dos pontos de aproximação, permitindo uma descida ao zero mais eficiente no Método de Newton com duas derivadas."
   ]
  },
  {
   "cell_type": "markdown",
   "id": "fe6ae768",
   "metadata": {},
   "source": [
    "# Parte 2: Calculando integrais\n",
    "\n",
    "Dê, abaixo, os métodos do retângulo, trapézio e ponto médio."
   ]
  },
  {
   "cell_type": "code",
   "execution_count": 18,
   "id": "3190ed90",
   "metadata": {
    "deletable": false,
    "nbgrader": {
     "cell_type": "code",
     "checksum": "79ad0690fbf4c594bd69e78238b3a099",
     "grade": false,
     "grade_id": "cell-6646cdaab8c2a5db",
     "locked": false,
     "schema_version": 3,
     "solution": true,
     "task": false
    }
   },
   "outputs": [],
   "source": [
    "def rectangle(f, a, b, n=100):\n",
    "    h = (b - a) / n\n",
    "    particao = np.arange(a, b, h)\n",
    "    return np.sum(f(particao) * h)\n",
    "\n",
    "def trap(f, a, b, n=100):\n",
    "    h = (b - a) / n\n",
    "    particao_inicio = np.arange(a, b, h)\n",
    "    particao_fim = particao_inicio + h\n",
    "    return np.sum(((f(particao_inicio) + f(particao_fim))/2)*h)\n",
    "\n",
    "def midpoint(f, a, b, n=100):\n",
    "    h = (b - a) / n\n",
    "    particao_inicio = np.arange(a, b, h)\n",
    "    particao_fim = particao_inicio + h\n",
    "    return np.sum(f((particao_inicio + particao_fim)/2)*h)\n",
    "\n",
    "methods = [rectangle, trap, midpoint]"
   ]
  },
  {
   "cell_type": "code",
   "execution_count": 19,
   "id": "cc5fe709",
   "metadata": {
    "deletable": false,
    "editable": false,
    "nbgrader": {
     "cell_type": "code",
     "checksum": "8b3cc2139caafc65b1d3918af79dd953",
     "grade": true,
     "grade_id": "cell-41405d9df59e0bb4",
     "locked": true,
     "points": 1,
     "schema_version": 3,
     "solution": false,
     "task": false
    }
   },
   "outputs": [],
   "source": [
    "assert not np.isclose(rectangle(np.sin, 0, 1), 1 - np.cos(1))"
   ]
  },
  {
   "cell_type": "code",
   "execution_count": 20,
   "id": "35362d02",
   "metadata": {
    "deletable": false,
    "editable": false,
    "nbgrader": {
     "cell_type": "code",
     "checksum": "18d90554561f57e90235ded379654d4f",
     "grade": true,
     "grade_id": "cell-5c0c17d184701790",
     "locked": true,
     "points": 1,
     "schema_version": 3,
     "solution": false,
     "task": false
    }
   },
   "outputs": [],
   "source": [
    "assert np.isclose(trap(np.sin, 0, 1), 1 - np.cos(1))"
   ]
  },
  {
   "cell_type": "code",
   "execution_count": 21,
   "id": "b465e5dd",
   "metadata": {
    "deletable": false,
    "editable": false,
    "nbgrader": {
     "cell_type": "code",
     "checksum": "f45d7a0674088012bdc68277d16d5922",
     "grade": true,
     "grade_id": "cell-c47c5abdc253b47f",
     "locked": true,
     "points": 1,
     "schema_version": 3,
     "solution": false,
     "task": false
    }
   },
   "outputs": [],
   "source": [
    "assert np.isclose(midpoint(np.sin, 0, 1), 1 - np.cos(1))"
   ]
  },
  {
   "cell_type": "markdown",
   "id": "7dc54b97",
   "metadata": {},
   "source": [
    "## Questão 5: Integrando o cosseno\n",
    "\n",
    "Faça o gráfico do erro de integração da função cosseno, no intervalo $[0, 2\\pi]$,\n",
    "para $n$ indo de $1$ até $30$,\n",
    "para cada um dos métodos."
   ]
  },
  {
   "cell_type": "code",
   "execution_count": 36,
   "id": "a51ac04c",
   "metadata": {
    "deletable": false,
    "nbgrader": {
     "cell_type": "code",
     "checksum": "73bc54602b9f541e043a473774ec57f8",
     "grade": true,
     "grade_id": "cell-b7c228dcf602cf4c",
     "locked": false,
     "points": 1,
     "schema_version": 3,
     "solution": true,
     "task": false
    }
   },
   "outputs": [
    {
     "data": {
      "image/png": "[encoded data removed]",
      "text/plain": [
       "<Figure size 640x480 with 1 Axes>"
      ]
     },
     "metadata": {},
     "output_type": "display_data"
    }
   ],
   "source": [
    "ns = range(1,30+1)\n",
    "\n",
    "# Obs.: A integral do cosseno de [0, 2pi] é igual a ZERO.\n",
    "f = np.cos\n",
    "ans = 0\n",
    "for m in methods:\n",
    "    integrais = np.array([m(f, 0, 2 * np.pi, n) for n in ns])\n",
    "    plt.semilogy(ns, np.abs(integrais-ans), label=\"Error do Método: {}\".format(m.__name__))\n",
    "plt.title(\"Análise dos erros de integração numérica de cos(x) entre [0,2$\\\\pi$]\")\n",
    "plt.xlabel(\"Número de segmentos (n)\")\n",
    "plt.ylabel(\"Erro\")\n",
    "plt.grid()\n",
    "plt.legend()\n",
    "ax = plt.gca()"
   ]
  },
  {
   "cell_type": "code",
   "execution_count": 37,
   "id": "46e4f729",
   "metadata": {
    "deletable": false,
    "editable": false,
    "nbgrader": {
     "cell_type": "code",
     "checksum": "fbfa4ce5924a34026d1dcf41fd59daa1",
     "grade": true,
     "grade_id": "cell-8ddf9cb69ab238cd",
     "locked": true,
     "points": 2,
     "schema_version": 3,
     "solution": false,
     "task": false
    }
   },
   "outputs": [],
   "source": [
    "assert len(ax.lines) == 3\n",
    "assert len(ax.get_legend().texts) == 3\n",
    "assert len(ax.get_title()) >= 10\n",
    "assert len(ax.get_xlabel()) > 5"
   ]
  },
  {
   "cell_type": "markdown",
   "id": "c8850ff8",
   "metadata": {},
   "source": [
    "O que você percebe neste gráfico?  Como você explica?"
   ]
  },
  {
   "cell_type": "markdown",
   "id": "0facf93d",
   "metadata": {
    "deletable": false,
    "nbgrader": {
     "cell_type": "markdown",
     "checksum": "2ffa96d83a3309297169eff5686f1948",
     "grade": true,
     "grade_id": "cell-75138020e41412f4",
     "locked": false,
     "points": 2,
     "schema_version": 3,
     "solution": true,
     "task": false
    }
   },
   "source": [
    "Em todos os métodos a converência é muito rápida, caindo todos os erros para truncamento numérico muito rápido. Isso ocorre porque a integral dada no intervalo é simétrica em valores positivos e negativos e simétrica em relação aos segmentos calculados, sempre o erro positivo compensando o erro negativo entre os intervalos."
   ]
  },
  {
   "cell_type": "markdown",
   "id": "3dcc9ff7",
   "metadata": {},
   "source": [
    "Repita para o intervalo $[0, \\pi]$.\n",
    "Agora, faça cada método em uma figura separada:"
   ]
  },
  {
   "cell_type": "code",
   "execution_count": 47,
   "id": "6967df9b",
   "metadata": {
    "deletable": false,
    "nbgrader": {
     "cell_type": "code",
     "checksum": "a004261fa47a657c7c84a6fbb8ab98ab",
     "grade": true,
     "grade_id": "cell-d394353c80c0ec61",
     "locked": false,
     "points": 1,
     "schema_version": 3,
     "solution": true,
     "task": false
    }
   },
   "outputs": [
    {
     "data": {
      "image/png": "[encoded data removed]",
      "text/plain": [
       "<Figure size 1400x400 with 3 Axes>"
      ]
     },
     "metadata": {},
     "output_type": "display_data"
    }
   ],
   "source": [
    "fig, axs = plt.subplots(ncols=3, figsize=(14,4))\n",
    "\n",
    "ns = range(1,30+1)\n",
    "\n",
    "# Obs.: A integral do cosseno de [0, 2pi] é igual a ZERO.\n",
    "f = np.cos\n",
    "ans = 0\n",
    "for m,ax in zip(methods, axs):\n",
    "    integrais = np.array([m(f, 0, np.pi, n) for n in ns])\n",
    "    ax.semilogy(ns, np.abs(integrais-ans), label=\"Error do Método: {}\".format(m.__name__))\n",
    "    ax.set_title(\"Análise dos erros cos(x) entre [0,$\\\\pi$]\")\n",
    "    ax.legend()\n",
    "ax = plt.gca()"
   ]
  },
  {
   "cell_type": "code",
   "execution_count": 46,
   "id": "8ad6d3fe",
   "metadata": {
    "deletable": false,
    "editable": false,
    "nbgrader": {
     "cell_type": "code",
     "checksum": "6d0416ba0ef94247a462f46ee620a076",
     "grade": true,
     "grade_id": "cell-3c16f3e64c8e6bd8",
     "locked": true,
     "points": 1,
     "schema_version": 3,
     "solution": false,
     "task": false
    }
   },
   "outputs": [],
   "source": [
    "for ax in axs:\n",
    "    assert len(ax.lines) == 1\n",
    "    assert len(ax.get_title()) >= 1"
   ]
  },
  {
   "cell_type": "markdown",
   "id": "fae8bd13",
   "metadata": {},
   "source": [
    "Comente as semelhanças e diferenças do caso anterior."
   ]
  },
  {
   "cell_type": "markdown",
   "id": "22db5598",
   "metadata": {
    "deletable": false,
    "nbgrader": {
     "cell_type": "markdown",
     "checksum": "d602b3dd74e899baf89a82e0b57983b6",
     "grade": true,
     "grade_id": "cell-0f5150ad9c4996d5",
     "locked": false,
     "points": 2,
     "schema_version": 3,
     "solution": true,
     "task": false
    }
   },
   "source": [
    "O erro no método do Trapéxio e do MidPoint convergiram muito rapido, dada a simetria desses métodos, enquanto o método do retangulo, que não se utiliza da redução dos erros pelas simetrias dos intervalos, ficando o erro bruto do retângulo em cada segmento."
   ]
  },
  {
   "cell_type": "markdown",
   "id": "54845d61",
   "metadata": {},
   "source": [
    "Qual a velocidade de convergência de cada um dos métodos para a integral no intervalo $[0, \\pi]$?"
   ]
  },
  {
   "cell_type": "markdown",
   "id": "2b950ae0",
   "metadata": {
    "deletable": false,
    "nbgrader": {
     "cell_type": "markdown",
     "checksum": "44d4d3dc82e4eedb083a449a9f5c9b11",
     "grade": true,
     "grade_id": "cell-8f6d79fe95d1aee6",
     "locked": false,
     "points": 2,
     "schema_version": 3,
     "solution": true,
     "task": false
    }
   },
   "source": [
    "YOUR ANSWER HERE"
   ]
  },
  {
   "cell_type": "markdown",
   "id": "6bd65399",
   "metadata": {},
   "source": [
    "## Questão 6: Uma outra função\n",
    "\n",
    "Calcule a integral de $\\frac{1}{2 + \\cos(x)}$ no intervalo $[0, 2\\pi]$, com cada um dos métodos,\n",
    "e faça novamente o gráfico do erro em função do número de subdivisões."
   ]
  },
  {
   "cell_type": "code",
   "execution_count": null,
   "id": "e6eab22f",
   "metadata": {
    "deletable": false,
    "nbgrader": {
     "cell_type": "code",
     "checksum": "3250782f580d825ee3d44212a95d8261",
     "grade": true,
     "grade_id": "cell-6aa25fcc7c4c73db",
     "locked": false,
     "points": 1,
     "schema_version": 3,
     "solution": true,
     "task": false
    }
   },
   "outputs": [],
   "source": [
    "# YOUR CODE HERE\n",
    "raise NotImplementedError()\n",
    "ax = plt.gca()"
   ]
  },
  {
   "cell_type": "code",
   "execution_count": null,
   "id": "04986c64",
   "metadata": {
    "deletable": false,
    "editable": false,
    "nbgrader": {
     "cell_type": "code",
     "checksum": "c01110a23beeab3c4fc2ce41c49e464e",
     "grade": true,
     "grade_id": "cell-c995335cfa51fa83",
     "locked": true,
     "points": 1,
     "schema_version": 3,
     "solution": false,
     "task": false
    }
   },
   "outputs": [],
   "source": [
    "assert len(ax.lines) == 3\n",
    "assert len(ax.get_legend().texts) == 3\n",
    "assert len(ax.get_title()) >= 10\n",
    "assert len(ax.get_xlabel()) > 5"
   ]
  },
  {
   "cell_type": "markdown",
   "id": "9ea3e45b",
   "metadata": {},
   "source": [
    "* Qual a velocidade de convergência de cada um dos métodos?\n",
    "* Qual método parece ser mais rápido?"
   ]
  },
  {
   "cell_type": "markdown",
   "id": "d29fb218",
   "metadata": {
    "deletable": false,
    "nbgrader": {
     "cell_type": "markdown",
     "checksum": "8c16d6798b4789590bbbc2ba85327ff2",
     "grade": true,
     "grade_id": "cell-4406dd63ef32d681",
     "locked": false,
     "points": 2,
     "schema_version": 3,
     "solution": true,
     "task": false
    }
   },
   "source": [
    "YOUR ANSWER HERE"
   ]
  },
  {
   "cell_type": "markdown",
   "id": "68e821db",
   "metadata": {},
   "source": [
    "Agora, repita para o intervalo $[0, \\pi/2]$."
   ]
  },
  {
   "cell_type": "code",
   "execution_count": null,
   "id": "7662142d",
   "metadata": {
    "deletable": false,
    "nbgrader": {
     "cell_type": "code",
     "checksum": "d9aeb141eb48917d79e33fc4636dc22b",
     "grade": true,
     "grade_id": "cell-7763dd8ad52621f9",
     "locked": false,
     "points": 1,
     "schema_version": 3,
     "solution": true,
     "task": false
    }
   },
   "outputs": [],
   "source": [
    "# YOUR CODE HERE\n",
    "raise NotImplementedError()\n",
    "ax = plt.gca()"
   ]
  },
  {
   "cell_type": "markdown",
   "id": "f10daa91",
   "metadata": {},
   "source": [
    "Compare com os resultados para a integral no intervalo $[0, 2\\pi]$."
   ]
  },
  {
   "cell_type": "markdown",
   "id": "c0e2fd0c",
   "metadata": {
    "deletable": false,
    "nbgrader": {
     "cell_type": "markdown",
     "checksum": "f9108eee5aa8ccfa453798b6a87f9afb",
     "grade": true,
     "grade_id": "cell-ed7fb2fc425e1d54",
     "locked": false,
     "points": 2,
     "schema_version": 3,
     "solution": true,
     "task": false
    }
   },
   "source": [
    "YOUR ANSWER HERE"
   ]
  },
  {
   "cell_type": "markdown",
   "id": "ad8d4737",
   "metadata": {},
   "source": [
    "## Questão 7: E mais uma\n",
    "\n",
    "$$\\int_0^{2\\pi} \\frac{dx}{1 + 2\\cos^2(x)}$$"
   ]
  },
  {
   "cell_type": "code",
   "execution_count": null,
   "id": "9d633e08",
   "metadata": {
    "deletable": false,
    "nbgrader": {
     "cell_type": "code",
     "checksum": "39781e44d76b38ee84b31b49520b1fd5",
     "grade": true,
     "grade_id": "cell-8d533039531afa6c",
     "locked": false,
     "points": 1,
     "schema_version": 3,
     "solution": true,
     "task": false
    }
   },
   "outputs": [],
   "source": [
    "# YOUR CODE HERE\n",
    "raise NotImplementedError()\n",
    "ax = plt.gca()"
   ]
  },
  {
   "cell_type": "code",
   "execution_count": null,
   "id": "0df0d664",
   "metadata": {
    "deletable": false,
    "editable": false,
    "nbgrader": {
     "cell_type": "code",
     "checksum": "c4e9743c656d508919dd173c3e46239b",
     "grade": true,
     "grade_id": "cell-1b1fa16a62733446",
     "locked": true,
     "points": 1,
     "schema_version": 3,
     "solution": false,
     "task": false
    }
   },
   "outputs": [],
   "source": [
    "assert len(ax.lines) == 3\n",
    "assert len(ax.get_legend().texts) == 3\n",
    "assert len(ax.get_title()) >= 10\n",
    "assert len(ax.get_xlabel()) > 5"
   ]
  },
  {
   "cell_type": "markdown",
   "id": "f0f5510b",
   "metadata": {},
   "source": [
    "Compare com o que você obteve para a função $\\frac{1}{1 + 2 \\cos(x)}$:\n",
    "- O que você percebe de semelhante?\n",
    "- O que há de diferente?\n",
    "- Como você explica as diferenças e similaridades?"
   ]
  },
  {
   "cell_type": "markdown",
   "id": "f36f8f3b",
   "metadata": {
    "deletable": false,
    "nbgrader": {
     "cell_type": "markdown",
     "checksum": "89a3f4a5f95f5f4ed3c0d8237cf8ff1e",
     "grade": true,
     "grade_id": "cell-7fabf2aaecbd305c",
     "locked": false,
     "points": 2,
     "schema_version": 3,
     "solution": true,
     "task": false
    }
   },
   "source": [
    "YOUR ANSWER HERE"
   ]
  },
  {
   "cell_type": "markdown",
   "id": "1da72e5f",
   "metadata": {},
   "source": [
    "## Questão 8: A última\n",
    "\n",
    "Calcule\n",
    "\n",
    "$$\\int_0^{2\\pi} \\frac{\\sin(1999x)}{\\sin(x)}$$\n",
    "\n",
    "pelo método do ponto médio, variando o número de subdivisões entre $2$ e $2000$ como abaixo,\n",
    "e faça o gráfico do **valor da integral** ao variar $n$."
   ]
  },
  {
   "cell_type": "code",
   "execution_count": null,
   "id": "fdb1defb",
   "metadata": {
    "deletable": false,
    "nbgrader": {
     "cell_type": "code",
     "checksum": "94bc79c38871628e1054312c0c6e14e6",
     "grade": true,
     "grade_id": "cell-ca6ef8a2e7713c54",
     "locked": false,
     "points": 1,
     "schema_version": 3,
     "solution": true,
     "task": false
    }
   },
   "outputs": [],
   "source": [
    "ns = range(2,2000,2)\n",
    "\n",
    "# YOUR CODE HERE\n",
    "raise NotImplementedError()"
   ]
  },
  {
   "cell_type": "markdown",
   "id": "2a6c465a",
   "metadata": {},
   "source": [
    "O que você vê no gráfico?"
   ]
  },
  {
   "cell_type": "markdown",
   "id": "58355182",
   "metadata": {
    "deletable": false,
    "nbgrader": {
     "cell_type": "markdown",
     "checksum": "74cca2d78f68614b1d61410d9acfd279",
     "grade": true,
     "grade_id": "cell-3451bc4cd11eea06",
     "locked": false,
     "points": 2,
     "schema_version": 3,
     "solution": true,
     "task": false
    }
   },
   "source": [
    "YOUR ANSWER HERE"
   ]
  },
  {
   "cell_type": "markdown",
   "id": "1be5a3c1",
   "metadata": {},
   "source": [
    "Explique porque usar o método do ponto médio, e porque usar um número par de subdivisões."
   ]
  },
  {
   "cell_type": "markdown",
   "id": "1c3c07a1",
   "metadata": {
    "deletable": false,
    "nbgrader": {
     "cell_type": "markdown",
     "checksum": "f5a2e20cedc7228a8a46b4f25671215e",
     "grade": true,
     "grade_id": "cell-2e80fa897cedc724",
     "locked": false,
     "points": 2,
     "schema_version": 3,
     "solution": true,
     "task": false
    }
   },
   "source": [
    "YOUR ANSWER HERE"
   ]
  },
  {
   "cell_type": "markdown",
   "id": "d42368cd",
   "metadata": {},
   "source": [
    "### Bônus\n",
    "\n",
    "Como você faria para ter certeza do valor correto da integral?\n",
    "Explique suas ideias abaixo, e faça contas, se desejar, na caixa seguinte."
   ]
  },
  {
   "cell_type": "markdown",
   "id": "1ae119d8",
   "metadata": {
    "deletable": false,
    "nbgrader": {
     "cell_type": "markdown",
     "checksum": "8aa8ce2ab61e625cbb481eab6a587200",
     "grade": true,
     "grade_id": "cell-da1f14da005b0ca7",
     "locked": false,
     "points": 2,
     "schema_version": 3,
     "solution": true,
     "task": false
    }
   },
   "source": [
    "YOUR ANSWER HERE"
   ]
  },
  {
   "cell_type": "code",
   "execution_count": null,
   "id": "107170ed",
   "metadata": {
    "deletable": false,
    "nbgrader": {
     "cell_type": "code",
     "checksum": "f65b7c3074f70a8f5cc68db64b2e5340",
     "grade": true,
     "grade_id": "cell-c7f2efffbad52e81",
     "locked": false,
     "points": 1,
     "schema_version": 3,
     "solution": true,
     "task": false
    }
   },
   "outputs": [],
   "source": [
    "# YOUR CODE HERE\n",
    "raise NotImplementedError()"
   ]
  }
 ],
 "metadata": {
  "kernelspec": {
   "display_name": "Python 3 (ipykernel)",
   "language": "python",
   "name": "python3"
  },
  "language_info": {
   "codemirror_mode": {
    "name": "ipython",
    "version": 3
   },
   "file_extension": ".py",
   "mimetype": "text/x-python",
   "name": "python",
   "nbconvert_exporter": "python",
   "pygments_lexer": "ipython3",
   "version": "3.10.6"
  }
 },
 "nbformat": 4,
 "nbformat_minor": 5
}

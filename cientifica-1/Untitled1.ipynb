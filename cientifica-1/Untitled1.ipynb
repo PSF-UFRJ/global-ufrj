{
 "cells": [
  {
   "cell_type": "code",
   "execution_count": 1,
   "id": "2568b384",
   "metadata": {},
   "outputs": [],
   "source": [
    "import numpy as np\n",
    "import matplotlib.pyplot as plt\n",
    "\n",
    "def make_interval(i,e, step=1):\n",
    "    r = np.arange(i, e, step)\n",
    "    if(r[-1] < e):\n",
    "        r = np.append(r, e)\n",
    "    return r\n"
   ]
  },
  {
   "cell_type": "code",
   "execution_count": 3,
   "id": "90834ee4",
   "metadata": {},
   "outputs": [],
   "source": [
    "interval = [0, 1.5, 3]\n",
    "sin_res = np.sin(interval)"
   ]
  },
  {
   "cell_type": "code",
   "execution_count": 5,
   "id": "de8ea431",
   "metadata": {},
   "outputs": [
    {
     "data": {
      "text/plain": [
       "array([0.        , 0.99749499, 0.14112001])"
      ]
     },
     "execution_count": 5,
     "metadata": {},
     "output_type": "execute_result"
    }
   ],
   "source": [
    "sin_res"
   ]
  },
  {
   "cell_type": "code",
   "execution_count": null,
   "id": "c2877596",
   "metadata": {},
   "outputs": [],
   "source": []
  }
 ],
 "metadata": {
  "kernelspec": {
   "display_name": "Python 3 (ipykernel)",
   "language": "python",
   "name": "python3"
  },
  "language_info": {
   "codemirror_mode": {
    "name": "ipython",
    "version": 3
   },
   "file_extension": ".py",
   "mimetype": "text/x-python",
   "name": "python",
   "nbconvert_exporter": "python",
   "pygments_lexer": "ipython3",
   "version": "3.10.6"
  }
 },
 "nbformat": 4,
 "nbformat_minor": 5
}
